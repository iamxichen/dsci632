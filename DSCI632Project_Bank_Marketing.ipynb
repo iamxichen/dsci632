{
  "nbformat": 4,
  "nbformat_minor": 0,
  "metadata": {
    "colab": {
      "name": "DSCI632Project - Bank Marketing.ipynb",
      "provenance": [],
      "collapsed_sections": [
        "4gW_xRYjrsCL"
      ]
    },
    "kernelspec": {
      "name": "python3",
      "display_name": "Python 3"
    },
    "language_info": {
      "name": "python"
    }
  },
  "cells": [
    {
      "cell_type": "markdown",
      "source": [
        "# Predicting the Success of Bank Telemarketing\n",
        "\n",
        "DSCI 632  \n",
        "Atheer Albarqi  \n",
        "Xi Chen  \n",
        "Emily Wang  \n",
        "\n",
        "## 1. Introduction\n",
        "\n",
        "Companies often conduct marketing campaigns to attract new customers and grow their business. Direct marketing is used by businesses to reach certain categories of customers to meet specific goals. One of the most widely used campaign channel is the telephone, which is called telemarketing. This project focuses on telemarketing phone calls to sell long-term deposits. Within a campaign, the human agents execute phone calls to a list of clients to sell the deposit (outbound), or, if the client calls the contact center for any other reason, they are asked to subscribe to the deposit (inbound).\n",
        "\n",
        "Technology can allow companies to rethink marketing through the analysis of data to build longer and tighter relations in line with company needs. Machine learning techniques can therefore be used to support managerial decision making.\n",
        "\n",
        "## 2. Objective\n",
        "\n",
        "In this project, we will develop classification algorithm that can automatically predict the results of a phone call to sell long term deposits by using a machine learning approach.\n",
        "\n",
        "## 3. Potential Users and Applications\n",
        "\n",
        "The results from the machine learning model would be valuable for managers in making decisions on prioritizing and selecting the next customers to be contacted during future marketing campaigns. For instance, the probability of success of the current campaign can help the business decide how many customers to contact in the next campaign, making the campaigns more effective and reducing the time and costs of such campaigns.\n",
        "\n",
        "## 4. Related Work\n",
        "\n",
        "This study is inspired by the research paper by Moro et al., where the researchers used a similar dataset to determine the success of bank telemarketing in selling bank long-term deposits.\n",
        "\n",
        "Another inspiration is the project by Palaniappan et al., whose aim is to help banks increase their accuracy of customer profiling through classification as well as to identify a high probability group of customers to subscribe to a long-term deposit.\n",
        "\n",
        "## 5. Dataset and Methods\n",
        "\n",
        "### 5.1. Dataset\n",
        "\n",
        "The dataset is published by UCI Machine Learning Repository (https://archive.ics.uci.edu/ml/datasets/bank+marketing). It contains real data related with direct marketing campaigns (phone calls) of a Portuguese banking institution from May 2008 to June 2013. Often, more than one contact to the same client was required to assess whether the product (bank term deposit) would be subscribed. There are 41,188 examples in the dataset and 21 attributes.\n",
        "\n",
        "### 5.2 Methods\n",
        "\n",
        "In this work, we will test three binary classification models as implemented in PySpark. All data processing and analysis will be done in the PySpark environment. The classification models we will test are:\n",
        "1. __Logistic Regression__\n",
        "\n",
        "  LR is a popular choice in credit scoring because it utilizes a smooth nonlinear logistic transformation over a multiple regression model to estimate class probabilities.\n",
        "2. __Decision Tree__\n",
        "\n",
        "  The DT is a branching structure that represents a set of rules, distinguishing values in a hierarchical form. This representation can be translated into a set of IF–THEN rules, which are easy to understand by humans.\n",
        "\n",
        "## 6. Exploratory Data Analysis"
      ],
      "metadata": {
        "id": "aQTMHugctf5K"
      }
    },
    {
      "cell_type": "markdown",
      "source": [
        "### Run pyspark in Google Colab"
      ],
      "metadata": {
        "id": "7ypjJYX138XD"
      }
    },
    {
      "cell_type": "code",
      "source": [
        "# Code needed to set up the PySpark Environment in Google Colab\n",
        "\n",
        "!apt-get install openjdk-8-jdk-headless -qq > /dev/null\n",
        "!wget -q https://downloads.apache.org/spark/spark-3.0.3/spark-3.0.3-bin-hadoop2.7.tgz\n",
        "!tar xvf spark-3.0.3-bin-hadoop2.7.tgz\n",
        "import os\n",
        "os.environ[\"JAVA_HOME\"] = \"/usr/lib/jvm/java-8-openjdk-amd64\"\n",
        "os.environ[\"SPARK_HOME\"] = \"/content/spark-3.0.3-bin-hadoop2.7\"\n",
        "!pip install -q findspark\n",
        "!pip install pyspark==3.0.3\n",
        "from google.colab import drive\n",
        "drive.mount('/content/gdrive')"
      ],
      "metadata": {
        "id": "NlfIilOewcWS",
        "colab": {
          "base_uri": "https://localhost:8080/"
        },
        "outputId": "df887442-33ce-4046-8b09-e5e6f3dbed8c"
      },
      "execution_count": 1,
      "outputs": [
        {
          "output_type": "stream",
          "name": "stdout",
          "text": [
            "spark-3.0.3-bin-hadoop2.7/\n",
            "spark-3.0.3-bin-hadoop2.7/NOTICE\n",
            "spark-3.0.3-bin-hadoop2.7/kubernetes/\n",
            "spark-3.0.3-bin-hadoop2.7/kubernetes/tests/\n",
            "spark-3.0.3-bin-hadoop2.7/kubernetes/tests/worker_memory_check.py\n",
            "spark-3.0.3-bin-hadoop2.7/kubernetes/tests/py_container_checks.py\n",
            "spark-3.0.3-bin-hadoop2.7/kubernetes/tests/pyfiles.py\n",
            "spark-3.0.3-bin-hadoop2.7/kubernetes/dockerfiles/\n",
            "spark-3.0.3-bin-hadoop2.7/kubernetes/dockerfiles/spark/\n",
            "spark-3.0.3-bin-hadoop2.7/kubernetes/dockerfiles/spark/entrypoint.sh\n",
            "spark-3.0.3-bin-hadoop2.7/kubernetes/dockerfiles/spark/bindings/\n",
            "spark-3.0.3-bin-hadoop2.7/kubernetes/dockerfiles/spark/bindings/R/\n",
            "spark-3.0.3-bin-hadoop2.7/kubernetes/dockerfiles/spark/bindings/R/Dockerfile\n",
            "spark-3.0.3-bin-hadoop2.7/kubernetes/dockerfiles/spark/bindings/python/\n",
            "spark-3.0.3-bin-hadoop2.7/kubernetes/dockerfiles/spark/bindings/python/Dockerfile\n",
            "spark-3.0.3-bin-hadoop2.7/kubernetes/dockerfiles/spark/Dockerfile\n",
            "spark-3.0.3-bin-hadoop2.7/jars/\n",
            "spark-3.0.3-bin-hadoop2.7/jars/jackson-xc-1.9.13.jar\n",
            "spark-3.0.3-bin-hadoop2.7/jars/commons-digester-1.8.jar\n",
            "spark-3.0.3-bin-hadoop2.7/jars/api-util-1.0.0-M20.jar\n",
            "spark-3.0.3-bin-hadoop2.7/jars/hive-vector-code-gen-2.3.7.jar\n",
            "spark-3.0.3-bin-hadoop2.7/jars/derby-10.12.1.1.jar\n",
            "spark-3.0.3-bin-hadoop2.7/jars/commons-beanutils-1.9.4.jar\n",
            "spark-3.0.3-bin-hadoop2.7/jars/httpcore-4.4.12.jar\n",
            "spark-3.0.3-bin-hadoop2.7/jars/hadoop-yarn-api-2.7.4.jar\n",
            "spark-3.0.3-bin-hadoop2.7/jars/scala-library-2.12.10.jar\n",
            "spark-3.0.3-bin-hadoop2.7/jars/parquet-format-2.4.0.jar\n",
            "spark-3.0.3-bin-hadoop2.7/jars/kryo-shaded-4.0.2.jar\n",
            "spark-3.0.3-bin-hadoop2.7/jars/xercesImpl-2.12.0.jar\n",
            "spark-3.0.3-bin-hadoop2.7/jars/commons-logging-1.1.3.jar\n",
            "spark-3.0.3-bin-hadoop2.7/jars/okio-1.15.0.jar\n",
            "spark-3.0.3-bin-hadoop2.7/jars/commons-compiler-3.0.16.jar\n",
            "spark-3.0.3-bin-hadoop2.7/jars/jdo-api-3.0.1.jar\n",
            "spark-3.0.3-bin-hadoop2.7/jars/spire-macros_2.12-0.17.0-M1.jar\n",
            "spark-3.0.3-bin-hadoop2.7/jars/arrow-memory-0.15.1.jar\n",
            "spark-3.0.3-bin-hadoop2.7/jars/JLargeArrays-1.5.jar\n",
            "spark-3.0.3-bin-hadoop2.7/jars/jsp-api-2.1.jar\n",
            "spark-3.0.3-bin-hadoop2.7/jars/logging-interceptor-3.12.6.jar\n",
            "spark-3.0.3-bin-hadoop2.7/jars/javax.servlet-api-3.1.0.jar\n",
            "spark-3.0.3-bin-hadoop2.7/jars/jcl-over-slf4j-1.7.30.jar\n",
            "spark-3.0.3-bin-hadoop2.7/jars/hive-cli-2.3.7.jar\n",
            "spark-3.0.3-bin-hadoop2.7/jars/apacheds-i18n-2.0.0-M15.jar\n",
            "spark-3.0.3-bin-hadoop2.7/jars/parquet-common-1.10.1.jar\n",
            "spark-3.0.3-bin-hadoop2.7/jars/stax-api-1.0.1.jar\n",
            "spark-3.0.3-bin-hadoop2.7/jars/jackson-dataformat-yaml-2.10.0.jar\n",
            "spark-3.0.3-bin-hadoop2.7/jars/algebra_2.12-2.0.0-M2.jar\n",
            "spark-3.0.3-bin-hadoop2.7/jars/spark-graphx_2.12-3.0.3.jar\n",
            "spark-3.0.3-bin-hadoop2.7/jars/hadoop-annotations-2.7.4.jar\n",
            "spark-3.0.3-bin-hadoop2.7/jars/guice-servlet-3.0.jar\n",
            "spark-3.0.3-bin-hadoop2.7/jars/kubernetes-client-4.9.2.jar\n",
            "spark-3.0.3-bin-hadoop2.7/jars/spire-util_2.12-0.17.0-M1.jar\n",
            "spark-3.0.3-bin-hadoop2.7/jars/jakarta.activation-api-1.2.1.jar\n",
            "spark-3.0.3-bin-hadoop2.7/jars/spark-network-shuffle_2.12-3.0.3.jar\n",
            "spark-3.0.3-bin-hadoop2.7/jars/jline-2.14.6.jar\n",
            "spark-3.0.3-bin-hadoop2.7/jars/breeze_2.12-1.0.jar\n",
            "spark-3.0.3-bin-hadoop2.7/jars/metrics-jvm-4.1.1.jar\n",
            "spark-3.0.3-bin-hadoop2.7/jars/dropwizard-metrics-hadoop-metrics2-reporter-0.1.2.jar\n",
            "spark-3.0.3-bin-hadoop2.7/jars/spark-launcher_2.12-3.0.3.jar\n",
            "spark-3.0.3-bin-hadoop2.7/jars/machinist_2.12-0.6.8.jar\n",
            "spark-3.0.3-bin-hadoop2.7/jars/scala-compiler-2.12.10.jar\n",
            "spark-3.0.3-bin-hadoop2.7/jars/commons-pool-1.5.4.jar\n",
            "spark-3.0.3-bin-hadoop2.7/jars/arrow-format-0.15.1.jar\n",
            "spark-3.0.3-bin-hadoop2.7/jars/spark-mllib_2.12-3.0.3.jar\n",
            "spark-3.0.3-bin-hadoop2.7/jars/jta-1.1.jar\n",
            "spark-3.0.3-bin-hadoop2.7/jars/spark-yarn_2.12-3.0.3.jar\n",
            "spark-3.0.3-bin-hadoop2.7/jars/istack-commons-runtime-3.0.8.jar\n",
            "spark-3.0.3-bin-hadoop2.7/jars/metrics-graphite-4.1.1.jar\n",
            "spark-3.0.3-bin-hadoop2.7/jars/hadoop-hdfs-2.7.4.jar\n",
            "spark-3.0.3-bin-hadoop2.7/jars/commons-collections-3.2.2.jar\n",
            "spark-3.0.3-bin-hadoop2.7/jars/audience-annotations-0.5.0.jar\n",
            "spark-3.0.3-bin-hadoop2.7/jars/jpam-1.1.jar\n",
            "spark-3.0.3-bin-hadoop2.7/jars/jakarta.annotation-api-1.3.5.jar\n",
            "spark-3.0.3-bin-hadoop2.7/jars/xmlenc-0.52.jar\n",
            "spark-3.0.3-bin-hadoop2.7/jars/api-asn1-api-1.0.0-M20.jar\n",
            "spark-3.0.3-bin-hadoop2.7/jars/py4j-0.10.9.jar\n",
            "spark-3.0.3-bin-hadoop2.7/jars/hadoop-mapreduce-client-common-2.7.4.jar\n",
            "spark-3.0.3-bin-hadoop2.7/jars/spire-platform_2.12-0.17.0-M1.jar\n",
            "spark-3.0.3-bin-hadoop2.7/jars/avro-1.8.2.jar\n",
            "spark-3.0.3-bin-hadoop2.7/jars/spark-core_2.12-3.0.3.jar\n",
            "spark-3.0.3-bin-hadoop2.7/jars/curator-client-2.7.1.jar\n",
            "spark-3.0.3-bin-hadoop2.7/jars/antlr4-runtime-4.7.1.jar\n",
            "spark-3.0.3-bin-hadoop2.7/jars/javax.inject-1.jar\n",
            "spark-3.0.3-bin-hadoop2.7/jars/spark-kubernetes_2.12-3.0.3.jar\n",
            "spark-3.0.3-bin-hadoop2.7/jars/jersey-media-jaxb-2.30.jar\n",
            "spark-3.0.3-bin-hadoop2.7/jars/commons-lang3-3.9.jar\n",
            "spark-3.0.3-bin-hadoop2.7/jars/javax.jdo-3.2.0-m3.jar\n",
            "spark-3.0.3-bin-hadoop2.7/jars/hadoop-auth-2.7.4.jar\n",
            "spark-3.0.3-bin-hadoop2.7/jars/commons-io-2.4.jar\n",
            "spark-3.0.3-bin-hadoop2.7/jars/objenesis-2.5.1.jar\n",
            "spark-3.0.3-bin-hadoop2.7/jars/paranamer-2.8.jar\n",
            "spark-3.0.3-bin-hadoop2.7/jars/cats-kernel_2.12-2.0.0-M4.jar\n",
            "spark-3.0.3-bin-hadoop2.7/jars/flatbuffers-java-1.9.0.jar\n",
            "spark-3.0.3-bin-hadoop2.7/jars/jersey-server-2.30.jar\n",
            "spark-3.0.3-bin-hadoop2.7/jars/stream-2.9.6.jar\n",
            "spark-3.0.3-bin-hadoop2.7/jars/datanucleus-api-jdo-4.2.4.jar\n",
            "spark-3.0.3-bin-hadoop2.7/jars/gson-2.2.4.jar\n",
            "spark-3.0.3-bin-hadoop2.7/jars/xml-apis-1.4.01.jar\n",
            "spark-3.0.3-bin-hadoop2.7/jars/apacheds-kerberos-codec-2.0.0-M15.jar\n",
            "spark-3.0.3-bin-hadoop2.7/jars/hadoop-mapreduce-client-shuffle-2.7.4.jar\n",
            "spark-3.0.3-bin-hadoop2.7/jars/spark-hive_2.12-3.0.3.jar\n",
            "spark-3.0.3-bin-hadoop2.7/jars/hive-jdbc-2.3.7.jar\n",
            "spark-3.0.3-bin-hadoop2.7/jars/hive-exec-2.3.7-core.jar\n",
            "spark-3.0.3-bin-hadoop2.7/jars/opencsv-2.3.jar\n",
            "spark-3.0.3-bin-hadoop2.7/jars/spark-sketch_2.12-3.0.3.jar\n",
            "spark-3.0.3-bin-hadoop2.7/jars/avro-mapred-1.8.2-hadoop2.jar\n",
            "spark-3.0.3-bin-hadoop2.7/jars/jsr305-3.0.0.jar\n",
            "spark-3.0.3-bin-hadoop2.7/jars/univocity-parsers-2.9.0.jar\n",
            "spark-3.0.3-bin-hadoop2.7/jars/macro-compat_2.12-1.1.1.jar\n",
            "spark-3.0.3-bin-hadoop2.7/jars/commons-dbcp-1.4.jar\n",
            "spark-3.0.3-bin-hadoop2.7/jars/jersey-container-servlet-core-2.30.jar\n",
            "spark-3.0.3-bin-hadoop2.7/jars/orc-core-1.5.10.jar\n",
            "spark-3.0.3-bin-hadoop2.7/jars/hk2-api-2.6.1.jar\n",
            "spark-3.0.3-bin-hadoop2.7/jars/parquet-jackson-1.10.1.jar\n",
            "spark-3.0.3-bin-hadoop2.7/jars/mesos-1.4.0-shaded-protobuf.jar\n",
            "spark-3.0.3-bin-hadoop2.7/jars/chill-java-0.9.5.jar\n",
            "spark-3.0.3-bin-hadoop2.7/jars/spark-tags_2.12-3.0.3-tests.jar\n",
            "spark-3.0.3-bin-hadoop2.7/jars/automaton-1.11-8.jar\n",
            "spark-3.0.3-bin-hadoop2.7/jars/commons-lang-2.6.jar\n",
            "spark-3.0.3-bin-hadoop2.7/jars/jackson-annotations-2.10.0.jar\n",
            "spark-3.0.3-bin-hadoop2.7/jars/hk2-utils-2.6.1.jar\n",
            "spark-3.0.3-bin-hadoop2.7/jars/spark-network-common_2.12-3.0.3.jar\n",
            "spark-3.0.3-bin-hadoop2.7/jars/spark-repl_2.12-3.0.3.jar\n",
            "spark-3.0.3-bin-hadoop2.7/jars/velocity-1.5.jar\n",
            "spark-3.0.3-bin-hadoop2.7/jars/htrace-core-3.1.0-incubating.jar\n",
            "spark-3.0.3-bin-hadoop2.7/jars/jul-to-slf4j-1.7.30.jar\n",
            "spark-3.0.3-bin-hadoop2.7/jars/JTransforms-3.1.jar\n",
            "spark-3.0.3-bin-hadoop2.7/jars/json4s-ast_2.12-3.6.6.jar\n",
            "spark-3.0.3-bin-hadoop2.7/jars/jersey-client-2.30.jar\n",
            "spark-3.0.3-bin-hadoop2.7/jars/httpclient-4.5.6.jar\n",
            "spark-3.0.3-bin-hadoop2.7/jars/jetty-sslengine-6.1.26.jar\n",
            "spark-3.0.3-bin-hadoop2.7/jars/spark-kvstore_2.12-3.0.3.jar\n",
            "spark-3.0.3-bin-hadoop2.7/jars/spire_2.12-0.17.0-M1.jar\n",
            "spark-3.0.3-bin-hadoop2.7/jars/jersey-hk2-2.30.jar\n",
            "spark-3.0.3-bin-hadoop2.7/jars/commons-math3-3.4.1.jar\n",
            "spark-3.0.3-bin-hadoop2.7/jars/xbean-asm7-shaded-4.15.jar\n",
            "spark-3.0.3-bin-hadoop2.7/jars/jakarta.validation-api-2.0.2.jar\n",
            "spark-3.0.3-bin-hadoop2.7/jars/parquet-encoding-1.10.1.jar\n",
            "spark-3.0.3-bin-hadoop2.7/jars/snappy-java-1.1.8.2.jar\n",
            "spark-3.0.3-bin-hadoop2.7/jars/slf4j-log4j12-1.7.30.jar\n",
            "spark-3.0.3-bin-hadoop2.7/jars/hadoop-mapreduce-client-app-2.7.4.jar\n",
            "spark-3.0.3-bin-hadoop2.7/jars/zstd-jni-1.4.4-3.jar\n",
            "spark-3.0.3-bin-hadoop2.7/jars/slf4j-api-1.7.30.jar\n",
            "spark-3.0.3-bin-hadoop2.7/jars/hive-shims-0.23-2.3.7.jar\n",
            "spark-3.0.3-bin-hadoop2.7/jars/guava-14.0.1.jar\n",
            "spark-3.0.3-bin-hadoop2.7/jars/stax-api-1.0-2.jar\n",
            "spark-3.0.3-bin-hadoop2.7/jars/zjsonpatch-0.3.0.jar\n",
            "spark-3.0.3-bin-hadoop2.7/jars/hive-storage-api-2.7.1.jar\n",
            "spark-3.0.3-bin-hadoop2.7/jars/shapeless_2.12-2.3.3.jar\n",
            "spark-3.0.3-bin-hadoop2.7/jars/kubernetes-model-common-4.9.2.jar\n",
            "spark-3.0.3-bin-hadoop2.7/jars/oro-2.0.8.jar\n",
            "spark-3.0.3-bin-hadoop2.7/jars/hadoop-yarn-client-2.7.4.jar\n",
            "spark-3.0.3-bin-hadoop2.7/jars/libfb303-0.9.3.jar\n",
            "spark-3.0.3-bin-hadoop2.7/jars/core-1.1.2.jar\n",
            "spark-3.0.3-bin-hadoop2.7/jars/jersey-container-servlet-2.30.jar\n",
            "spark-3.0.3-bin-hadoop2.7/jars/datanucleus-rdbms-4.1.19.jar\n",
            "spark-3.0.3-bin-hadoop2.7/jars/super-csv-2.2.0.jar\n",
            "spark-3.0.3-bin-hadoop2.7/jars/compress-lzf-1.0.3.jar\n",
            "spark-3.0.3-bin-hadoop2.7/jars/jackson-module-paranamer-2.10.0.jar\n",
            "spark-3.0.3-bin-hadoop2.7/jars/aopalliance-1.0.jar\n",
            "spark-3.0.3-bin-hadoop2.7/jars/osgi-resource-locator-1.0.3.jar\n",
            "spark-3.0.3-bin-hadoop2.7/jars/jackson-module-scala_2.12-2.10.0.jar\n",
            "spark-3.0.3-bin-hadoop2.7/jars/hive-shims-2.3.7.jar\n",
            "spark-3.0.3-bin-hadoop2.7/jars/hadoop-yarn-server-common-2.7.4.jar\n",
            "spark-3.0.3-bin-hadoop2.7/jars/json-1.8.jar\n",
            "spark-3.0.3-bin-hadoop2.7/jars/antlr-runtime-3.5.2.jar\n",
            "spark-3.0.3-bin-hadoop2.7/jars/threeten-extra-1.5.0.jar\n",
            "spark-3.0.3-bin-hadoop2.7/jars/jetty-6.1.26.jar\n",
            "spark-3.0.3-bin-hadoop2.7/jars/spark-tags_2.12-3.0.3.jar\n",
            "spark-3.0.3-bin-hadoop2.7/jars/jackson-module-jaxb-annotations-2.10.0.jar\n",
            "spark-3.0.3-bin-hadoop2.7/jars/jersey-common-2.30.jar\n",
            "spark-3.0.3-bin-hadoop2.7/jars/aircompressor-0.10.jar\n",
            "spark-3.0.3-bin-hadoop2.7/jars/lz4-java-1.7.1.jar\n",
            "spark-3.0.3-bin-hadoop2.7/jars/hadoop-client-2.7.4.jar\n",
            "spark-3.0.3-bin-hadoop2.7/jars/activation-1.1.1.jar\n",
            "spark-3.0.3-bin-hadoop2.7/jars/shims-0.7.45.jar\n",
            "spark-3.0.3-bin-hadoop2.7/jars/commons-crypto-1.1.0.jar\n",
            "spark-3.0.3-bin-hadoop2.7/jars/spark-mesos_2.12-3.0.3.jar\n",
            "spark-3.0.3-bin-hadoop2.7/jars/libthrift-0.12.0.jar\n",
            "spark-3.0.3-bin-hadoop2.7/jars/orc-mapreduce-1.5.10.jar\n",
            "spark-3.0.3-bin-hadoop2.7/jars/HikariCP-2.5.1.jar\n",
            "spark-3.0.3-bin-hadoop2.7/jars/generex-1.0.2.jar\n",
            "spark-3.0.3-bin-hadoop2.7/jars/okhttp-3.12.6.jar\n",
            "spark-3.0.3-bin-hadoop2.7/jars/breeze-macros_2.12-1.0.jar\n",
            "spark-3.0.3-bin-hadoop2.7/jars/leveldbjni-all-1.8.jar\n",
            "spark-3.0.3-bin-hadoop2.7/jars/jaxb-runtime-2.3.2.jar\n",
            "spark-3.0.3-bin-hadoop2.7/jars/commons-httpclient-3.1.jar\n",
            "spark-3.0.3-bin-hadoop2.7/jars/jackson-core-asl-1.9.13.jar\n",
            "spark-3.0.3-bin-hadoop2.7/jars/scala-xml_2.12-1.2.0.jar\n",
            "spark-3.0.3-bin-hadoop2.7/jars/hk2-locator-2.6.1.jar\n",
            "spark-3.0.3-bin-hadoop2.7/jars/hadoop-common-2.7.4.jar\n",
            "spark-3.0.3-bin-hadoop2.7/jars/curator-recipes-2.7.1.jar\n",
            "spark-3.0.3-bin-hadoop2.7/jars/jackson-mapper-asl-1.9.13.jar\n",
            "spark-3.0.3-bin-hadoop2.7/jars/hive-common-2.3.7.jar\n",
            "spark-3.0.3-bin-hadoop2.7/jars/xz-1.5.jar\n",
            "spark-3.0.3-bin-hadoop2.7/jars/ST4-4.0.4.jar\n",
            "spark-3.0.3-bin-hadoop2.7/jars/hive-shims-scheduler-2.3.7.jar\n",
            "spark-3.0.3-bin-hadoop2.7/jars/spark-unsafe_2.12-3.0.3.jar\n",
            "spark-3.0.3-bin-hadoop2.7/jars/parquet-hadoop-1.10.1.jar\n",
            "spark-3.0.3-bin-hadoop2.7/jars/chill_2.12-0.9.5.jar\n",
            "spark-3.0.3-bin-hadoop2.7/jars/commons-configuration-1.6.jar\n",
            "spark-3.0.3-bin-hadoop2.7/jars/jackson-databind-2.10.0.jar\n",
            "spark-3.0.3-bin-hadoop2.7/jars/spark-hive-thriftserver_2.12-3.0.3.jar\n",
            "spark-3.0.3-bin-hadoop2.7/jars/scala-reflect-2.12.10.jar\n",
            "spark-3.0.3-bin-hadoop2.7/jars/joda-time-2.10.5.jar\n",
            "spark-3.0.3-bin-hadoop2.7/jars/minlog-1.3.0.jar\n",
            "spark-3.0.3-bin-hadoop2.7/jars/jakarta.ws.rs-api-2.1.6.jar\n",
            "spark-3.0.3-bin-hadoop2.7/jars/orc-shims-1.5.10.jar\n",
            "spark-3.0.3-bin-hadoop2.7/jars/aopalliance-repackaged-2.6.1.jar\n",
            "spark-3.0.3-bin-hadoop2.7/jars/commons-compress-1.20.jar\n",
            "spark-3.0.3-bin-hadoop2.7/jars/bonecp-0.8.0.RELEASE.jar\n",
            "spark-3.0.3-bin-hadoop2.7/jars/jodd-core-3.5.2.jar\n",
            "spark-3.0.3-bin-hadoop2.7/jars/hadoop-yarn-server-web-proxy-2.7.4.jar\n",
            "spark-3.0.3-bin-hadoop2.7/jars/jackson-core-2.10.0.jar\n",
            "spark-3.0.3-bin-hadoop2.7/jars/protobuf-java-2.5.0.jar\n",
            "spark-3.0.3-bin-hadoop2.7/jars/commons-net-3.1.jar\n",
            "spark-3.0.3-bin-hadoop2.7/jars/hadoop-mapreduce-client-jobclient-2.7.4.jar\n",
            "spark-3.0.3-bin-hadoop2.7/jars/datanucleus-core-4.1.17.jar\n",
            "spark-3.0.3-bin-hadoop2.7/jars/jackson-jaxrs-1.9.13.jar\n",
            "spark-3.0.3-bin-hadoop2.7/jars/janino-3.0.16.jar\n",
            "spark-3.0.3-bin-hadoop2.7/jars/hive-shims-common-2.3.7.jar\n",
            "spark-3.0.3-bin-hadoop2.7/jars/javolution-5.5.1.jar\n",
            "spark-3.0.3-bin-hadoop2.7/jars/transaction-api-1.1.jar\n",
            "spark-3.0.3-bin-hadoop2.7/jars/spark-streaming_2.12-3.0.3.jar\n",
            "spark-3.0.3-bin-hadoop2.7/jars/jackson-datatype-jsr310-2.10.3.jar\n",
            "spark-3.0.3-bin-hadoop2.7/jars/spark-mllib-local_2.12-3.0.3.jar\n",
            "spark-3.0.3-bin-hadoop2.7/jars/jaxb-api-2.2.2.jar\n",
            "spark-3.0.3-bin-hadoop2.7/jars/commons-cli-1.2.jar\n",
            "spark-3.0.3-bin-hadoop2.7/jars/jakarta.inject-2.6.1.jar\n",
            "spark-3.0.3-bin-hadoop2.7/jars/metrics-jmx-4.1.1.jar\n",
            "spark-3.0.3-bin-hadoop2.7/jars/arrow-vector-0.15.1.jar\n",
            "spark-3.0.3-bin-hadoop2.7/jars/jakarta.xml.bind-api-2.3.2.jar\n",
            "spark-3.0.3-bin-hadoop2.7/jars/commons-codec-1.10.jar\n",
            "spark-3.0.3-bin-hadoop2.7/jars/spark-catalyst_2.12-3.0.3.jar\n",
            "spark-3.0.3-bin-hadoop2.7/jars/hadoop-yarn-common-2.7.4.jar\n",
            "spark-3.0.3-bin-hadoop2.7/jars/curator-framework-2.7.1.jar\n",
            "spark-3.0.3-bin-hadoop2.7/jars/arpack_combined_all-0.1.jar\n",
            "spark-3.0.3-bin-hadoop2.7/jars/hive-metastore-2.3.7.jar\n",
            "spark-3.0.3-bin-hadoop2.7/jars/hive-beeline-2.3.7.jar\n",
            "spark-3.0.3-bin-hadoop2.7/jars/metrics-core-4.1.1.jar\n",
            "spark-3.0.3-bin-hadoop2.7/jars/hive-llap-common-2.3.7.jar\n",
            "spark-3.0.3-bin-hadoop2.7/jars/netty-all-4.1.47.Final.jar\n",
            "spark-3.0.3-bin-hadoop2.7/jars/javassist-3.25.0-GA.jar\n",
            "spark-3.0.3-bin-hadoop2.7/jars/scala-collection-compat_2.12-2.1.1.jar\n",
            "spark-3.0.3-bin-hadoop2.7/jars/spark-sql_2.12-3.0.3.jar\n",
            "spark-3.0.3-bin-hadoop2.7/jars/parquet-column-1.10.1.jar\n",
            "spark-3.0.3-bin-hadoop2.7/jars/jetty-util-6.1.26.jar\n",
            "spark-3.0.3-bin-hadoop2.7/jars/kubernetes-model-4.9.2.jar\n",
            "spark-3.0.3-bin-hadoop2.7/jars/avro-ipc-1.8.2.jar\n",
            "spark-3.0.3-bin-hadoop2.7/jars/guice-3.0.jar\n",
            "spark-3.0.3-bin-hadoop2.7/jars/commons-text-1.6.jar\n",
            "spark-3.0.3-bin-hadoop2.7/jars/json4s-scalap_2.12-3.6.6.jar\n",
            "spark-3.0.3-bin-hadoop2.7/jars/metrics-json-4.1.1.jar\n",
            "spark-3.0.3-bin-hadoop2.7/jars/snakeyaml-1.24.jar\n",
            "spark-3.0.3-bin-hadoop2.7/jars/json4s-jackson_2.12-3.6.6.jar\n",
            "spark-3.0.3-bin-hadoop2.7/jars/ivy-2.4.0.jar\n",
            "spark-3.0.3-bin-hadoop2.7/jars/hadoop-mapreduce-client-core-2.7.4.jar\n",
            "spark-3.0.3-bin-hadoop2.7/jars/json4s-core_2.12-3.6.6.jar\n",
            "spark-3.0.3-bin-hadoop2.7/jars/pyrolite-4.30.jar\n",
            "spark-3.0.3-bin-hadoop2.7/jars/log4j-1.2.17.jar\n",
            "spark-3.0.3-bin-hadoop2.7/jars/hive-serde-2.3.7.jar\n",
            "spark-3.0.3-bin-hadoop2.7/jars/scala-parser-combinators_2.12-1.1.2.jar\n",
            "spark-3.0.3-bin-hadoop2.7/jars/RoaringBitmap-0.7.45.jar\n",
            "spark-3.0.3-bin-hadoop2.7/jars/zookeeper-3.4.14.jar\n",
            "spark-3.0.3-bin-hadoop2.7/data/\n",
            "spark-3.0.3-bin-hadoop2.7/data/mllib/\n",
            "spark-3.0.3-bin-hadoop2.7/data/mllib/sample_lda_data.txt\n",
            "spark-3.0.3-bin-hadoop2.7/data/mllib/sample_libsvm_data.txt\n",
            "spark-3.0.3-bin-hadoop2.7/data/mllib/sample_svm_data.txt\n",
            "spark-3.0.3-bin-hadoop2.7/data/mllib/sample_multiclass_classification_data.txt\n",
            "spark-3.0.3-bin-hadoop2.7/data/mllib/sample_linear_regression_data.txt\n",
            "spark-3.0.3-bin-hadoop2.7/data/mllib/sample_lda_libsvm_data.txt\n",
            "spark-3.0.3-bin-hadoop2.7/data/mllib/sample_fpgrowth.txt\n",
            "spark-3.0.3-bin-hadoop2.7/data/mllib/sample_binary_classification_data.txt\n",
            "spark-3.0.3-bin-hadoop2.7/data/mllib/sample_isotonic_regression_libsvm_data.txt\n",
            "spark-3.0.3-bin-hadoop2.7/data/mllib/iris_libsvm.txt\n",
            "spark-3.0.3-bin-hadoop2.7/data/mllib/sample_movielens_data.txt\n",
            "spark-3.0.3-bin-hadoop2.7/data/mllib/als/\n",
            "spark-3.0.3-bin-hadoop2.7/data/mllib/als/test.data\n",
            "spark-3.0.3-bin-hadoop2.7/data/mllib/als/sample_movielens_ratings.txt\n",
            "spark-3.0.3-bin-hadoop2.7/data/mllib/sample_kmeans_data.txt\n",
            "spark-3.0.3-bin-hadoop2.7/data/mllib/pic_data.txt\n",
            "spark-3.0.3-bin-hadoop2.7/data/mllib/images/\n",
            "spark-3.0.3-bin-hadoop2.7/data/mllib/images/origin/\n",
            "spark-3.0.3-bin-hadoop2.7/data/mllib/images/origin/kittens/\n",
            "spark-3.0.3-bin-hadoop2.7/data/mllib/images/origin/kittens/54893.jpg\n",
            "spark-3.0.3-bin-hadoop2.7/data/mllib/images/origin/kittens/not-image.txt\n",
            "spark-3.0.3-bin-hadoop2.7/data/mllib/images/origin/kittens/DP802813.jpg\n",
            "spark-3.0.3-bin-hadoop2.7/data/mllib/images/origin/kittens/29.5.a_b_EGDP022204.jpg\n",
            "spark-3.0.3-bin-hadoop2.7/data/mllib/images/origin/kittens/DP153539.jpg\n",
            "spark-3.0.3-bin-hadoop2.7/data/mllib/images/origin/license.txt\n",
            "spark-3.0.3-bin-hadoop2.7/data/mllib/images/origin/multi-channel/\n",
            "spark-3.0.3-bin-hadoop2.7/data/mllib/images/origin/multi-channel/BGRA.png\n",
            "spark-3.0.3-bin-hadoop2.7/data/mllib/images/origin/multi-channel/BGRA_alpha_60.png\n",
            "spark-3.0.3-bin-hadoop2.7/data/mllib/images/origin/multi-channel/grayscale.jpg\n",
            "spark-3.0.3-bin-hadoop2.7/data/mllib/images/origin/multi-channel/chr30.4.184.jpg\n",
            "spark-3.0.3-bin-hadoop2.7/data/mllib/images/partitioned/\n",
            "spark-3.0.3-bin-hadoop2.7/data/mllib/images/partitioned/cls=multichannel/\n",
            "spark-3.0.3-bin-hadoop2.7/data/mllib/images/partitioned/cls=multichannel/date=2018-01/\n",
            "spark-3.0.3-bin-hadoop2.7/data/mllib/images/partitioned/cls=multichannel/date=2018-01/BGRA.png\n",
            "spark-3.0.3-bin-hadoop2.7/data/mllib/images/partitioned/cls=multichannel/date=2018-01/BGRA_alpha_60.png\n",
            "spark-3.0.3-bin-hadoop2.7/data/mllib/images/partitioned/cls=multichannel/date=2018-02/\n",
            "spark-3.0.3-bin-hadoop2.7/data/mllib/images/partitioned/cls=multichannel/date=2018-02/grayscale.jpg\n",
            "spark-3.0.3-bin-hadoop2.7/data/mllib/images/partitioned/cls=multichannel/date=2018-02/chr30.4.184.jpg\n",
            "spark-3.0.3-bin-hadoop2.7/data/mllib/images/partitioned/cls=kittens/\n",
            "spark-3.0.3-bin-hadoop2.7/data/mllib/images/partitioned/cls=kittens/date=2018-01/\n",
            "spark-3.0.3-bin-hadoop2.7/data/mllib/images/partitioned/cls=kittens/date=2018-01/not-image.txt\n",
            "spark-3.0.3-bin-hadoop2.7/data/mllib/images/partitioned/cls=kittens/date=2018-01/29.5.a_b_EGDP022204.jpg\n",
            "spark-3.0.3-bin-hadoop2.7/data/mllib/images/partitioned/cls=kittens/date=2018-02/\n",
            "spark-3.0.3-bin-hadoop2.7/data/mllib/images/partitioned/cls=kittens/date=2018-02/54893.jpg\n",
            "spark-3.0.3-bin-hadoop2.7/data/mllib/images/partitioned/cls=kittens/date=2018-02/DP802813.jpg\n",
            "spark-3.0.3-bin-hadoop2.7/data/mllib/images/partitioned/cls=kittens/date=2018-02/DP153539.jpg\n",
            "spark-3.0.3-bin-hadoop2.7/data/mllib/images/license.txt\n",
            "spark-3.0.3-bin-hadoop2.7/data/mllib/ridge-data/\n",
            "spark-3.0.3-bin-hadoop2.7/data/mllib/ridge-data/lpsa.data\n",
            "spark-3.0.3-bin-hadoop2.7/data/mllib/kmeans_data.txt\n",
            "spark-3.0.3-bin-hadoop2.7/data/mllib/streaming_kmeans_data_test.txt\n",
            "spark-3.0.3-bin-hadoop2.7/data/mllib/pagerank_data.txt\n",
            "spark-3.0.3-bin-hadoop2.7/data/mllib/gmm_data.txt\n",
            "spark-3.0.3-bin-hadoop2.7/data/graphx/\n",
            "spark-3.0.3-bin-hadoop2.7/data/graphx/users.txt\n",
            "spark-3.0.3-bin-hadoop2.7/data/graphx/followers.txt\n",
            "spark-3.0.3-bin-hadoop2.7/data/streaming/\n",
            "spark-3.0.3-bin-hadoop2.7/data/streaming/AFINN-111.txt\n",
            "spark-3.0.3-bin-hadoop2.7/R/\n",
            "spark-3.0.3-bin-hadoop2.7/R/lib/\n",
            "spark-3.0.3-bin-hadoop2.7/R/lib/sparkr.zip\n",
            "spark-3.0.3-bin-hadoop2.7/R/lib/SparkR/\n",
            "spark-3.0.3-bin-hadoop2.7/R/lib/SparkR/tests/\n",
            "spark-3.0.3-bin-hadoop2.7/R/lib/SparkR/tests/testthat/\n",
            "spark-3.0.3-bin-hadoop2.7/R/lib/SparkR/tests/testthat/test_basic.R\n",
            "spark-3.0.3-bin-hadoop2.7/R/lib/SparkR/DESCRIPTION\n",
            "spark-3.0.3-bin-hadoop2.7/R/lib/SparkR/profile/\n",
            "spark-3.0.3-bin-hadoop2.7/R/lib/SparkR/profile/shell.R\n",
            "spark-3.0.3-bin-hadoop2.7/R/lib/SparkR/profile/general.R\n",
            "spark-3.0.3-bin-hadoop2.7/R/lib/SparkR/INDEX\n",
            "spark-3.0.3-bin-hadoop2.7/R/lib/SparkR/Meta/\n",
            "spark-3.0.3-bin-hadoop2.7/R/lib/SparkR/Meta/features.rds\n",
            "spark-3.0.3-bin-hadoop2.7/R/lib/SparkR/Meta/links.rds\n",
            "spark-3.0.3-bin-hadoop2.7/R/lib/SparkR/Meta/nsInfo.rds\n",
            "spark-3.0.3-bin-hadoop2.7/R/lib/SparkR/Meta/package.rds\n",
            "spark-3.0.3-bin-hadoop2.7/R/lib/SparkR/Meta/Rd.rds\n",
            "spark-3.0.3-bin-hadoop2.7/R/lib/SparkR/Meta/hsearch.rds\n",
            "spark-3.0.3-bin-hadoop2.7/R/lib/SparkR/help/\n",
            "spark-3.0.3-bin-hadoop2.7/R/lib/SparkR/help/SparkR.rdb\n",
            "spark-3.0.3-bin-hadoop2.7/R/lib/SparkR/help/aliases.rds\n",
            "spark-3.0.3-bin-hadoop2.7/R/lib/SparkR/help/SparkR.rdx\n",
            "spark-3.0.3-bin-hadoop2.7/R/lib/SparkR/help/AnIndex\n",
            "spark-3.0.3-bin-hadoop2.7/R/lib/SparkR/help/paths.rds\n",
            "spark-3.0.3-bin-hadoop2.7/R/lib/SparkR/R/\n",
            "spark-3.0.3-bin-hadoop2.7/R/lib/SparkR/R/SparkR.rdb\n",
            "spark-3.0.3-bin-hadoop2.7/R/lib/SparkR/R/SparkR.rdx\n",
            "spark-3.0.3-bin-hadoop2.7/R/lib/SparkR/R/SparkR\n",
            "spark-3.0.3-bin-hadoop2.7/R/lib/SparkR/NAMESPACE\n",
            "spark-3.0.3-bin-hadoop2.7/R/lib/SparkR/html/\n",
            "spark-3.0.3-bin-hadoop2.7/R/lib/SparkR/html/00Index.html\n",
            "spark-3.0.3-bin-hadoop2.7/R/lib/SparkR/html/R.css\n",
            "spark-3.0.3-bin-hadoop2.7/R/lib/SparkR/worker/\n",
            "spark-3.0.3-bin-hadoop2.7/R/lib/SparkR/worker/worker.R\n",
            "spark-3.0.3-bin-hadoop2.7/R/lib/SparkR/worker/daemon.R\n",
            "spark-3.0.3-bin-hadoop2.7/README.md\n",
            "spark-3.0.3-bin-hadoop2.7/RELEASE\n",
            "spark-3.0.3-bin-hadoop2.7/yarn/\n",
            "spark-3.0.3-bin-hadoop2.7/yarn/spark-3.0.3-yarn-shuffle.jar\n",
            "spark-3.0.3-bin-hadoop2.7/LICENSE\n",
            "spark-3.0.3-bin-hadoop2.7/sbin/\n",
            "spark-3.0.3-bin-hadoop2.7/sbin/stop-mesos-shuffle-service.sh\n",
            "spark-3.0.3-bin-hadoop2.7/sbin/start-master.sh\n",
            "spark-3.0.3-bin-hadoop2.7/sbin/spark-config.sh\n",
            "spark-3.0.3-bin-hadoop2.7/sbin/start-history-server.sh\n",
            "spark-3.0.3-bin-hadoop2.7/sbin/start-slaves.sh\n",
            "spark-3.0.3-bin-hadoop2.7/sbin/spark-daemon.sh\n",
            "spark-3.0.3-bin-hadoop2.7/sbin/stop-mesos-dispatcher.sh\n",
            "spark-3.0.3-bin-hadoop2.7/sbin/start-mesos-shuffle-service.sh\n",
            "spark-3.0.3-bin-hadoop2.7/sbin/slaves.sh\n",
            "spark-3.0.3-bin-hadoop2.7/sbin/stop-history-server.sh\n",
            "spark-3.0.3-bin-hadoop2.7/sbin/start-thriftserver.sh\n",
            "spark-3.0.3-bin-hadoop2.7/sbin/stop-thriftserver.sh\n",
            "spark-3.0.3-bin-hadoop2.7/sbin/start-slave.sh\n",
            "spark-3.0.3-bin-hadoop2.7/sbin/start-all.sh\n",
            "spark-3.0.3-bin-hadoop2.7/sbin/stop-slave.sh\n",
            "spark-3.0.3-bin-hadoop2.7/sbin/spark-daemons.sh\n",
            "spark-3.0.3-bin-hadoop2.7/sbin/stop-slaves.sh\n",
            "spark-3.0.3-bin-hadoop2.7/sbin/stop-all.sh\n",
            "spark-3.0.3-bin-hadoop2.7/sbin/start-mesos-dispatcher.sh\n",
            "spark-3.0.3-bin-hadoop2.7/sbin/stop-master.sh\n",
            "spark-3.0.3-bin-hadoop2.7/examples/\n",
            "spark-3.0.3-bin-hadoop2.7/examples/src/\n",
            "spark-3.0.3-bin-hadoop2.7/examples/src/main/\n",
            "spark-3.0.3-bin-hadoop2.7/examples/src/main/r/\n",
            "spark-3.0.3-bin-hadoop2.7/examples/src/main/r/ml/\n",
            "spark-3.0.3-bin-hadoop2.7/examples/src/main/r/ml/survreg.R\n",
            "spark-3.0.3-bin-hadoop2.7/examples/src/main/r/ml/glm.R\n",
            "spark-3.0.3-bin-hadoop2.7/examples/src/main/r/ml/prefixSpan.R\n",
            "spark-3.0.3-bin-hadoop2.7/examples/src/main/r/ml/powerIterationClustering.R\n",
            "spark-3.0.3-bin-hadoop2.7/examples/src/main/r/ml/lda.R\n",
            "spark-3.0.3-bin-hadoop2.7/examples/src/main/r/ml/kstest.R\n",
            "spark-3.0.3-bin-hadoop2.7/examples/src/main/r/ml/isoreg.R\n",
            "spark-3.0.3-bin-hadoop2.7/examples/src/main/r/ml/ml.R\n",
            "spark-3.0.3-bin-hadoop2.7/examples/src/main/r/ml/naiveBayes.R\n",
            "spark-3.0.3-bin-hadoop2.7/examples/src/main/r/ml/mlp.R\n",
            "spark-3.0.3-bin-hadoop2.7/examples/src/main/r/ml/als.R\n",
            "spark-3.0.3-bin-hadoop2.7/examples/src/main/r/ml/kmeans.R\n",
            "spark-3.0.3-bin-hadoop2.7/examples/src/main/r/ml/svmLinear.R\n",
            "spark-3.0.3-bin-hadoop2.7/examples/src/main/r/ml/logit.R\n",
            "spark-3.0.3-bin-hadoop2.7/examples/src/main/r/ml/randomForest.R\n",
            "spark-3.0.3-bin-hadoop2.7/examples/src/main/r/ml/gbt.R\n",
            "spark-3.0.3-bin-hadoop2.7/examples/src/main/r/ml/decisionTree.R\n",
            "spark-3.0.3-bin-hadoop2.7/examples/src/main/r/ml/gaussianMixture.R\n",
            "spark-3.0.3-bin-hadoop2.7/examples/src/main/r/ml/bisectingKmeans.R\n",
            "spark-3.0.3-bin-hadoop2.7/examples/src/main/r/ml/fpm.R\n",
            "spark-3.0.3-bin-hadoop2.7/examples/src/main/r/dataframe.R\n",
            "spark-3.0.3-bin-hadoop2.7/examples/src/main/r/RSparkSQLExample.R\n",
            "spark-3.0.3-bin-hadoop2.7/examples/src/main/r/data-manipulation.R\n",
            "spark-3.0.3-bin-hadoop2.7/examples/src/main/r/streaming/\n",
            "spark-3.0.3-bin-hadoop2.7/examples/src/main/r/streaming/structured_network_wordcount.R\n",
            "spark-3.0.3-bin-hadoop2.7/examples/src/main/scala/\n",
            "spark-3.0.3-bin-hadoop2.7/examples/src/main/scala/org/\n",
            "spark-3.0.3-bin-hadoop2.7/examples/src/main/scala/org/apache/\n",
            "spark-3.0.3-bin-hadoop2.7/examples/src/main/scala/org/apache/spark/\n",
            "spark-3.0.3-bin-hadoop2.7/examples/src/main/scala/org/apache/spark/examples/\n",
            "spark-3.0.3-bin-hadoop2.7/examples/src/main/scala/org/apache/spark/examples/SparkPageRank.scala\n",
            "spark-3.0.3-bin-hadoop2.7/examples/src/main/scala/org/apache/spark/examples/SkewedGroupByTest.scala\n",
            "spark-3.0.3-bin-hadoop2.7/examples/src/main/scala/org/apache/spark/examples/AccumulatorMetricsTest.scala\n",
            "spark-3.0.3-bin-hadoop2.7/examples/src/main/scala/org/apache/spark/examples/HdfsTest.scala\n",
            "spark-3.0.3-bin-hadoop2.7/examples/src/main/scala/org/apache/spark/examples/ml/\n",
            "spark-3.0.3-bin-hadoop2.7/examples/src/main/scala/org/apache/spark/examples/ml/Word2VecExample.scala\n",
            "spark-3.0.3-bin-hadoop2.7/examples/src/main/scala/org/apache/spark/examples/ml/DeveloperApiExample.scala\n",
            "spark-3.0.3-bin-hadoop2.7/examples/src/main/scala/org/apache/spark/examples/ml/MinHashLSHExample.scala\n",
            "spark-3.0.3-bin-hadoop2.7/examples/src/main/scala/org/apache/spark/examples/ml/IndexToStringExample.scala\n",
            "spark-3.0.3-bin-hadoop2.7/examples/src/main/scala/org/apache/spark/examples/ml/BisectingKMeansExample.scala\n",
            "spark-3.0.3-bin-hadoop2.7/examples/src/main/scala/org/apache/spark/examples/ml/CorrelationExample.scala\n",
            "spark-3.0.3-bin-hadoop2.7/examples/src/main/scala/org/apache/spark/examples/ml/MulticlassLogisticRegressionWithElasticNetExample.scala\n",
            "spark-3.0.3-bin-hadoop2.7/examples/src/main/scala/org/apache/spark/examples/ml/VectorSizeHintExample.scala\n",
            "spark-3.0.3-bin-hadoop2.7/examples/src/main/scala/org/apache/spark/examples/ml/NGramExample.scala\n",
            "spark-3.0.3-bin-hadoop2.7/examples/src/main/scala/org/apache/spark/examples/ml/BucketedRandomProjectionLSHExample.scala\n",
            "spark-3.0.3-bin-hadoop2.7/examples/src/main/scala/org/apache/spark/examples/ml/BinarizerExample.scala\n",
            "spark-3.0.3-bin-hadoop2.7/examples/src/main/scala/org/apache/spark/examples/ml/RandomForestExample.scala\n",
            "spark-3.0.3-bin-hadoop2.7/examples/src/main/scala/org/apache/spark/examples/ml/StandardScalerExample.scala\n",
            "spark-3.0.3-bin-hadoop2.7/examples/src/main/scala/org/apache/spark/examples/ml/LogisticRegressionExample.scala\n",
            "spark-3.0.3-bin-hadoop2.7/examples/src/main/scala/org/apache/spark/examples/ml/FeatureHasherExample.scala\n",
            "spark-3.0.3-bin-hadoop2.7/examples/src/main/scala/org/apache/spark/examples/ml/OneVsRestExample.scala\n",
            "spark-3.0.3-bin-hadoop2.7/examples/src/main/scala/org/apache/spark/examples/ml/StopWordsRemoverExample.scala\n",
            "spark-3.0.3-bin-hadoop2.7/examples/src/main/scala/org/apache/spark/examples/ml/LinearSVCExample.scala\n",
            "spark-3.0.3-bin-hadoop2.7/examples/src/main/scala/org/apache/spark/examples/ml/GaussianMixtureExample.scala\n",
            "spark-3.0.3-bin-hadoop2.7/examples/src/main/scala/org/apache/spark/examples/ml/MaxAbsScalerExample.scala\n",
            "spark-3.0.3-bin-hadoop2.7/examples/src/main/scala/org/apache/spark/examples/ml/GBTExample.scala\n",
            "spark-3.0.3-bin-hadoop2.7/examples/src/main/scala/org/apache/spark/examples/ml/IsotonicRegressionExample.scala\n",
            "spark-3.0.3-bin-hadoop2.7/examples/src/main/scala/org/apache/spark/examples/ml/ModelSelectionViaCrossValidationExample.scala\n",
            "spark-3.0.3-bin-hadoop2.7/examples/src/main/scala/org/apache/spark/examples/ml/EstimatorTransformerParamExample.scala\n",
            "spark-3.0.3-bin-hadoop2.7/examples/src/main/scala/org/apache/spark/examples/ml/DecisionTreeRegressionExample.scala\n",
            "spark-3.0.3-bin-hadoop2.7/examples/src/main/scala/org/apache/spark/examples/ml/RandomForestRegressorExample.scala\n",
            "spark-3.0.3-bin-hadoop2.7/examples/src/main/scala/org/apache/spark/examples/ml/PrefixSpanExample.scala\n",
            "spark-3.0.3-bin-hadoop2.7/examples/src/main/scala/org/apache/spark/examples/ml/KMeansExample.scala\n",
            "spark-3.0.3-bin-hadoop2.7/examples/src/main/scala/org/apache/spark/examples/ml/ModelSelectionViaTrainValidationSplitExample.scala\n",
            "spark-3.0.3-bin-hadoop2.7/examples/src/main/scala/org/apache/spark/examples/ml/LogisticRegressionSummaryExample.scala\n",
            "spark-3.0.3-bin-hadoop2.7/examples/src/main/scala/org/apache/spark/examples/ml/MultilayerPerceptronClassifierExample.scala\n",
            "spark-3.0.3-bin-hadoop2.7/examples/src/main/scala/org/apache/spark/examples/ml/PCAExample.scala\n",
            "spark-3.0.3-bin-hadoop2.7/examples/src/main/scala/org/apache/spark/examples/ml/DCTExample.scala\n",
            "spark-3.0.3-bin-hadoop2.7/examples/src/main/scala/org/apache/spark/examples/ml/FPGrowthExample.scala\n",
            "spark-3.0.3-bin-hadoop2.7/examples/src/main/scala/org/apache/spark/examples/ml/ElementwiseProductExample.scala\n",
            "spark-3.0.3-bin-hadoop2.7/examples/src/main/scala/org/apache/spark/examples/ml/GeneralizedLinearRegressionExample.scala\n",
            "spark-3.0.3-bin-hadoop2.7/examples/src/main/scala/org/apache/spark/examples/ml/CountVectorizerExample.scala\n",
            "spark-3.0.3-bin-hadoop2.7/examples/src/main/scala/org/apache/spark/examples/ml/MinMaxScalerExample.scala\n",
            "spark-3.0.3-bin-hadoop2.7/examples/src/main/scala/org/apache/spark/examples/ml/ChiSquareTestExample.scala\n",
            "spark-3.0.3-bin-hadoop2.7/examples/src/main/scala/org/apache/spark/examples/ml/LogisticRegressionWithElasticNetExample.scala\n",
            "spark-3.0.3-bin-hadoop2.7/examples/src/main/scala/org/apache/spark/examples/ml/FMRegressorExample.scala\n",
            "spark-3.0.3-bin-hadoop2.7/examples/src/main/scala/org/apache/spark/examples/ml/VectorSlicerExample.scala\n",
            "spark-3.0.3-bin-hadoop2.7/examples/src/main/scala/org/apache/spark/examples/ml/LinearRegressionExample.scala\n",
            "spark-3.0.3-bin-hadoop2.7/examples/src/main/scala/org/apache/spark/examples/ml/StringIndexerExample.scala\n",
            "spark-3.0.3-bin-hadoop2.7/examples/src/main/scala/org/apache/spark/examples/ml/GradientBoostedTreeRegressorExample.scala\n",
            "spark-3.0.3-bin-hadoop2.7/examples/src/main/scala/org/apache/spark/examples/ml/ALSExample.scala\n",
            "spark-3.0.3-bin-hadoop2.7/examples/src/main/scala/org/apache/spark/examples/ml/DecisionTreeClassificationExample.scala\n",
            "spark-3.0.3-bin-hadoop2.7/examples/src/main/scala/org/apache/spark/examples/ml/PolynomialExpansionExample.scala\n",
            "spark-3.0.3-bin-hadoop2.7/examples/src/main/scala/org/apache/spark/examples/ml/FMClassifierExample.scala\n",
            "spark-3.0.3-bin-hadoop2.7/examples/src/main/scala/org/apache/spark/examples/ml/UnaryTransformerExample.scala\n",
            "spark-3.0.3-bin-hadoop2.7/examples/src/main/scala/org/apache/spark/examples/ml/ImputerExample.scala\n",
            "spark-3.0.3-bin-hadoop2.7/examples/src/main/scala/org/apache/spark/examples/ml/TokenizerExample.scala\n",
            "spark-3.0.3-bin-hadoop2.7/examples/src/main/scala/org/apache/spark/examples/ml/DecisionTreeExample.scala\n",
            "spark-3.0.3-bin-hadoop2.7/examples/src/main/scala/org/apache/spark/examples/ml/GradientBoostedTreeClassifierExample.scala\n",
            "spark-3.0.3-bin-hadoop2.7/examples/src/main/scala/org/apache/spark/examples/ml/PowerIterationClusteringExample.scala\n",
            "spark-3.0.3-bin-hadoop2.7/examples/src/main/scala/org/apache/spark/examples/ml/SQLTransformerExample.scala\n",
            "spark-3.0.3-bin-hadoop2.7/examples/src/main/scala/org/apache/spark/examples/ml/SummarizerExample.scala\n",
            "spark-3.0.3-bin-hadoop2.7/examples/src/main/scala/org/apache/spark/examples/ml/DataFrameExample.scala\n",
            "spark-3.0.3-bin-hadoop2.7/examples/src/main/scala/org/apache/spark/examples/ml/BucketizerExample.scala\n",
            "spark-3.0.3-bin-hadoop2.7/examples/src/main/scala/org/apache/spark/examples/ml/TfIdfExample.scala\n",
            "spark-3.0.3-bin-hadoop2.7/examples/src/main/scala/org/apache/spark/examples/ml/AFTSurvivalRegressionExample.scala\n",
            "spark-3.0.3-bin-hadoop2.7/examples/src/main/scala/org/apache/spark/examples/ml/QuantileDiscretizerExample.scala\n",
            "spark-3.0.3-bin-hadoop2.7/examples/src/main/scala/org/apache/spark/examples/ml/OneHotEncoderExample.scala\n",
            "spark-3.0.3-bin-hadoop2.7/examples/src/main/scala/org/apache/spark/examples/ml/PipelineExample.scala\n",
            "spark-3.0.3-bin-hadoop2.7/examples/src/main/scala/org/apache/spark/examples/ml/InteractionExample.scala\n",
            "spark-3.0.3-bin-hadoop2.7/examples/src/main/scala/org/apache/spark/examples/ml/LDAExample.scala\n",
            "spark-3.0.3-bin-hadoop2.7/examples/src/main/scala/org/apache/spark/examples/ml/RFormulaExample.scala\n",
            "spark-3.0.3-bin-hadoop2.7/examples/src/main/scala/org/apache/spark/examples/ml/VectorIndexerExample.scala\n",
            "spark-3.0.3-bin-hadoop2.7/examples/src/main/scala/org/apache/spark/examples/ml/VectorAssemblerExample.scala\n",
            "spark-3.0.3-bin-hadoop2.7/examples/src/main/scala/org/apache/spark/examples/ml/NormalizerExample.scala\n",
            "spark-3.0.3-bin-hadoop2.7/examples/src/main/scala/org/apache/spark/examples/ml/ChiSqSelectorExample.scala\n",
            "spark-3.0.3-bin-hadoop2.7/examples/src/main/scala/org/apache/spark/examples/ml/NaiveBayesExample.scala\n",
            "spark-3.0.3-bin-hadoop2.7/examples/src/main/scala/org/apache/spark/examples/ml/RandomForestClassifierExample.scala\n",
            "spark-3.0.3-bin-hadoop2.7/examples/src/main/scala/org/apache/spark/examples/ml/LinearRegressionWithElasticNetExample.scala\n",
            "spark-3.0.3-bin-hadoop2.7/examples/src/main/scala/org/apache/spark/examples/ml/RobustScalerExample.scala\n",
            "spark-3.0.3-bin-hadoop2.7/examples/src/main/scala/org/apache/spark/examples/LogQuery.scala\n",
            "spark-3.0.3-bin-hadoop2.7/examples/src/main/scala/org/apache/spark/examples/SparkRemoteFileTest.scala\n",
            "spark-3.0.3-bin-hadoop2.7/examples/src/main/scala/org/apache/spark/examples/ExceptionHandlingTest.scala\n",
            "spark-3.0.3-bin-hadoop2.7/examples/src/main/scala/org/apache/spark/examples/pythonconverters/\n",
            "spark-3.0.3-bin-hadoop2.7/examples/src/main/scala/org/apache/spark/examples/pythonconverters/AvroConverters.scala\n",
            "spark-3.0.3-bin-hadoop2.7/examples/src/main/scala/org/apache/spark/examples/BroadcastTest.scala\n",
            "spark-3.0.3-bin-hadoop2.7/examples/src/main/scala/org/apache/spark/examples/SparkHdfsLR.scala\n",
            "spark-3.0.3-bin-hadoop2.7/examples/src/main/scala/org/apache/spark/examples/mllib/\n",
            "spark-3.0.3-bin-hadoop2.7/examples/src/main/scala/org/apache/spark/examples/mllib/Word2VecExample.scala\n",
            "spark-3.0.3-bin-hadoop2.7/examples/src/main/scala/org/apache/spark/examples/mllib/GradientBoostedTreesRunner.scala\n",
            "spark-3.0.3-bin-hadoop2.7/examples/src/main/scala/org/apache/spark/examples/mllib/RandomRDDGeneration.scala\n",
            "spark-3.0.3-bin-hadoop2.7/examples/src/main/scala/org/apache/spark/examples/mllib/PMMLModelExportExample.scala\n",
            "spark-3.0.3-bin-hadoop2.7/examples/src/main/scala/org/apache/spark/examples/mllib/BisectingKMeansExample.scala\n",
            "spark-3.0.3-bin-hadoop2.7/examples/src/main/scala/org/apache/spark/examples/mllib/DecisionTreeRunner.scala\n",
            "spark-3.0.3-bin-hadoop2.7/examples/src/main/scala/org/apache/spark/examples/mllib/MultiLabelMetricsExample.scala\n",
            "spark-3.0.3-bin-hadoop2.7/examples/src/main/scala/org/apache/spark/examples/mllib/CorrelationsExample.scala\n",
            "spark-3.0.3-bin-hadoop2.7/examples/src/main/scala/org/apache/spark/examples/mllib/LBFGSExample.scala\n",
            "spark-3.0.3-bin-hadoop2.7/examples/src/main/scala/org/apache/spark/examples/mllib/TFIDFExample.scala\n",
            "spark-3.0.3-bin-hadoop2.7/examples/src/main/scala/org/apache/spark/examples/mllib/StandardScalerExample.scala\n",
            "spark-3.0.3-bin-hadoop2.7/examples/src/main/scala/org/apache/spark/examples/mllib/LogisticRegressionWithLBFGSExample.scala\n",
            "spark-3.0.3-bin-hadoop2.7/examples/src/main/scala/org/apache/spark/examples/mllib/StreamingTestExample.scala\n",
            "spark-3.0.3-bin-hadoop2.7/examples/src/main/scala/org/apache/spark/examples/mllib/BinaryClassification.scala\n",
            "spark-3.0.3-bin-hadoop2.7/examples/src/main/scala/org/apache/spark/examples/mllib/DenseKMeans.scala\n",
            "spark-3.0.3-bin-hadoop2.7/examples/src/main/scala/org/apache/spark/examples/mllib/GradientBoostingClassificationExample.scala\n",
            "spark-3.0.3-bin-hadoop2.7/examples/src/main/scala/org/apache/spark/examples/mllib/RankingMetricsExample.scala\n",
            "spark-3.0.3-bin-hadoop2.7/examples/src/main/scala/org/apache/spark/examples/mllib/GaussianMixtureExample.scala\n",
            "spark-3.0.3-bin-hadoop2.7/examples/src/main/scala/org/apache/spark/examples/mllib/MultivariateSummarizer.scala\n",
            "spark-3.0.3-bin-hadoop2.7/examples/src/main/scala/org/apache/spark/examples/mllib/IsotonicRegressionExample.scala\n",
            "spark-3.0.3-bin-hadoop2.7/examples/src/main/scala/org/apache/spark/examples/mllib/PCAOnSourceVectorExample.scala\n",
            "spark-3.0.3-bin-hadoop2.7/examples/src/main/scala/org/apache/spark/examples/mllib/Correlations.scala\n",
            "spark-3.0.3-bin-hadoop2.7/examples/src/main/scala/org/apache/spark/examples/mllib/HypothesisTestingExample.scala\n",
            "spark-3.0.3-bin-hadoop2.7/examples/src/main/scala/org/apache/spark/examples/mllib/DecisionTreeRegressionExample.scala\n",
            "spark-3.0.3-bin-hadoop2.7/examples/src/main/scala/org/apache/spark/examples/mllib/AssociationRulesExample.scala\n",
            "spark-3.0.3-bin-hadoop2.7/examples/src/main/scala/org/apache/spark/examples/mllib/StreamingLogisticRegression.scala\n",
            "spark-3.0.3-bin-hadoop2.7/examples/src/main/scala/org/apache/spark/examples/mllib/SVDExample.scala\n",
            "spark-3.0.3-bin-hadoop2.7/examples/src/main/scala/org/apache/spark/examples/mllib/PrefixSpanExample.scala\n",
            "spark-3.0.3-bin-hadoop2.7/examples/src/main/scala/org/apache/spark/examples/mllib/KMeansExample.scala\n",
            "spark-3.0.3-bin-hadoop2.7/examples/src/main/scala/org/apache/spark/examples/mllib/SparseNaiveBayes.scala\n",
            "spark-3.0.3-bin-hadoop2.7/examples/src/main/scala/org/apache/spark/examples/mllib/AbstractParams.scala\n",
            "spark-3.0.3-bin-hadoop2.7/examples/src/main/scala/org/apache/spark/examples/mllib/BinaryClassificationMetricsExample.scala\n",
            "spark-3.0.3-bin-hadoop2.7/examples/src/main/scala/org/apache/spark/examples/mllib/SampledRDDs.scala\n",
            "spark-3.0.3-bin-hadoop2.7/examples/src/main/scala/org/apache/spark/examples/mllib/FPGrowthExample.scala\n",
            "spark-3.0.3-bin-hadoop2.7/examples/src/main/scala/org/apache/spark/examples/mllib/ElementwiseProductExample.scala\n",
            "spark-3.0.3-bin-hadoop2.7/examples/src/main/scala/org/apache/spark/examples/mllib/RecommendationExample.scala\n",
            "spark-3.0.3-bin-hadoop2.7/examples/src/main/scala/org/apache/spark/examples/mllib/TallSkinnySVD.scala\n",
            "spark-3.0.3-bin-hadoop2.7/examples/src/main/scala/org/apache/spark/examples/mllib/HypothesisTestingKolmogorovSmirnovTestExample.scala\n",
            "spark-3.0.3-bin-hadoop2.7/examples/src/main/scala/org/apache/spark/examples/mllib/GradientBoostingRegressionExample.scala\n",
            "spark-3.0.3-bin-hadoop2.7/examples/src/main/scala/org/apache/spark/examples/mllib/StreamingKMeansExample.scala\n",
            "spark-3.0.3-bin-hadoop2.7/examples/src/main/scala/org/apache/spark/examples/mllib/CosineSimilarity.scala\n",
            "spark-3.0.3-bin-hadoop2.7/examples/src/main/scala/org/apache/spark/examples/mllib/RandomForestRegressionExample.scala\n",
            "spark-3.0.3-bin-hadoop2.7/examples/src/main/scala/org/apache/spark/examples/mllib/StreamingLinearRegressionExample.scala\n",
            "spark-3.0.3-bin-hadoop2.7/examples/src/main/scala/org/apache/spark/examples/mllib/StratifiedSamplingExample.scala\n",
            "spark-3.0.3-bin-hadoop2.7/examples/src/main/scala/org/apache/spark/examples/mllib/DecisionTreeClassificationExample.scala\n",
            "spark-3.0.3-bin-hadoop2.7/examples/src/main/scala/org/apache/spark/examples/mllib/TallSkinnyPCA.scala\n",
            "spark-3.0.3-bin-hadoop2.7/examples/src/main/scala/org/apache/spark/examples/mllib/RandomForestClassificationExample.scala\n",
            "spark-3.0.3-bin-hadoop2.7/examples/src/main/scala/org/apache/spark/examples/mllib/SimpleFPGrowth.scala\n",
            "spark-3.0.3-bin-hadoop2.7/examples/src/main/scala/org/apache/spark/examples/mllib/LatentDirichletAllocationExample.scala\n",
            "spark-3.0.3-bin-hadoop2.7/examples/src/main/scala/org/apache/spark/examples/mllib/KernelDensityEstimationExample.scala\n",
            "spark-3.0.3-bin-hadoop2.7/examples/src/main/scala/org/apache/spark/examples/mllib/PowerIterationClusteringExample.scala\n",
            "spark-3.0.3-bin-hadoop2.7/examples/src/main/scala/org/apache/spark/examples/mllib/SVMWithSGDExample.scala\n",
            "spark-3.0.3-bin-hadoop2.7/examples/src/main/scala/org/apache/spark/examples/mllib/LDAExample.scala\n",
            "spark-3.0.3-bin-hadoop2.7/examples/src/main/scala/org/apache/spark/examples/mllib/MovieLensALS.scala\n",
            "spark-3.0.3-bin-hadoop2.7/examples/src/main/scala/org/apache/spark/examples/mllib/NormalizerExample.scala\n",
            "spark-3.0.3-bin-hadoop2.7/examples/src/main/scala/org/apache/spark/examples/mllib/MulticlassMetricsExample.scala\n",
            "spark-3.0.3-bin-hadoop2.7/examples/src/main/scala/org/apache/spark/examples/mllib/ChiSqSelectorExample.scala\n",
            "spark-3.0.3-bin-hadoop2.7/examples/src/main/scala/org/apache/spark/examples/mllib/SummaryStatisticsExample.scala\n",
            "spark-3.0.3-bin-hadoop2.7/examples/src/main/scala/org/apache/spark/examples/mllib/PCAOnRowMatrixExample.scala\n",
            "spark-3.0.3-bin-hadoop2.7/examples/src/main/scala/org/apache/spark/examples/mllib/NaiveBayesExample.scala\n",
            "spark-3.0.3-bin-hadoop2.7/examples/src/main/scala/org/apache/spark/examples/SparkTC.scala\n",
            "spark-3.0.3-bin-hadoop2.7/examples/src/main/scala/org/apache/spark/examples/DriverSubmissionTest.scala\n",
            "spark-3.0.3-bin-hadoop2.7/examples/src/main/scala/org/apache/spark/examples/MultiBroadcastTest.scala\n",
            "spark-3.0.3-bin-hadoop2.7/examples/src/main/scala/org/apache/spark/examples/SparkLR.scala\n",
            "spark-3.0.3-bin-hadoop2.7/examples/src/main/scala/org/apache/spark/examples/SparkPi.scala\n",
            "spark-3.0.3-bin-hadoop2.7/examples/src/main/scala/org/apache/spark/examples/graphx/\n",
            "spark-3.0.3-bin-hadoop2.7/examples/src/main/scala/org/apache/spark/examples/graphx/ConnectedComponentsExample.scala\n",
            "spark-3.0.3-bin-hadoop2.7/examples/src/main/scala/org/apache/spark/examples/graphx/LiveJournalPageRank.scala\n",
            "spark-3.0.3-bin-hadoop2.7/examples/src/main/scala/org/apache/spark/examples/graphx/AggregateMessagesExample.scala\n",
            "spark-3.0.3-bin-hadoop2.7/examples/src/main/scala/org/apache/spark/examples/graphx/SSSPExample.scala\n",
            "spark-3.0.3-bin-hadoop2.7/examples/src/main/scala/org/apache/spark/examples/graphx/SynthBenchmark.scala\n",
            "spark-3.0.3-bin-hadoop2.7/examples/src/main/scala/org/apache/spark/examples/graphx/TriangleCountingExample.scala\n",
            "spark-3.0.3-bin-hadoop2.7/examples/src/main/scala/org/apache/spark/examples/graphx/PageRankExample.scala\n",
            "spark-3.0.3-bin-hadoop2.7/examples/src/main/scala/org/apache/spark/examples/graphx/ComprehensiveExample.scala\n",
            "spark-3.0.3-bin-hadoop2.7/examples/src/main/scala/org/apache/spark/examples/graphx/Analytics.scala\n",
            "spark-3.0.3-bin-hadoop2.7/examples/src/main/scala/org/apache/spark/examples/SparkKMeans.scala\n",
            "spark-3.0.3-bin-hadoop2.7/examples/src/main/scala/org/apache/spark/examples/streaming/\n",
            "spark-3.0.3-bin-hadoop2.7/examples/src/main/scala/org/apache/spark/examples/streaming/clickstream/\n",
            "spark-3.0.3-bin-hadoop2.7/examples/src/main/scala/org/apache/spark/examples/streaming/clickstream/PageViewGenerator.scala\n",
            "spark-3.0.3-bin-hadoop2.7/examples/src/main/scala/org/apache/spark/examples/streaming/clickstream/PageViewStream.scala\n",
            "spark-3.0.3-bin-hadoop2.7/examples/src/main/scala/org/apache/spark/examples/streaming/DirectKafkaWordCount.scala\n",
            "spark-3.0.3-bin-hadoop2.7/examples/src/main/scala/org/apache/spark/examples/streaming/HdfsWordCount.scala\n",
            "spark-3.0.3-bin-hadoop2.7/examples/src/main/scala/org/apache/spark/examples/streaming/DirectKerberizedKafkaWordCount.scala\n",
            "spark-3.0.3-bin-hadoop2.7/examples/src/main/scala/org/apache/spark/examples/streaming/RecoverableNetworkWordCount.scala\n",
            "spark-3.0.3-bin-hadoop2.7/examples/src/main/scala/org/apache/spark/examples/streaming/NetworkWordCount.scala\n",
            "spark-3.0.3-bin-hadoop2.7/examples/src/main/scala/org/apache/spark/examples/streaming/QueueStream.scala\n",
            "spark-3.0.3-bin-hadoop2.7/examples/src/main/scala/org/apache/spark/examples/streaming/SqlNetworkWordCount.scala\n",
            "spark-3.0.3-bin-hadoop2.7/examples/src/main/scala/org/apache/spark/examples/streaming/CustomReceiver.scala\n",
            "spark-3.0.3-bin-hadoop2.7/examples/src/main/scala/org/apache/spark/examples/streaming/RawNetworkGrep.scala\n",
            "spark-3.0.3-bin-hadoop2.7/examples/src/main/scala/org/apache/spark/examples/streaming/StatefulNetworkWordCount.scala\n",
            "spark-3.0.3-bin-hadoop2.7/examples/src/main/scala/org/apache/spark/examples/streaming/StreamingExamples.scala\n",
            "spark-3.0.3-bin-hadoop2.7/examples/src/main/scala/org/apache/spark/examples/LocalLR.scala\n",
            "spark-3.0.3-bin-hadoop2.7/examples/src/main/scala/org/apache/spark/examples/LocalKMeans.scala\n",
            "spark-3.0.3-bin-hadoop2.7/examples/src/main/scala/org/apache/spark/examples/GroupByTest.scala\n",
            "spark-3.0.3-bin-hadoop2.7/examples/src/main/scala/org/apache/spark/examples/LocalALS.scala\n",
            "spark-3.0.3-bin-hadoop2.7/examples/src/main/scala/org/apache/spark/examples/sql/\n",
            "spark-3.0.3-bin-hadoop2.7/examples/src/main/scala/org/apache/spark/examples/sql/SimpleTypedAggregator.scala\n",
            "spark-3.0.3-bin-hadoop2.7/examples/src/main/scala/org/apache/spark/examples/sql/UserDefinedUntypedAggregation.scala\n",
            "spark-3.0.3-bin-hadoop2.7/examples/src/main/scala/org/apache/spark/examples/sql/hive/\n",
            "spark-3.0.3-bin-hadoop2.7/examples/src/main/scala/org/apache/spark/examples/sql/hive/SparkHiveExample.scala\n",
            "spark-3.0.3-bin-hadoop2.7/examples/src/main/scala/org/apache/spark/examples/sql/RDDRelation.scala\n",
            "spark-3.0.3-bin-hadoop2.7/examples/src/main/scala/org/apache/spark/examples/sql/SparkSQLExample.scala\n",
            "spark-3.0.3-bin-hadoop2.7/examples/src/main/scala/org/apache/spark/examples/sql/SQLDataSourceExample.scala\n",
            "spark-3.0.3-bin-hadoop2.7/examples/src/main/scala/org/apache/spark/examples/sql/streaming/\n",
            "spark-3.0.3-bin-hadoop2.7/examples/src/main/scala/org/apache/spark/examples/sql/streaming/StructuredKerberizedKafkaWordCount.scala\n",
            "spark-3.0.3-bin-hadoop2.7/examples/src/main/scala/org/apache/spark/examples/sql/streaming/StructuredNetworkWordCount.scala\n",
            "spark-3.0.3-bin-hadoop2.7/examples/src/main/scala/org/apache/spark/examples/sql/streaming/StructuredNetworkWordCountWindowed.scala\n",
            "spark-3.0.3-bin-hadoop2.7/examples/src/main/scala/org/apache/spark/examples/sql/streaming/StructuredKafkaWordCount.scala\n",
            "spark-3.0.3-bin-hadoop2.7/examples/src/main/scala/org/apache/spark/examples/sql/streaming/StructuredSessionization.scala\n",
            "spark-3.0.3-bin-hadoop2.7/examples/src/main/scala/org/apache/spark/examples/sql/UserDefinedTypedAggregation.scala\n",
            "spark-3.0.3-bin-hadoop2.7/examples/src/main/scala/org/apache/spark/examples/sql/UserDefinedScalar.scala\n",
            "spark-3.0.3-bin-hadoop2.7/examples/src/main/scala/org/apache/spark/examples/SimpleSkewedGroupByTest.scala\n",
            "spark-3.0.3-bin-hadoop2.7/examples/src/main/scala/org/apache/spark/examples/LocalFileLR.scala\n",
            "spark-3.0.3-bin-hadoop2.7/examples/src/main/scala/org/apache/spark/examples/LocalPi.scala\n",
            "spark-3.0.3-bin-hadoop2.7/examples/src/main/scala/org/apache/spark/examples/DFSReadWriteTest.scala\n",
            "spark-3.0.3-bin-hadoop2.7/examples/src/main/scala/org/apache/spark/examples/SparkALS.scala\n",
            "spark-3.0.3-bin-hadoop2.7/examples/src/main/resources/\n",
            "spark-3.0.3-bin-hadoop2.7/examples/src/main/resources/people.json\n",
            "spark-3.0.3-bin-hadoop2.7/examples/src/main/resources/users.avro\n",
            "spark-3.0.3-bin-hadoop2.7/examples/src/main/resources/people.csv\n",
            "spark-3.0.3-bin-hadoop2.7/examples/src/main/resources/users.parquet\n",
            "spark-3.0.3-bin-hadoop2.7/examples/src/main/resources/users.orc\n",
            "spark-3.0.3-bin-hadoop2.7/examples/src/main/resources/dir1/\n",
            "spark-3.0.3-bin-hadoop2.7/examples/src/main/resources/dir1/file1.parquet\n",
            "spark-3.0.3-bin-hadoop2.7/examples/src/main/resources/dir1/dir2/\n",
            "spark-3.0.3-bin-hadoop2.7/examples/src/main/resources/dir1/dir2/file2.parquet\n",
            "spark-3.0.3-bin-hadoop2.7/examples/src/main/resources/dir1/file3.json\n",
            "spark-3.0.3-bin-hadoop2.7/examples/src/main/resources/user.avsc\n",
            "spark-3.0.3-bin-hadoop2.7/examples/src/main/resources/full_user.avsc\n",
            "spark-3.0.3-bin-hadoop2.7/examples/src/main/resources/kv1.txt\n",
            "spark-3.0.3-bin-hadoop2.7/examples/src/main/resources/people.txt\n",
            "spark-3.0.3-bin-hadoop2.7/examples/src/main/resources/employees.json\n",
            "spark-3.0.3-bin-hadoop2.7/examples/src/main/java/\n",
            "spark-3.0.3-bin-hadoop2.7/examples/src/main/java/org/\n",
            "spark-3.0.3-bin-hadoop2.7/examples/src/main/java/org/apache/\n",
            "spark-3.0.3-bin-hadoop2.7/examples/src/main/java/org/apache/spark/\n",
            "spark-3.0.3-bin-hadoop2.7/examples/src/main/java/org/apache/spark/examples/\n",
            "spark-3.0.3-bin-hadoop2.7/examples/src/main/java/org/apache/spark/examples/ml/\n",
            "spark-3.0.3-bin-hadoop2.7/examples/src/main/java/org/apache/spark/examples/ml/JavaStringIndexerExample.java\n",
            "spark-3.0.3-bin-hadoop2.7/examples/src/main/java/org/apache/spark/examples/ml/JavaChiSqSelectorExample.java\n",
            "spark-3.0.3-bin-hadoop2.7/examples/src/main/java/org/apache/spark/examples/ml/JavaLabeledDocument.java\n",
            "spark-3.0.3-bin-hadoop2.7/examples/src/main/java/org/apache/spark/examples/ml/JavaLogisticRegressionWithElasticNetExample.java\n",
            "spark-3.0.3-bin-hadoop2.7/examples/src/main/java/org/apache/spark/examples/ml/JavaPolynomialExpansionExample.java\n",
            "spark-3.0.3-bin-hadoop2.7/examples/src/main/java/org/apache/spark/examples/ml/JavaTfIdfExample.java\n",
            "spark-3.0.3-bin-hadoop2.7/examples/src/main/java/org/apache/spark/examples/ml/JavaBucketizerExample.java\n",
            "spark-3.0.3-bin-hadoop2.7/examples/src/main/java/org/apache/spark/examples/ml/JavaLogisticRegressionSummaryExample.java\n",
            "spark-3.0.3-bin-hadoop2.7/examples/src/main/java/org/apache/spark/examples/ml/JavaSummarizerExample.java\n",
            "spark-3.0.3-bin-hadoop2.7/examples/src/main/java/org/apache/spark/examples/ml/JavaQuantileDiscretizerExample.java\n",
            "spark-3.0.3-bin-hadoop2.7/examples/src/main/java/org/apache/spark/examples/ml/JavaBinarizerExample.java\n",
            "spark-3.0.3-bin-hadoop2.7/examples/src/main/java/org/apache/spark/examples/ml/JavaOneHotEncoderExample.java\n",
            "spark-3.0.3-bin-hadoop2.7/examples/src/main/java/org/apache/spark/examples/ml/JavaStandardScalerExample.java\n",
            "spark-3.0.3-bin-hadoop2.7/examples/src/main/java/org/apache/spark/examples/ml/JavaDCTExample.java\n",
            "spark-3.0.3-bin-hadoop2.7/examples/src/main/java/org/apache/spark/examples/ml/JavaDecisionTreeRegressionExample.java\n",
            "spark-3.0.3-bin-hadoop2.7/examples/src/main/java/org/apache/spark/examples/ml/JavaRandomForestClassifierExample.java\n",
            "spark-3.0.3-bin-hadoop2.7/examples/src/main/java/org/apache/spark/examples/ml/JavaOneVsRestExample.java\n",
            "spark-3.0.3-bin-hadoop2.7/examples/src/main/java/org/apache/spark/examples/ml/JavaGeneralizedLinearRegressionExample.java\n",
            "spark-3.0.3-bin-hadoop2.7/examples/src/main/java/org/apache/spark/examples/ml/JavaGaussianMixtureExample.java\n",
            "spark-3.0.3-bin-hadoop2.7/examples/src/main/java/org/apache/spark/examples/ml/JavaWord2VecExample.java\n",
            "spark-3.0.3-bin-hadoop2.7/examples/src/main/java/org/apache/spark/examples/ml/JavaNormalizerExample.java\n",
            "spark-3.0.3-bin-hadoop2.7/examples/src/main/java/org/apache/spark/examples/ml/JavaLDAExample.java\n",
            "spark-3.0.3-bin-hadoop2.7/examples/src/main/java/org/apache/spark/examples/ml/JavaCountVectorizerExample.java\n",
            "spark-3.0.3-bin-hadoop2.7/examples/src/main/java/org/apache/spark/examples/ml/JavaMultilayerPerceptronClassifierExample.java\n",
            "spark-3.0.3-bin-hadoop2.7/examples/src/main/java/org/apache/spark/examples/ml/JavaMinMaxScalerExample.java\n",
            "spark-3.0.3-bin-hadoop2.7/examples/src/main/java/org/apache/spark/examples/ml/JavaCorrelationExample.java\n",
            "spark-3.0.3-bin-hadoop2.7/examples/src/main/java/org/apache/spark/examples/ml/JavaNGramExample.java\n",
            "spark-3.0.3-bin-hadoop2.7/examples/src/main/java/org/apache/spark/examples/ml/JavaImputerExample.java\n",
            "spark-3.0.3-bin-hadoop2.7/examples/src/main/java/org/apache/spark/examples/ml/JavaMinHashLSHExample.java\n",
            "spark-3.0.3-bin-hadoop2.7/examples/src/main/java/org/apache/spark/examples/ml/JavaVectorSizeHintExample.java\n",
            "spark-3.0.3-bin-hadoop2.7/examples/src/main/java/org/apache/spark/examples/ml/JavaFMClassifierExample.java\n",
            "spark-3.0.3-bin-hadoop2.7/examples/src/main/java/org/apache/spark/examples/ml/JavaFeatureHasherExample.java\n",
            "spark-3.0.3-bin-hadoop2.7/examples/src/main/java/org/apache/spark/examples/ml/JavaModelSelectionViaTrainValidationSplitExample.java\n",
            "spark-3.0.3-bin-hadoop2.7/examples/src/main/java/org/apache/spark/examples/ml/JavaSQLTransformerExample.java\n",
            "spark-3.0.3-bin-hadoop2.7/examples/src/main/java/org/apache/spark/examples/ml/JavaKMeansExample.java\n",
            "spark-3.0.3-bin-hadoop2.7/examples/src/main/java/org/apache/spark/examples/ml/JavaVectorAssemblerExample.java\n",
            "spark-3.0.3-bin-hadoop2.7/examples/src/main/java/org/apache/spark/examples/ml/JavaGradientBoostedTreeRegressorExample.java\n",
            "spark-3.0.3-bin-hadoop2.7/examples/src/main/java/org/apache/spark/examples/ml/JavaPrefixSpanExample.java\n",
            "spark-3.0.3-bin-hadoop2.7/examples/src/main/java/org/apache/spark/examples/ml/JavaFMRegressorExample.java\n",
            "spark-3.0.3-bin-hadoop2.7/examples/src/main/java/org/apache/spark/examples/ml/JavaNaiveBayesExample.java\n",
            "spark-3.0.3-bin-hadoop2.7/examples/src/main/java/org/apache/spark/examples/ml/JavaMulticlassLogisticRegressionWithElasticNetExample.java\n",
            "spark-3.0.3-bin-hadoop2.7/examples/src/main/java/org/apache/spark/examples/ml/JavaModelSelectionViaCrossValidationExample.java\n",
            "spark-3.0.3-bin-hadoop2.7/examples/src/main/java/org/apache/spark/examples/ml/JavaDocument.java\n",
            "spark-3.0.3-bin-hadoop2.7/examples/src/main/java/org/apache/spark/examples/ml/JavaGradientBoostedTreeClassifierExample.java\n",
            "spark-3.0.3-bin-hadoop2.7/examples/src/main/java/org/apache/spark/examples/ml/JavaRandomForestRegressorExample.java\n",
            "spark-3.0.3-bin-hadoop2.7/examples/src/main/java/org/apache/spark/examples/ml/JavaAFTSurvivalRegressionExample.java\n",
            "spark-3.0.3-bin-hadoop2.7/examples/src/main/java/org/apache/spark/examples/ml/JavaIsotonicRegressionExample.java\n",
            "spark-3.0.3-bin-hadoop2.7/examples/src/main/java/org/apache/spark/examples/ml/JavaElementwiseProductExample.java\n",
            "spark-3.0.3-bin-hadoop2.7/examples/src/main/java/org/apache/spark/examples/ml/JavaALSExample.java\n",
            "spark-3.0.3-bin-hadoop2.7/examples/src/main/java/org/apache/spark/examples/ml/JavaBucketedRandomProjectionLSHExample.java\n",
            "spark-3.0.3-bin-hadoop2.7/examples/src/main/java/org/apache/spark/examples/ml/JavaVectorSlicerExample.java\n",
            "spark-3.0.3-bin-hadoop2.7/examples/src/main/java/org/apache/spark/examples/ml/JavaTokenizerExample.java\n",
            "spark-3.0.3-bin-hadoop2.7/examples/src/main/java/org/apache/spark/examples/ml/JavaRFormulaExample.java\n",
            "spark-3.0.3-bin-hadoop2.7/examples/src/main/java/org/apache/spark/examples/ml/JavaEstimatorTransformerParamExample.java\n",
            "spark-3.0.3-bin-hadoop2.7/examples/src/main/java/org/apache/spark/examples/ml/JavaPowerIterationClusteringExample.java\n",
            "spark-3.0.3-bin-hadoop2.7/examples/src/main/java/org/apache/spark/examples/ml/JavaBisectingKMeansExample.java\n",
            "spark-3.0.3-bin-hadoop2.7/examples/src/main/java/org/apache/spark/examples/ml/JavaMaxAbsScalerExample.java\n",
            "spark-3.0.3-bin-hadoop2.7/examples/src/main/java/org/apache/spark/examples/ml/JavaDecisionTreeClassificationExample.java\n",
            "spark-3.0.3-bin-hadoop2.7/examples/src/main/java/org/apache/spark/examples/ml/JavaPCAExample.java\n",
            "spark-3.0.3-bin-hadoop2.7/examples/src/main/java/org/apache/spark/examples/ml/JavaPipelineExample.java\n",
            "spark-3.0.3-bin-hadoop2.7/examples/src/main/java/org/apache/spark/examples/ml/JavaStopWordsRemoverExample.java\n",
            "spark-3.0.3-bin-hadoop2.7/examples/src/main/java/org/apache/spark/examples/ml/JavaIndexToStringExample.java\n",
            "spark-3.0.3-bin-hadoop2.7/examples/src/main/java/org/apache/spark/examples/ml/JavaFPGrowthExample.java\n",
            "spark-3.0.3-bin-hadoop2.7/examples/src/main/java/org/apache/spark/examples/ml/JavaVectorIndexerExample.java\n",
            "spark-3.0.3-bin-hadoop2.7/examples/src/main/java/org/apache/spark/examples/ml/JavaInteractionExample.java\n",
            "spark-3.0.3-bin-hadoop2.7/examples/src/main/java/org/apache/spark/examples/ml/JavaChiSquareTestExample.java\n",
            "spark-3.0.3-bin-hadoop2.7/examples/src/main/java/org/apache/spark/examples/ml/JavaRobustScalerExample.java\n",
            "spark-3.0.3-bin-hadoop2.7/examples/src/main/java/org/apache/spark/examples/ml/JavaLinearRegressionWithElasticNetExample.java\n",
            "spark-3.0.3-bin-hadoop2.7/examples/src/main/java/org/apache/spark/examples/ml/JavaLinearSVCExample.java\n",
            "spark-3.0.3-bin-hadoop2.7/examples/src/main/java/org/apache/spark/examples/JavaWordCount.java\n",
            "spark-3.0.3-bin-hadoop2.7/examples/src/main/java/org/apache/spark/examples/JavaHdfsLR.java\n",
            "spark-3.0.3-bin-hadoop2.7/examples/src/main/java/org/apache/spark/examples/JavaStatusTrackerDemo.java\n",
            "spark-3.0.3-bin-hadoop2.7/examples/src/main/java/org/apache/spark/examples/mllib/\n",
            "spark-3.0.3-bin-hadoop2.7/examples/src/main/java/org/apache/spark/examples/mllib/JavaChiSqSelectorExample.java\n",
            "spark-3.0.3-bin-hadoop2.7/examples/src/main/java/org/apache/spark/examples/mllib/JavaHypothesisTestingKolmogorovSmirnovTestExample.java\n",
            "spark-3.0.3-bin-hadoop2.7/examples/src/main/java/org/apache/spark/examples/mllib/JavaRandomForestRegressionExample.java\n",
            "spark-3.0.3-bin-hadoop2.7/examples/src/main/java/org/apache/spark/examples/mllib/JavaSimpleFPGrowth.java\n",
            "spark-3.0.3-bin-hadoop2.7/examples/src/main/java/org/apache/spark/examples/mllib/JavaRandomForestClassificationExample.java\n",
            "spark-3.0.3-bin-hadoop2.7/examples/src/main/java/org/apache/spark/examples/mllib/JavaMulticlassClassificationMetricsExample.java\n",
            "spark-3.0.3-bin-hadoop2.7/examples/src/main/java/org/apache/spark/examples/mllib/JavaKernelDensityEstimationExample.java\n",
            "spark-3.0.3-bin-hadoop2.7/examples/src/main/java/org/apache/spark/examples/mllib/JavaSummaryStatisticsExample.java\n",
            "spark-3.0.3-bin-hadoop2.7/examples/src/main/java/org/apache/spark/examples/mllib/JavaDecisionTreeRegressionExample.java\n",
            "spark-3.0.3-bin-hadoop2.7/examples/src/main/java/org/apache/spark/examples/mllib/JavaGradientBoostingClassificationExample.java\n",
            "spark-3.0.3-bin-hadoop2.7/examples/src/main/java/org/apache/spark/examples/mllib/JavaGaussianMixtureExample.java\n",
            "spark-3.0.3-bin-hadoop2.7/examples/src/main/java/org/apache/spark/examples/mllib/JavaStratifiedSamplingExample.java\n",
            "spark-3.0.3-bin-hadoop2.7/examples/src/main/java/org/apache/spark/examples/mllib/JavaSVDExample.java\n",
            "spark-3.0.3-bin-hadoop2.7/examples/src/main/java/org/apache/spark/examples/mllib/JavaAssociationRulesExample.java\n",
            "spark-3.0.3-bin-hadoop2.7/examples/src/main/java/org/apache/spark/examples/mllib/JavaALS.java\n",
            "spark-3.0.3-bin-hadoop2.7/examples/src/main/java/org/apache/spark/examples/mllib/JavaKMeansExample.java\n",
            "spark-3.0.3-bin-hadoop2.7/examples/src/main/java/org/apache/spark/examples/mllib/JavaSVMWithSGDExample.java\n",
            "spark-3.0.3-bin-hadoop2.7/examples/src/main/java/org/apache/spark/examples/mllib/JavaPrefixSpanExample.java\n",
            "spark-3.0.3-bin-hadoop2.7/examples/src/main/java/org/apache/spark/examples/mllib/JavaNaiveBayesExample.java\n",
            "spark-3.0.3-bin-hadoop2.7/examples/src/main/java/org/apache/spark/examples/mllib/JavaLogisticRegressionWithLBFGSExample.java\n",
            "spark-3.0.3-bin-hadoop2.7/examples/src/main/java/org/apache/spark/examples/mllib/JavaLBFGSExample.java\n",
            "spark-3.0.3-bin-hadoop2.7/examples/src/main/java/org/apache/spark/examples/mllib/JavaGradientBoostingRegressionExample.java\n",
            "spark-3.0.3-bin-hadoop2.7/examples/src/main/java/org/apache/spark/examples/mllib/JavaRankingMetricsExample.java\n",
            "spark-3.0.3-bin-hadoop2.7/examples/src/main/java/org/apache/spark/examples/mllib/JavaIsotonicRegressionExample.java\n",
            "spark-3.0.3-bin-hadoop2.7/examples/src/main/java/org/apache/spark/examples/mllib/JavaElementwiseProductExample.java\n",
            "spark-3.0.3-bin-hadoop2.7/examples/src/main/java/org/apache/spark/examples/mllib/JavaCorrelationsExample.java\n",
            "spark-3.0.3-bin-hadoop2.7/examples/src/main/java/org/apache/spark/examples/mllib/JavaPowerIterationClusteringExample.java\n",
            "spark-3.0.3-bin-hadoop2.7/examples/src/main/java/org/apache/spark/examples/mllib/JavaBisectingKMeansExample.java\n",
            "spark-3.0.3-bin-hadoop2.7/examples/src/main/java/org/apache/spark/examples/mllib/JavaDecisionTreeClassificationExample.java\n",
            "spark-3.0.3-bin-hadoop2.7/examples/src/main/java/org/apache/spark/examples/mllib/JavaPCAExample.java\n",
            "spark-3.0.3-bin-hadoop2.7/examples/src/main/java/org/apache/spark/examples/mllib/JavaRecommendationExample.java\n",
            "spark-3.0.3-bin-hadoop2.7/examples/src/main/java/org/apache/spark/examples/mllib/JavaLatentDirichletAllocationExample.java\n",
            "spark-3.0.3-bin-hadoop2.7/examples/src/main/java/org/apache/spark/examples/mllib/JavaHypothesisTestingExample.java\n",
            "spark-3.0.3-bin-hadoop2.7/examples/src/main/java/org/apache/spark/examples/mllib/JavaMultiLabelClassificationMetricsExample.java\n",
            "spark-3.0.3-bin-hadoop2.7/examples/src/main/java/org/apache/spark/examples/mllib/JavaBinaryClassificationMetricsExample.java\n",
            "spark-3.0.3-bin-hadoop2.7/examples/src/main/java/org/apache/spark/examples/mllib/JavaStreamingTestExample.java\n",
            "spark-3.0.3-bin-hadoop2.7/examples/src/main/java/org/apache/spark/examples/JavaPageRank.java\n",
            "spark-3.0.3-bin-hadoop2.7/examples/src/main/java/org/apache/spark/examples/JavaLogQuery.java\n",
            "spark-3.0.3-bin-hadoop2.7/examples/src/main/java/org/apache/spark/examples/streaming/\n",
            "spark-3.0.3-bin-hadoop2.7/examples/src/main/java/org/apache/spark/examples/streaming/JavaStatefulNetworkWordCount.java\n",
            "spark-3.0.3-bin-hadoop2.7/examples/src/main/java/org/apache/spark/examples/streaming/JavaCustomReceiver.java\n",
            "spark-3.0.3-bin-hadoop2.7/examples/src/main/java/org/apache/spark/examples/streaming/JavaRecord.java\n",
            "spark-3.0.3-bin-hadoop2.7/examples/src/main/java/org/apache/spark/examples/streaming/JavaNetworkWordCount.java\n",
            "spark-3.0.3-bin-hadoop2.7/examples/src/main/java/org/apache/spark/examples/streaming/JavaDirectKerberizedKafkaWordCount.java\n",
            "spark-3.0.3-bin-hadoop2.7/examples/src/main/java/org/apache/spark/examples/streaming/JavaDirectKafkaWordCount.java\n",
            "spark-3.0.3-bin-hadoop2.7/examples/src/main/java/org/apache/spark/examples/streaming/JavaSqlNetworkWordCount.java\n",
            "spark-3.0.3-bin-hadoop2.7/examples/src/main/java/org/apache/spark/examples/streaming/JavaRecoverableNetworkWordCount.java\n",
            "spark-3.0.3-bin-hadoop2.7/examples/src/main/java/org/apache/spark/examples/streaming/JavaQueueStream.java\n",
            "spark-3.0.3-bin-hadoop2.7/examples/src/main/java/org/apache/spark/examples/JavaSparkPi.java\n",
            "spark-3.0.3-bin-hadoop2.7/examples/src/main/java/org/apache/spark/examples/sql/\n",
            "spark-3.0.3-bin-hadoop2.7/examples/src/main/java/org/apache/spark/examples/sql/JavaUserDefinedScalar.java\n",
            "spark-3.0.3-bin-hadoop2.7/examples/src/main/java/org/apache/spark/examples/sql/hive/\n",
            "spark-3.0.3-bin-hadoop2.7/examples/src/main/java/org/apache/spark/examples/sql/hive/JavaSparkHiveExample.java\n",
            "spark-3.0.3-bin-hadoop2.7/examples/src/main/java/org/apache/spark/examples/sql/JavaUserDefinedTypedAggregation.java\n",
            "spark-3.0.3-bin-hadoop2.7/examples/src/main/java/org/apache/spark/examples/sql/JavaSQLDataSourceExample.java\n",
            "spark-3.0.3-bin-hadoop2.7/examples/src/main/java/org/apache/spark/examples/sql/JavaSparkSQLExample.java\n",
            "spark-3.0.3-bin-hadoop2.7/examples/src/main/java/org/apache/spark/examples/sql/JavaUserDefinedUntypedAggregation.java\n",
            "spark-3.0.3-bin-hadoop2.7/examples/src/main/java/org/apache/spark/examples/sql/streaming/\n",
            "spark-3.0.3-bin-hadoop2.7/examples/src/main/java/org/apache/spark/examples/sql/streaming/JavaStructuredKafkaWordCount.java\n",
            "spark-3.0.3-bin-hadoop2.7/examples/src/main/java/org/apache/spark/examples/sql/streaming/JavaStructuredNetworkWordCountWindowed.java\n",
            "spark-3.0.3-bin-hadoop2.7/examples/src/main/java/org/apache/spark/examples/sql/streaming/JavaStructuredSessionization.java\n",
            "spark-3.0.3-bin-hadoop2.7/examples/src/main/java/org/apache/spark/examples/sql/streaming/JavaStructuredNetworkWordCount.java\n",
            "spark-3.0.3-bin-hadoop2.7/examples/src/main/java/org/apache/spark/examples/sql/streaming/JavaStructuredKerberizedKafkaWordCount.java\n",
            "spark-3.0.3-bin-hadoop2.7/examples/src/main/java/org/apache/spark/examples/JavaTC.java\n",
            "spark-3.0.3-bin-hadoop2.7/examples/src/main/scripts/\n",
            "spark-3.0.3-bin-hadoop2.7/examples/src/main/scripts/getGpusResources.sh\n",
            "spark-3.0.3-bin-hadoop2.7/examples/src/main/python/\n",
            "spark-3.0.3-bin-hadoop2.7/examples/src/main/python/kmeans.py\n",
            "spark-3.0.3-bin-hadoop2.7/examples/src/main/python/ml/\n",
            "spark-3.0.3-bin-hadoop2.7/examples/src/main/python/ml/dct_example.py\n",
            "spark-3.0.3-bin-hadoop2.7/examples/src/main/python/ml/count_vectorizer_example.py\n",
            "spark-3.0.3-bin-hadoop2.7/examples/src/main/python/ml/chisq_selector_example.py\n",
            "spark-3.0.3-bin-hadoop2.7/examples/src/main/python/ml/gradient_boosted_tree_regressor_example.py\n",
            "spark-3.0.3-bin-hadoop2.7/examples/src/main/python/ml/tf_idf_example.py\n",
            "spark-3.0.3-bin-hadoop2.7/examples/src/main/python/ml/cross_validator.py\n",
            "spark-3.0.3-bin-hadoop2.7/examples/src/main/python/ml/linear_regression_with_elastic_net.py\n",
            "spark-3.0.3-bin-hadoop2.7/examples/src/main/python/ml/normalizer_example.py\n",
            "spark-3.0.3-bin-hadoop2.7/examples/src/main/python/ml/fm_regressor_example.py\n",
            "spark-3.0.3-bin-hadoop2.7/examples/src/main/python/ml/polynomial_expansion_example.py\n",
            "spark-3.0.3-bin-hadoop2.7/examples/src/main/python/ml/pipeline_example.py\n",
            "spark-3.0.3-bin-hadoop2.7/examples/src/main/python/ml/generalized_linear_regression_example.py\n",
            "spark-3.0.3-bin-hadoop2.7/examples/src/main/python/ml/multilayer_perceptron_classification.py\n",
            "spark-3.0.3-bin-hadoop2.7/examples/src/main/python/ml/bisecting_k_means_example.py\n",
            "spark-3.0.3-bin-hadoop2.7/examples/src/main/python/ml/chi_square_test_example.py\n",
            "spark-3.0.3-bin-hadoop2.7/examples/src/main/python/ml/train_validation_split.py\n",
            "spark-3.0.3-bin-hadoop2.7/examples/src/main/python/ml/stopwords_remover_example.py\n",
            "spark-3.0.3-bin-hadoop2.7/examples/src/main/python/ml/linearsvc.py\n",
            "spark-3.0.3-bin-hadoop2.7/examples/src/main/python/ml/lda_example.py\n",
            "spark-3.0.3-bin-hadoop2.7/examples/src/main/python/ml/random_forest_regressor_example.py\n",
            "spark-3.0.3-bin-hadoop2.7/examples/src/main/python/ml/vector_assembler_example.py\n",
            "spark-3.0.3-bin-hadoop2.7/examples/src/main/python/ml/word2vec_example.py\n",
            "spark-3.0.3-bin-hadoop2.7/examples/src/main/python/ml/string_indexer_example.py\n",
            "spark-3.0.3-bin-hadoop2.7/examples/src/main/python/ml/decision_tree_classification_example.py\n",
            "spark-3.0.3-bin-hadoop2.7/examples/src/main/python/ml/index_to_string_example.py\n",
            "spark-3.0.3-bin-hadoop2.7/examples/src/main/python/ml/bucketizer_example.py\n",
            "spark-3.0.3-bin-hadoop2.7/examples/src/main/python/ml/vector_size_hint_example.py\n",
            "spark-3.0.3-bin-hadoop2.7/examples/src/main/python/ml/vector_indexer_example.py\n",
            "spark-3.0.3-bin-hadoop2.7/examples/src/main/python/ml/tokenizer_example.py\n",
            "spark-3.0.3-bin-hadoop2.7/examples/src/main/python/ml/robust_scaler_example.py\n",
            "spark-3.0.3-bin-hadoop2.7/examples/src/main/python/ml/standard_scaler_example.py\n",
            "spark-3.0.3-bin-hadoop2.7/examples/src/main/python/ml/kmeans_example.py\n",
            "spark-3.0.3-bin-hadoop2.7/examples/src/main/python/ml/power_iteration_clustering_example.py\n",
            "spark-3.0.3-bin-hadoop2.7/examples/src/main/python/ml/naive_bayes_example.py\n",
            "spark-3.0.3-bin-hadoop2.7/examples/src/main/python/ml/pca_example.py\n",
            "spark-3.0.3-bin-hadoop2.7/examples/src/main/python/ml/aft_survival_regression.py\n",
            "spark-3.0.3-bin-hadoop2.7/examples/src/main/python/ml/min_max_scaler_example.py\n",
            "spark-3.0.3-bin-hadoop2.7/examples/src/main/python/ml/elementwise_product_example.py\n",
            "spark-3.0.3-bin-hadoop2.7/examples/src/main/python/ml/dataframe_example.py\n",
            "spark-3.0.3-bin-hadoop2.7/examples/src/main/python/ml/n_gram_example.py\n",
            "spark-3.0.3-bin-hadoop2.7/examples/src/main/python/ml/rformula_example.py\n",
            "spark-3.0.3-bin-hadoop2.7/examples/src/main/python/ml/one_vs_rest_example.py\n",
            "spark-3.0.3-bin-hadoop2.7/examples/src/main/python/ml/als_example.py\n",
            "spark-3.0.3-bin-hadoop2.7/examples/src/main/python/ml/onehot_encoder_example.py\n",
            "spark-3.0.3-bin-hadoop2.7/examples/src/main/python/ml/vector_slicer_example.py\n",
            "spark-3.0.3-bin-hadoop2.7/examples/src/main/python/ml/logistic_regression_with_elastic_net.py\n",
            "spark-3.0.3-bin-hadoop2.7/examples/src/main/python/ml/sql_transformer.py\n",
            "spark-3.0.3-bin-hadoop2.7/examples/src/main/python/ml/multiclass_logistic_regression_with_elastic_net.py\n",
            "spark-3.0.3-bin-hadoop2.7/examples/src/main/python/ml/summarizer_example.py\n",
            "spark-3.0.3-bin-hadoop2.7/examples/src/main/python/ml/quantile_discretizer_example.py\n",
            "spark-3.0.3-bin-hadoop2.7/examples/src/main/python/ml/feature_hasher_example.py\n",
            "spark-3.0.3-bin-hadoop2.7/examples/src/main/python/ml/imputer_example.py\n",
            "spark-3.0.3-bin-hadoop2.7/examples/src/main/python/ml/bucketed_random_projection_lsh_example.py\n",
            "spark-3.0.3-bin-hadoop2.7/examples/src/main/python/ml/estimator_transformer_param_example.py\n",
            "spark-3.0.3-bin-hadoop2.7/examples/src/main/python/ml/gradient_boosted_tree_classifier_example.py\n",
            "spark-3.0.3-bin-hadoop2.7/examples/src/main/python/ml/logistic_regression_summary_example.py\n",
            "spark-3.0.3-bin-hadoop2.7/examples/src/main/python/ml/decision_tree_regression_example.py\n",
            "spark-3.0.3-bin-hadoop2.7/examples/src/main/python/ml/fm_classifier_example.py\n",
            "spark-3.0.3-bin-hadoop2.7/examples/src/main/python/ml/gaussian_mixture_example.py\n",
            "spark-3.0.3-bin-hadoop2.7/examples/src/main/python/ml/fpgrowth_example.py\n",
            "spark-3.0.3-bin-hadoop2.7/examples/src/main/python/ml/random_forest_classifier_example.py\n",
            "spark-3.0.3-bin-hadoop2.7/examples/src/main/python/ml/correlation_example.py\n",
            "spark-3.0.3-bin-hadoop2.7/examples/src/main/python/ml/min_hash_lsh_example.py\n",
            "spark-3.0.3-bin-hadoop2.7/examples/src/main/python/ml/binarizer_example.py\n",
            "spark-3.0.3-bin-hadoop2.7/examples/src/main/python/ml/prefixspan_example.py\n",
            "spark-3.0.3-bin-hadoop2.7/examples/src/main/python/ml/max_abs_scaler_example.py\n",
            "spark-3.0.3-bin-hadoop2.7/examples/src/main/python/ml/isotonic_regression_example.py\n",
            "spark-3.0.3-bin-hadoop2.7/examples/src/main/python/ml/interaction_example.py\n",
            "spark-3.0.3-bin-hadoop2.7/examples/src/main/python/logistic_regression.py\n",
            "spark-3.0.3-bin-hadoop2.7/examples/src/main/python/als.py\n",
            "spark-3.0.3-bin-hadoop2.7/examples/src/main/python/mllib/\n",
            "spark-3.0.3-bin-hadoop2.7/examples/src/main/python/mllib/word2vec.py\n",
            "spark-3.0.3-bin-hadoop2.7/examples/src/main/python/mllib/correlations_example.py\n",
            "spark-3.0.3-bin-hadoop2.7/examples/src/main/python/mllib/gradient_boosting_classification_example.py\n",
            "spark-3.0.3-bin-hadoop2.7/examples/src/main/python/mllib/kernel_density_estimation_example.py\n",
            "spark-3.0.3-bin-hadoop2.7/examples/src/main/python/mllib/hypothesis_testing_example.py\n",
            "spark-3.0.3-bin-hadoop2.7/examples/src/main/python/mllib/svd_example.py\n",
            "spark-3.0.3-bin-hadoop2.7/examples/src/main/python/mllib/kmeans.py\n",
            "spark-3.0.3-bin-hadoop2.7/examples/src/main/python/mllib/latent_dirichlet_allocation_example.py\n",
            "spark-3.0.3-bin-hadoop2.7/examples/src/main/python/mllib/tf_idf_example.py\n",
            "spark-3.0.3-bin-hadoop2.7/examples/src/main/python/mllib/correlations.py\n",
            "spark-3.0.3-bin-hadoop2.7/examples/src/main/python/mllib/random_forest_regression_example.py\n",
            "spark-3.0.3-bin-hadoop2.7/examples/src/main/python/mllib/normalizer_example.py\n",
            "spark-3.0.3-bin-hadoop2.7/examples/src/main/python/mllib/logistic_regression.py\n",
            "spark-3.0.3-bin-hadoop2.7/examples/src/main/python/mllib/multi_label_metrics_example.py\n",
            "spark-3.0.3-bin-hadoop2.7/examples/src/main/python/mllib/gradient_boosting_regression_example.py\n",
            "spark-3.0.3-bin-hadoop2.7/examples/src/main/python/mllib/random_forest_classification_example.py\n",
            "spark-3.0.3-bin-hadoop2.7/examples/src/main/python/mllib/streaming_linear_regression_example.py\n",
            "spark-3.0.3-bin-hadoop2.7/examples/src/main/python/mllib/sampled_rdds.py\n",
            "spark-3.0.3-bin-hadoop2.7/examples/src/main/python/mllib/bisecting_k_means_example.py\n",
            "spark-3.0.3-bin-hadoop2.7/examples/src/main/python/mllib/logistic_regression_with_lbfgs_example.py\n",
            "spark-3.0.3-bin-hadoop2.7/examples/src/main/python/mllib/k_means_example.py\n",
            "spark-3.0.3-bin-hadoop2.7/examples/src/main/python/mllib/streaming_k_means_example.py\n",
            "spark-3.0.3-bin-hadoop2.7/examples/src/main/python/mllib/word2vec_example.py\n",
            "spark-3.0.3-bin-hadoop2.7/examples/src/main/python/mllib/multi_class_metrics_example.py\n",
            "spark-3.0.3-bin-hadoop2.7/examples/src/main/python/mllib/decision_tree_classification_example.py\n",
            "spark-3.0.3-bin-hadoop2.7/examples/src/main/python/mllib/summary_statistics_example.py\n",
            "spark-3.0.3-bin-hadoop2.7/examples/src/main/python/mllib/binary_classification_metrics_example.py\n",
            "spark-3.0.3-bin-hadoop2.7/examples/src/main/python/mllib/standard_scaler_example.py\n",
            "spark-3.0.3-bin-hadoop2.7/examples/src/main/python/mllib/power_iteration_clustering_example.py\n",
            "spark-3.0.3-bin-hadoop2.7/examples/src/main/python/mllib/gaussian_mixture_model.py\n",
            "spark-3.0.3-bin-hadoop2.7/examples/src/main/python/mllib/regression_metrics_example.py\n",
            "spark-3.0.3-bin-hadoop2.7/examples/src/main/python/mllib/naive_bayes_example.py\n",
            "spark-3.0.3-bin-hadoop2.7/examples/src/main/python/mllib/elementwise_product_example.py\n",
            "spark-3.0.3-bin-hadoop2.7/examples/src/main/python/mllib/linear_regression_with_sgd_example.py\n",
            "spark-3.0.3-bin-hadoop2.7/examples/src/main/python/mllib/pca_rowmatrix_example.py\n",
            "spark-3.0.3-bin-hadoop2.7/examples/src/main/python/mllib/hypothesis_testing_kolmogorov_smirnov_test_example.py\n",
            "spark-3.0.3-bin-hadoop2.7/examples/src/main/python/mllib/random_rdd_generation.py\n",
            "spark-3.0.3-bin-hadoop2.7/examples/src/main/python/mllib/decision_tree_regression_example.py\n",
            "spark-3.0.3-bin-hadoop2.7/examples/src/main/python/mllib/gaussian_mixture_example.py\n",
            "spark-3.0.3-bin-hadoop2.7/examples/src/main/python/mllib/recommendation_example.py\n",
            "spark-3.0.3-bin-hadoop2.7/examples/src/main/python/mllib/fpgrowth_example.py\n",
            "spark-3.0.3-bin-hadoop2.7/examples/src/main/python/mllib/ranking_metrics_example.py\n",
            "spark-3.0.3-bin-hadoop2.7/examples/src/main/python/mllib/svm_with_sgd_example.py\n",
            "spark-3.0.3-bin-hadoop2.7/examples/src/main/python/mllib/isotonic_regression_example.py\n",
            "spark-3.0.3-bin-hadoop2.7/examples/src/main/python/mllib/stratified_sampling_example.py\n",
            "spark-3.0.3-bin-hadoop2.7/examples/src/main/python/wordcount.py\n",
            "spark-3.0.3-bin-hadoop2.7/examples/src/main/python/status_api_demo.py\n",
            "spark-3.0.3-bin-hadoop2.7/examples/src/main/python/pagerank.py\n",
            "spark-3.0.3-bin-hadoop2.7/examples/src/main/python/sort.py\n",
            "spark-3.0.3-bin-hadoop2.7/examples/src/main/python/transitive_closure.py\n",
            "spark-3.0.3-bin-hadoop2.7/examples/src/main/python/avro_inputformat.py\n",
            "spark-3.0.3-bin-hadoop2.7/examples/src/main/python/pi.py\n",
            "spark-3.0.3-bin-hadoop2.7/examples/src/main/python/streaming/\n",
            "spark-3.0.3-bin-hadoop2.7/examples/src/main/python/streaming/queue_stream.py\n",
            "spark-3.0.3-bin-hadoop2.7/examples/src/main/python/streaming/stateful_network_wordcount.py\n",
            "spark-3.0.3-bin-hadoop2.7/examples/src/main/python/streaming/network_wordjoinsentiments.py\n",
            "spark-3.0.3-bin-hadoop2.7/examples/src/main/python/streaming/sql_network_wordcount.py\n",
            "spark-3.0.3-bin-hadoop2.7/examples/src/main/python/streaming/network_wordcount.py\n",
            "spark-3.0.3-bin-hadoop2.7/examples/src/main/python/streaming/hdfs_wordcount.py\n",
            "spark-3.0.3-bin-hadoop2.7/examples/src/main/python/streaming/recoverable_network_wordcount.py\n",
            "spark-3.0.3-bin-hadoop2.7/examples/src/main/python/sql/\n",
            "spark-3.0.3-bin-hadoop2.7/examples/src/main/python/sql/datasource.py\n",
            "spark-3.0.3-bin-hadoop2.7/examples/src/main/python/sql/hive.py\n",
            "spark-3.0.3-bin-hadoop2.7/examples/src/main/python/sql/arrow.py\n",
            "spark-3.0.3-bin-hadoop2.7/examples/src/main/python/sql/streaming/\n",
            "spark-3.0.3-bin-hadoop2.7/examples/src/main/python/sql/streaming/structured_network_wordcount_windowed.py\n",
            "spark-3.0.3-bin-hadoop2.7/examples/src/main/python/sql/streaming/structured_network_wordcount.py\n",
            "spark-3.0.3-bin-hadoop2.7/examples/src/main/python/sql/streaming/structured_kafka_wordcount.py\n",
            "spark-3.0.3-bin-hadoop2.7/examples/src/main/python/sql/basic.py\n",
            "spark-3.0.3-bin-hadoop2.7/examples/src/main/python/parquet_inputformat.py\n",
            "spark-3.0.3-bin-hadoop2.7/examples/jars/\n",
            "spark-3.0.3-bin-hadoop2.7/examples/jars/spark-examples_2.12-3.0.3.jar\n",
            "spark-3.0.3-bin-hadoop2.7/examples/jars/scopt_2.12-3.7.1.jar\n",
            "spark-3.0.3-bin-hadoop2.7/conf/\n",
            "spark-3.0.3-bin-hadoop2.7/conf/slaves.template\n",
            "spark-3.0.3-bin-hadoop2.7/conf/metrics.properties.template\n",
            "spark-3.0.3-bin-hadoop2.7/conf/fairscheduler.xml.template\n",
            "spark-3.0.3-bin-hadoop2.7/conf/log4j.properties.template\n",
            "spark-3.0.3-bin-hadoop2.7/conf/spark-defaults.conf.template\n",
            "spark-3.0.3-bin-hadoop2.7/conf/spark-env.sh.template\n",
            "spark-3.0.3-bin-hadoop2.7/bin/\n",
            "spark-3.0.3-bin-hadoop2.7/bin/sparkR.cmd\n",
            "spark-3.0.3-bin-hadoop2.7/bin/sparkR\n",
            "spark-3.0.3-bin-hadoop2.7/bin/spark-submit\n",
            "spark-3.0.3-bin-hadoop2.7/bin/pyspark2.cmd\n",
            "spark-3.0.3-bin-hadoop2.7/bin/spark-class\n",
            "spark-3.0.3-bin-hadoop2.7/bin/pyspark.cmd\n",
            "spark-3.0.3-bin-hadoop2.7/bin/spark-submit2.cmd\n",
            "spark-3.0.3-bin-hadoop2.7/bin/load-spark-env.cmd\n",
            "spark-3.0.3-bin-hadoop2.7/bin/spark-sql\n",
            "spark-3.0.3-bin-hadoop2.7/bin/docker-image-tool.sh\n",
            "spark-3.0.3-bin-hadoop2.7/bin/find-spark-home.cmd\n",
            "spark-3.0.3-bin-hadoop2.7/bin/load-spark-env.sh\n",
            "spark-3.0.3-bin-hadoop2.7/bin/pyspark\n",
            "spark-3.0.3-bin-hadoop2.7/bin/spark-shell.cmd\n",
            "spark-3.0.3-bin-hadoop2.7/bin/spark-shell2.cmd\n",
            "spark-3.0.3-bin-hadoop2.7/bin/spark-submit.cmd\n",
            "spark-3.0.3-bin-hadoop2.7/bin/beeline.cmd\n",
            "spark-3.0.3-bin-hadoop2.7/bin/find-spark-home\n",
            "spark-3.0.3-bin-hadoop2.7/bin/spark-class.cmd\n",
            "spark-3.0.3-bin-hadoop2.7/bin/sparkR2.cmd\n",
            "spark-3.0.3-bin-hadoop2.7/bin/beeline\n",
            "spark-3.0.3-bin-hadoop2.7/bin/spark-class2.cmd\n",
            "spark-3.0.3-bin-hadoop2.7/bin/spark-sql.cmd\n",
            "spark-3.0.3-bin-hadoop2.7/bin/run-example\n",
            "spark-3.0.3-bin-hadoop2.7/bin/spark-shell\n",
            "spark-3.0.3-bin-hadoop2.7/bin/run-example.cmd\n",
            "spark-3.0.3-bin-hadoop2.7/bin/spark-sql2.cmd\n",
            "spark-3.0.3-bin-hadoop2.7/python/\n",
            "spark-3.0.3-bin-hadoop2.7/python/.gitignore\n",
            "spark-3.0.3-bin-hadoop2.7/python/run-tests-with-coverage\n",
            "spark-3.0.3-bin-hadoop2.7/python/pylintrc\n",
            "spark-3.0.3-bin-hadoop2.7/python/MANIFEST.in\n",
            "spark-3.0.3-bin-hadoop2.7/python/README.md\n",
            "spark-3.0.3-bin-hadoop2.7/python/test_coverage/\n",
            "spark-3.0.3-bin-hadoop2.7/python/test_coverage/coverage_daemon.py\n",
            "spark-3.0.3-bin-hadoop2.7/python/test_coverage/conf/\n",
            "spark-3.0.3-bin-hadoop2.7/python/test_coverage/conf/spark-defaults.conf\n",
            "spark-3.0.3-bin-hadoop2.7/python/test_coverage/sitecustomize.py\n",
            "spark-3.0.3-bin-hadoop2.7/python/run-tests.py\n",
            "spark-3.0.3-bin-hadoop2.7/python/setup.py\n",
            "spark-3.0.3-bin-hadoop2.7/python/test_support/\n",
            "spark-3.0.3-bin-hadoop2.7/python/test_support/userlibrary.py\n",
            "spark-3.0.3-bin-hadoop2.7/python/test_support/hello/\n",
            "spark-3.0.3-bin-hadoop2.7/python/test_support/hello/sub_hello/\n",
            "spark-3.0.3-bin-hadoop2.7/python/test_support/hello/sub_hello/sub_hello.txt\n",
            "spark-3.0.3-bin-hadoop2.7/python/test_support/hello/hello.txt\n",
            "spark-3.0.3-bin-hadoop2.7/python/test_support/userlib-0.1.zip\n",
            "spark-3.0.3-bin-hadoop2.7/python/test_support/SimpleHTTPServer.py\n",
            "spark-3.0.3-bin-hadoop2.7/python/test_support/sql/\n",
            "spark-3.0.3-bin-hadoop2.7/python/test_support/sql/people.json\n",
            "spark-3.0.3-bin-hadoop2.7/python/test_support/sql/people_array.json\n",
            "spark-3.0.3-bin-hadoop2.7/python/test_support/sql/people_array_utf16le.json\n",
            "spark-3.0.3-bin-hadoop2.7/python/test_support/sql/text-test.txt\n",
            "spark-3.0.3-bin-hadoop2.7/python/test_support/sql/ages.csv\n",
            "spark-3.0.3-bin-hadoop2.7/python/test_support/sql/parquet_partitioned/\n",
            "spark-3.0.3-bin-hadoop2.7/python/test_support/sql/parquet_partitioned/year=2015/\n",
            "spark-3.0.3-bin-hadoop2.7/python/test_support/sql/parquet_partitioned/year=2015/month=10/\n",
            "spark-3.0.3-bin-hadoop2.7/python/test_support/sql/parquet_partitioned/year=2015/month=10/day=26/\n",
            "spark-3.0.3-bin-hadoop2.7/python/test_support/sql/parquet_partitioned/year=2015/month=10/day=26/.part-r-00005.gz.parquet.crc\n",
            "spark-3.0.3-bin-hadoop2.7/python/test_support/sql/parquet_partitioned/year=2015/month=10/day=26/part-r-00005.gz.parquet\n",
            "spark-3.0.3-bin-hadoop2.7/python/test_support/sql/parquet_partitioned/year=2015/month=10/day=25/\n",
            "spark-3.0.3-bin-hadoop2.7/python/test_support/sql/parquet_partitioned/year=2015/month=10/day=25/.part-r-00002.gz.parquet.crc\n",
            "spark-3.0.3-bin-hadoop2.7/python/test_support/sql/parquet_partitioned/year=2015/month=10/day=25/.part-r-00004.gz.parquet.crc\n",
            "spark-3.0.3-bin-hadoop2.7/python/test_support/sql/parquet_partitioned/year=2015/month=10/day=25/part-r-00004.gz.parquet\n",
            "spark-3.0.3-bin-hadoop2.7/python/test_support/sql/parquet_partitioned/year=2015/month=10/day=25/part-r-00002.gz.parquet\n",
            "spark-3.0.3-bin-hadoop2.7/python/test_support/sql/parquet_partitioned/year=2015/month=9/\n",
            "spark-3.0.3-bin-hadoop2.7/python/test_support/sql/parquet_partitioned/year=2015/month=9/day=1/\n",
            "spark-3.0.3-bin-hadoop2.7/python/test_support/sql/parquet_partitioned/year=2015/month=9/day=1/.part-r-00007.gz.parquet.crc\n",
            "spark-3.0.3-bin-hadoop2.7/python/test_support/sql/parquet_partitioned/year=2015/month=9/day=1/part-r-00007.gz.parquet\n",
            "spark-3.0.3-bin-hadoop2.7/python/test_support/sql/parquet_partitioned/_metadata\n",
            "spark-3.0.3-bin-hadoop2.7/python/test_support/sql/parquet_partitioned/year=2014/\n",
            "spark-3.0.3-bin-hadoop2.7/python/test_support/sql/parquet_partitioned/year=2014/month=9/\n",
            "spark-3.0.3-bin-hadoop2.7/python/test_support/sql/parquet_partitioned/year=2014/month=9/day=1/\n",
            "spark-3.0.3-bin-hadoop2.7/python/test_support/sql/parquet_partitioned/year=2014/month=9/day=1/.part-r-00008.gz.parquet.crc\n",
            "spark-3.0.3-bin-hadoop2.7/python/test_support/sql/parquet_partitioned/year=2014/month=9/day=1/part-r-00008.gz.parquet\n",
            "spark-3.0.3-bin-hadoop2.7/python/test_support/sql/parquet_partitioned/_common_metadata\n",
            "spark-3.0.3-bin-hadoop2.7/python/test_support/sql/parquet_partitioned/_SUCCESS\n",
            "spark-3.0.3-bin-hadoop2.7/python/test_support/sql/orc_partitioned/\n",
            "spark-3.0.3-bin-hadoop2.7/python/test_support/sql/orc_partitioned/b=1/\n",
            "spark-3.0.3-bin-hadoop2.7/python/test_support/sql/orc_partitioned/b=1/c=1/\n",
            "spark-3.0.3-bin-hadoop2.7/python/test_support/sql/orc_partitioned/b=1/c=1/part-r-00000-829af031-b970-49d6-ad39-30460a0be2c8.orc\n",
            "spark-3.0.3-bin-hadoop2.7/python/test_support/sql/orc_partitioned/b=1/c=1/.part-r-00000-829af031-b970-49d6-ad39-30460a0be2c8.orc.crc\n",
            "spark-3.0.3-bin-hadoop2.7/python/test_support/sql/orc_partitioned/b=0/\n",
            "spark-3.0.3-bin-hadoop2.7/python/test_support/sql/orc_partitioned/b=0/c=0/\n",
            "spark-3.0.3-bin-hadoop2.7/python/test_support/sql/orc_partitioned/b=0/c=0/part-r-00000-829af031-b970-49d6-ad39-30460a0be2c8.orc\n",
            "spark-3.0.3-bin-hadoop2.7/python/test_support/sql/orc_partitioned/b=0/c=0/.part-r-00000-829af031-b970-49d6-ad39-30460a0be2c8.orc.crc\n",
            "spark-3.0.3-bin-hadoop2.7/python/test_support/sql/orc_partitioned/_SUCCESS\n",
            "spark-3.0.3-bin-hadoop2.7/python/test_support/sql/ages_newlines.csv\n",
            "spark-3.0.3-bin-hadoop2.7/python/test_support/sql/streaming/\n",
            "spark-3.0.3-bin-hadoop2.7/python/test_support/sql/streaming/text-test.txt\n",
            "spark-3.0.3-bin-hadoop2.7/python/test_support/sql/people1.json\n",
            "spark-3.0.3-bin-hadoop2.7/python/pyspark/\n",
            "spark-3.0.3-bin-hadoop2.7/python/pyspark/tests/\n",
            "spark-3.0.3-bin-hadoop2.7/python/pyspark/tests/test_rddbarrier.py\n",
            "spark-3.0.3-bin-hadoop2.7/python/pyspark/tests/test_worker.py\n",
            "spark-3.0.3-bin-hadoop2.7/python/pyspark/tests/test_serializers.py\n",
            "spark-3.0.3-bin-hadoop2.7/python/pyspark/tests/test_util.py\n",
            "spark-3.0.3-bin-hadoop2.7/python/pyspark/tests/test_rdd.py\n",
            "spark-3.0.3-bin-hadoop2.7/python/pyspark/tests/__init__.py\n",
            "spark-3.0.3-bin-hadoop2.7/python/pyspark/tests/test_broadcast.py\n",
            "spark-3.0.3-bin-hadoop2.7/python/pyspark/tests/test_appsubmit.py\n",
            "spark-3.0.3-bin-hadoop2.7/python/pyspark/tests/test_profiler.py\n",
            "spark-3.0.3-bin-hadoop2.7/python/pyspark/tests/test_pin_thread.py\n",
            "spark-3.0.3-bin-hadoop2.7/python/pyspark/tests/test_shuffle.py\n",
            "spark-3.0.3-bin-hadoop2.7/python/pyspark/tests/test_join.py\n",
            "spark-3.0.3-bin-hadoop2.7/python/pyspark/tests/test_taskcontext.py\n",
            "spark-3.0.3-bin-hadoop2.7/python/pyspark/tests/test_context.py\n",
            "spark-3.0.3-bin-hadoop2.7/python/pyspark/tests/test_readwrite.py\n",
            "spark-3.0.3-bin-hadoop2.7/python/pyspark/tests/test_conf.py\n",
            "spark-3.0.3-bin-hadoop2.7/python/pyspark/tests/test_daemon.py\n",
            "spark-3.0.3-bin-hadoop2.7/python/pyspark/testing/\n",
            "spark-3.0.3-bin-hadoop2.7/python/pyspark/testing/mlutils.py\n",
            "spark-3.0.3-bin-hadoop2.7/python/pyspark/testing/__init__.py\n",
            "spark-3.0.3-bin-hadoop2.7/python/pyspark/testing/mllibutils.py\n",
            "spark-3.0.3-bin-hadoop2.7/python/pyspark/testing/utils.py\n",
            "spark-3.0.3-bin-hadoop2.7/python/pyspark/testing/sqlutils.py\n",
            "spark-3.0.3-bin-hadoop2.7/python/pyspark/testing/streamingutils.py\n",
            "spark-3.0.3-bin-hadoop2.7/python/pyspark/accumulators.py\n",
            "spark-3.0.3-bin-hadoop2.7/python/pyspark/rddsampler.py\n",
            "spark-3.0.3-bin-hadoop2.7/python/pyspark/ml/\n",
            "spark-3.0.3-bin-hadoop2.7/python/pyspark/ml/tests/\n",
            "spark-3.0.3-bin-hadoop2.7/python/pyspark/ml/tests/test_algorithms.py\n",
            "spark-3.0.3-bin-hadoop2.7/python/pyspark/ml/tests/test_evaluation.py\n",
            "spark-3.0.3-bin-hadoop2.7/python/pyspark/ml/tests/test_util.py\n",
            "spark-3.0.3-bin-hadoop2.7/python/pyspark/ml/tests/test_feature.py\n",
            "spark-3.0.3-bin-hadoop2.7/python/pyspark/ml/tests/test_pipeline.py\n",
            "spark-3.0.3-bin-hadoop2.7/python/pyspark/ml/tests/test_wrapper.py\n",
            "spark-3.0.3-bin-hadoop2.7/python/pyspark/ml/tests/__init__.py\n",
            "spark-3.0.3-bin-hadoop2.7/python/pyspark/ml/tests/test_tuning.py\n",
            "spark-3.0.3-bin-hadoop2.7/python/pyspark/ml/tests/test_persistence.py\n",
            "spark-3.0.3-bin-hadoop2.7/python/pyspark/ml/tests/test_param.py\n",
            "spark-3.0.3-bin-hadoop2.7/python/pyspark/ml/tests/test_training_summary.py\n",
            "spark-3.0.3-bin-hadoop2.7/python/pyspark/ml/tests/test_linalg.py\n",
            "spark-3.0.3-bin-hadoop2.7/python/pyspark/ml/tests/test_image.py\n",
            "spark-3.0.3-bin-hadoop2.7/python/pyspark/ml/tests/test_stat.py\n",
            "spark-3.0.3-bin-hadoop2.7/python/pyspark/ml/tests/test_base.py\n",
            "spark-3.0.3-bin-hadoop2.7/python/pyspark/ml/functions.py\n",
            "spark-3.0.3-bin-hadoop2.7/python/pyspark/ml/tuning.py\n",
            "spark-3.0.3-bin-hadoop2.7/python/pyspark/ml/pipeline.py\n",
            "spark-3.0.3-bin-hadoop2.7/python/pyspark/ml/base.py\n",
            "spark-3.0.3-bin-hadoop2.7/python/pyspark/ml/feature.py\n",
            "spark-3.0.3-bin-hadoop2.7/python/pyspark/ml/__init__.py\n",
            "spark-3.0.3-bin-hadoop2.7/python/pyspark/ml/stat.py\n",
            "spark-3.0.3-bin-hadoop2.7/python/pyspark/ml/image.py\n",
            "spark-3.0.3-bin-hadoop2.7/python/pyspark/ml/classification.py\n",
            "spark-3.0.3-bin-hadoop2.7/python/pyspark/ml/recommendation.py\n",
            "spark-3.0.3-bin-hadoop2.7/python/pyspark/ml/regression.py\n",
            "spark-3.0.3-bin-hadoop2.7/python/pyspark/ml/param/\n",
            "spark-3.0.3-bin-hadoop2.7/python/pyspark/ml/param/_shared_params_code_gen.py\n",
            "spark-3.0.3-bin-hadoop2.7/python/pyspark/ml/param/__init__.py\n",
            "spark-3.0.3-bin-hadoop2.7/python/pyspark/ml/param/shared.py\n",
            "spark-3.0.3-bin-hadoop2.7/python/pyspark/ml/tree.py\n",
            "spark-3.0.3-bin-hadoop2.7/python/pyspark/ml/fpm.py\n",
            "spark-3.0.3-bin-hadoop2.7/python/pyspark/ml/wrapper.py\n",
            "spark-3.0.3-bin-hadoop2.7/python/pyspark/ml/clustering.py\n",
            "spark-3.0.3-bin-hadoop2.7/python/pyspark/ml/common.py\n",
            "spark-3.0.3-bin-hadoop2.7/python/pyspark/ml/linalg/\n",
            "spark-3.0.3-bin-hadoop2.7/python/pyspark/ml/linalg/__init__.py\n",
            "spark-3.0.3-bin-hadoop2.7/python/pyspark/ml/evaluation.py\n",
            "spark-3.0.3-bin-hadoop2.7/python/pyspark/ml/util.py\n",
            "spark-3.0.3-bin-hadoop2.7/python/pyspark/find_spark_home.py\n",
            "spark-3.0.3-bin-hadoop2.7/python/pyspark/heapq3.py\n",
            "spark-3.0.3-bin-hadoop2.7/python/pyspark/serializers.py\n",
            "spark-3.0.3-bin-hadoop2.7/python/pyspark/java_gateway.py\n",
            "spark-3.0.3-bin-hadoop2.7/python/pyspark/traceback_utils.py\n",
            "spark-3.0.3-bin-hadoop2.7/python/pyspark/conf.py\n",
            "spark-3.0.3-bin-hadoop2.7/python/pyspark/__init__.py\n",
            "spark-3.0.3-bin-hadoop2.7/python/pyspark/mllib/\n",
            "spark-3.0.3-bin-hadoop2.7/python/pyspark/mllib/tests/\n",
            "spark-3.0.3-bin-hadoop2.7/python/pyspark/mllib/tests/test_algorithms.py\n",
            "spark-3.0.3-bin-hadoop2.7/python/pyspark/mllib/tests/test_streaming_algorithms.py\n",
            "spark-3.0.3-bin-hadoop2.7/python/pyspark/mllib/tests/test_util.py\n",
            "spark-3.0.3-bin-hadoop2.7/python/pyspark/mllib/tests/test_feature.py\n",
            "spark-3.0.3-bin-hadoop2.7/python/pyspark/mllib/tests/__init__.py\n",
            "spark-3.0.3-bin-hadoop2.7/python/pyspark/mllib/tests/test_linalg.py\n",
            "spark-3.0.3-bin-hadoop2.7/python/pyspark/mllib/tests/test_stat.py\n",
            "spark-3.0.3-bin-hadoop2.7/python/pyspark/mllib/feature.py\n",
            "spark-3.0.3-bin-hadoop2.7/python/pyspark/mllib/__init__.py\n",
            "spark-3.0.3-bin-hadoop2.7/python/pyspark/mllib/classification.py\n",
            "spark-3.0.3-bin-hadoop2.7/python/pyspark/mllib/recommendation.py\n",
            "spark-3.0.3-bin-hadoop2.7/python/pyspark/mllib/regression.py\n",
            "spark-3.0.3-bin-hadoop2.7/python/pyspark/mllib/tree.py\n",
            "spark-3.0.3-bin-hadoop2.7/python/pyspark/mllib/fpm.py\n",
            "spark-3.0.3-bin-hadoop2.7/python/pyspark/mllib/random.py\n",
            "spark-3.0.3-bin-hadoop2.7/python/pyspark/mllib/stat/\n",
            "spark-3.0.3-bin-hadoop2.7/python/pyspark/mllib/stat/distribution.py\n",
            "spark-3.0.3-bin-hadoop2.7/python/pyspark/mllib/stat/__init__.py\n",
            "spark-3.0.3-bin-hadoop2.7/python/pyspark/mllib/stat/KernelDensity.py\n",
            "spark-3.0.3-bin-hadoop2.7/python/pyspark/mllib/stat/test.py\n",
            "spark-3.0.3-bin-hadoop2.7/python/pyspark/mllib/stat/_statistics.py\n",
            "spark-3.0.3-bin-hadoop2.7/python/pyspark/mllib/clustering.py\n",
            "spark-3.0.3-bin-hadoop2.7/python/pyspark/mllib/common.py\n",
            "spark-3.0.3-bin-hadoop2.7/python/pyspark/mllib/linalg/\n",
            "spark-3.0.3-bin-hadoop2.7/python/pyspark/mllib/linalg/__init__.py\n",
            "spark-3.0.3-bin-hadoop2.7/python/pyspark/mllib/linalg/distributed.py\n",
            "spark-3.0.3-bin-hadoop2.7/python/pyspark/mllib/evaluation.py\n",
            "spark-3.0.3-bin-hadoop2.7/python/pyspark/mllib/util.py\n",
            "spark-3.0.3-bin-hadoop2.7/python/pyspark/resultiterable.py\n",
            "spark-3.0.3-bin-hadoop2.7/python/pyspark/profiler.py\n",
            "spark-3.0.3-bin-hadoop2.7/python/pyspark/statcounter.py\n",
            "spark-3.0.3-bin-hadoop2.7/python/pyspark/join.py\n",
            "spark-3.0.3-bin-hadoop2.7/python/pyspark/daemon.py\n",
            "spark-3.0.3-bin-hadoop2.7/python/pyspark/rdd.py\n",
            "spark-3.0.3-bin-hadoop2.7/python/pyspark/context.py\n",
            "spark-3.0.3-bin-hadoop2.7/python/pyspark/cloudpickle.py\n",
            "spark-3.0.3-bin-hadoop2.7/python/pyspark/version.py\n",
            "spark-3.0.3-bin-hadoop2.7/python/pyspark/resource.py\n",
            "spark-3.0.3-bin-hadoop2.7/python/pyspark/files.py\n",
            "spark-3.0.3-bin-hadoop2.7/python/pyspark/worker.py\n",
            "spark-3.0.3-bin-hadoop2.7/python/pyspark/shell.py\n",
            "spark-3.0.3-bin-hadoop2.7/python/pyspark/streaming/\n",
            "spark-3.0.3-bin-hadoop2.7/python/pyspark/streaming/tests/\n",
            "spark-3.0.3-bin-hadoop2.7/python/pyspark/streaming/tests/test_listener.py\n",
            "spark-3.0.3-bin-hadoop2.7/python/pyspark/streaming/tests/test_kinesis.py\n",
            "spark-3.0.3-bin-hadoop2.7/python/pyspark/streaming/tests/__init__.py\n",
            "spark-3.0.3-bin-hadoop2.7/python/pyspark/streaming/tests/test_dstream.py\n",
            "spark-3.0.3-bin-hadoop2.7/python/pyspark/streaming/tests/test_context.py\n",
            "spark-3.0.3-bin-hadoop2.7/python/pyspark/streaming/dstream.py\n",
            "spark-3.0.3-bin-hadoop2.7/python/pyspark/streaming/__init__.py\n",
            "spark-3.0.3-bin-hadoop2.7/python/pyspark/streaming/kinesis.py\n",
            "spark-3.0.3-bin-hadoop2.7/python/pyspark/streaming/listener.py\n",
            "spark-3.0.3-bin-hadoop2.7/python/pyspark/streaming/context.py\n",
            "spark-3.0.3-bin-hadoop2.7/python/pyspark/streaming/util.py\n",
            "spark-3.0.3-bin-hadoop2.7/python/pyspark/status.py\n",
            "spark-3.0.3-bin-hadoop2.7/python/pyspark/sql/\n",
            "spark-3.0.3-bin-hadoop2.7/python/pyspark/sql/tests/\n",
            "spark-3.0.3-bin-hadoop2.7/python/pyspark/sql/tests/test_functions.py\n",
            "spark-3.0.3-bin-hadoop2.7/python/pyspark/sql/tests/test_readwriter.py\n",
            "spark-3.0.3-bin-hadoop2.7/python/pyspark/sql/tests/test_utils.py\n",
            "spark-3.0.3-bin-hadoop2.7/python/pyspark/sql/tests/test_pandas_grouped_map.py\n",
            "spark-3.0.3-bin-hadoop2.7/python/pyspark/sql/tests/test_dataframe.py\n",
            "spark-3.0.3-bin-hadoop2.7/python/pyspark/sql/tests/test_pandas_map.py\n",
            "spark-3.0.3-bin-hadoop2.7/python/pyspark/sql/tests/test_udf.py\n",
            "spark-3.0.3-bin-hadoop2.7/python/pyspark/sql/tests/test_streaming.py\n",
            "spark-3.0.3-bin-hadoop2.7/python/pyspark/sql/tests/__init__.py\n",
            "spark-3.0.3-bin-hadoop2.7/python/pyspark/sql/tests/test_serde.py\n",
            "spark-3.0.3-bin-hadoop2.7/python/pyspark/sql/tests/test_pandas_udf_window.py\n",
            "spark-3.0.3-bin-hadoop2.7/python/pyspark/sql/tests/test_group.py\n",
            "spark-3.0.3-bin-hadoop2.7/python/pyspark/sql/tests/test_pandas_udf.py\n",
            "spark-3.0.3-bin-hadoop2.7/python/pyspark/sql/tests/test_pandas_cogrouped_map.py\n",
            "spark-3.0.3-bin-hadoop2.7/python/pyspark/sql/tests/test_pandas_udf_grouped_agg.py\n",
            "spark-3.0.3-bin-hadoop2.7/python/pyspark/sql/tests/test_pandas_udf_scalar.py\n",
            "spark-3.0.3-bin-hadoop2.7/python/pyspark/sql/tests/test_catalog.py\n",
            "spark-3.0.3-bin-hadoop2.7/python/pyspark/sql/tests/test_datasources.py\n",
            "spark-3.0.3-bin-hadoop2.7/python/pyspark/sql/tests/test_pandas_udf_typehints.py\n",
            "spark-3.0.3-bin-hadoop2.7/python/pyspark/sql/tests/test_types.py\n",
            "spark-3.0.3-bin-hadoop2.7/python/pyspark/sql/tests/test_column.py\n",
            "spark-3.0.3-bin-hadoop2.7/python/pyspark/sql/tests/test_context.py\n",
            "spark-3.0.3-bin-hadoop2.7/python/pyspark/sql/tests/test_conf.py\n",
            "spark-3.0.3-bin-hadoop2.7/python/pyspark/sql/tests/test_arrow.py\n",
            "spark-3.0.3-bin-hadoop2.7/python/pyspark/sql/tests/test_session.py\n",
            "spark-3.0.3-bin-hadoop2.7/python/pyspark/sql/pandas/\n",
            "spark-3.0.3-bin-hadoop2.7/python/pyspark/sql/pandas/functions.py\n",
            "spark-3.0.3-bin-hadoop2.7/python/pyspark/sql/pandas/serializers.py\n",
            "spark-3.0.3-bin-hadoop2.7/python/pyspark/sql/pandas/__init__.py\n",
            "spark-3.0.3-bin-hadoop2.7/python/pyspark/sql/pandas/typehints.py\n",
            "spark-3.0.3-bin-hadoop2.7/python/pyspark/sql/pandas/map_ops.py\n",
            "spark-3.0.3-bin-hadoop2.7/python/pyspark/sql/pandas/types.py\n",
            "spark-3.0.3-bin-hadoop2.7/python/pyspark/sql/pandas/group_ops.py\n",
            "spark-3.0.3-bin-hadoop2.7/python/pyspark/sql/pandas/utils.py\n",
            "spark-3.0.3-bin-hadoop2.7/python/pyspark/sql/pandas/conversion.py\n",
            "spark-3.0.3-bin-hadoop2.7/python/pyspark/sql/functions.py\n",
            "spark-3.0.3-bin-hadoop2.7/python/pyspark/sql/readwriter.py\n",
            "spark-3.0.3-bin-hadoop2.7/python/pyspark/sql/catalog.py\n",
            "spark-3.0.3-bin-hadoop2.7/python/pyspark/sql/window.py\n",
            "spark-3.0.3-bin-hadoop2.7/python/pyspark/sql/udf.py\n",
            "spark-3.0.3-bin-hadoop2.7/python/pyspark/sql/conf.py\n",
            "spark-3.0.3-bin-hadoop2.7/python/pyspark/sql/__init__.py\n",
            "spark-3.0.3-bin-hadoop2.7/python/pyspark/sql/session.py\n",
            "spark-3.0.3-bin-hadoop2.7/python/pyspark/sql/column.py\n",
            "spark-3.0.3-bin-hadoop2.7/python/pyspark/sql/group.py\n",
            "spark-3.0.3-bin-hadoop2.7/python/pyspark/sql/context.py\n",
            "spark-3.0.3-bin-hadoop2.7/python/pyspark/sql/types.py\n",
            "spark-3.0.3-bin-hadoop2.7/python/pyspark/sql/dataframe.py\n",
            "spark-3.0.3-bin-hadoop2.7/python/pyspark/sql/avro/\n",
            "spark-3.0.3-bin-hadoop2.7/python/pyspark/sql/avro/functions.py\n",
            "spark-3.0.3-bin-hadoop2.7/python/pyspark/sql/avro/__init__.py\n",
            "spark-3.0.3-bin-hadoop2.7/python/pyspark/sql/utils.py\n",
            "spark-3.0.3-bin-hadoop2.7/python/pyspark/sql/streaming.py\n",
            "spark-3.0.3-bin-hadoop2.7/python/pyspark/shuffle.py\n",
            "spark-3.0.3-bin-hadoop2.7/python/pyspark/taskcontext.py\n",
            "spark-3.0.3-bin-hadoop2.7/python/pyspark/_globals.py\n",
            "spark-3.0.3-bin-hadoop2.7/python/pyspark/broadcast.py\n",
            "spark-3.0.3-bin-hadoop2.7/python/pyspark/util.py\n",
            "spark-3.0.3-bin-hadoop2.7/python/pyspark/storagelevel.py\n",
            "spark-3.0.3-bin-hadoop2.7/python/.coveragerc\n",
            "spark-3.0.3-bin-hadoop2.7/python/docs/\n",
            "spark-3.0.3-bin-hadoop2.7/python/docs/index.rst\n",
            "spark-3.0.3-bin-hadoop2.7/python/docs/conf.py\n",
            "spark-3.0.3-bin-hadoop2.7/python/docs/pyspark.ml.rst\n",
            "spark-3.0.3-bin-hadoop2.7/python/docs/pyspark.rst\n",
            "spark-3.0.3-bin-hadoop2.7/python/docs/_templates/\n",
            "spark-3.0.3-bin-hadoop2.7/python/docs/_templates/layout.html\n",
            "spark-3.0.3-bin-hadoop2.7/python/docs/_static/\n",
            "spark-3.0.3-bin-hadoop2.7/python/docs/_static/pyspark.css\n",
            "spark-3.0.3-bin-hadoop2.7/python/docs/_static/copybutton.js\n",
            "spark-3.0.3-bin-hadoop2.7/python/docs/_static/pyspark.js\n",
            "spark-3.0.3-bin-hadoop2.7/python/docs/pyspark.mllib.rst\n",
            "spark-3.0.3-bin-hadoop2.7/python/docs/make2.bat\n",
            "spark-3.0.3-bin-hadoop2.7/python/docs/pyspark.streaming.rst\n",
            "spark-3.0.3-bin-hadoop2.7/python/docs/pyspark.sql.rst\n",
            "spark-3.0.3-bin-hadoop2.7/python/docs/make.bat\n",
            "spark-3.0.3-bin-hadoop2.7/python/docs/Makefile\n",
            "spark-3.0.3-bin-hadoop2.7/python/docs/pyspark.resource.rst\n",
            "spark-3.0.3-bin-hadoop2.7/python/lib/\n",
            "spark-3.0.3-bin-hadoop2.7/python/lib/PY4J_LICENSE.txt\n",
            "spark-3.0.3-bin-hadoop2.7/python/lib/py4j-0.10.9-src.zip\n",
            "spark-3.0.3-bin-hadoop2.7/python/lib/pyspark.zip\n",
            "spark-3.0.3-bin-hadoop2.7/python/run-tests\n",
            "spark-3.0.3-bin-hadoop2.7/python/setup.cfg\n",
            "spark-3.0.3-bin-hadoop2.7/licenses/\n",
            "spark-3.0.3-bin-hadoop2.7/licenses/LICENSE-respond.txt\n",
            "spark-3.0.3-bin-hadoop2.7/licenses/LICENSE-sbt-launch-lib.txt\n",
            "spark-3.0.3-bin-hadoop2.7/licenses/LICENSE-antlr.txt\n",
            "spark-3.0.3-bin-hadoop2.7/licenses/LICENSE-dagre-d3.txt\n",
            "spark-3.0.3-bin-hadoop2.7/licenses/LICENSE-pyrolite.txt\n",
            "spark-3.0.3-bin-hadoop2.7/licenses/LICENSE-sorttable.js.txt\n",
            "spark-3.0.3-bin-hadoop2.7/licenses/LICENSE-janino.txt\n",
            "spark-3.0.3-bin-hadoop2.7/licenses/LICENSE-protobuf.txt\n",
            "spark-3.0.3-bin-hadoop2.7/licenses/LICENSE-jquery.txt\n",
            "spark-3.0.3-bin-hadoop2.7/licenses/LICENSE-scopt.txt\n",
            "spark-3.0.3-bin-hadoop2.7/licenses/LICENSE-netlib.txt\n",
            "spark-3.0.3-bin-hadoop2.7/licenses/LICENSE-d3.min.js.txt\n",
            "spark-3.0.3-bin-hadoop2.7/licenses/LICENSE-graphlib-dot.txt\n",
            "spark-3.0.3-bin-hadoop2.7/licenses/LICENSE-AnchorJS.txt\n",
            "spark-3.0.3-bin-hadoop2.7/licenses/LICENSE-datatables.txt\n",
            "spark-3.0.3-bin-hadoop2.7/licenses/LICENSE-pmml-model.txt\n",
            "spark-3.0.3-bin-hadoop2.7/licenses/LICENSE-paranamer.txt\n",
            "spark-3.0.3-bin-hadoop2.7/licenses/LICENSE-jakarta-ws-rs-api\n",
            "spark-3.0.3-bin-hadoop2.7/licenses/LICENSE-dnsjava.txt\n",
            "spark-3.0.3-bin-hadoop2.7/licenses/LICENSE-jakarta.xml.bind-api.txt\n",
            "spark-3.0.3-bin-hadoop2.7/licenses/LICENSE-jakarta-annotation-api\n",
            "spark-3.0.3-bin-hadoop2.7/licenses/LICENSE-CC0.txt\n",
            "spark-3.0.3-bin-hadoop2.7/licenses/LICENSE-jodd.txt\n",
            "spark-3.0.3-bin-hadoop2.7/licenses/LICENSE-f2j.txt\n",
            "spark-3.0.3-bin-hadoop2.7/licenses/LICENSE-heapq.txt\n",
            "spark-3.0.3-bin-hadoop2.7/licenses/LICENSE-machinist.txt\n",
            "spark-3.0.3-bin-hadoop2.7/licenses/LICENSE-javolution.txt\n",
            "spark-3.0.3-bin-hadoop2.7/licenses/LICENSE-modernizr.txt\n",
            "spark-3.0.3-bin-hadoop2.7/licenses/LICENSE-spire.txt\n",
            "spark-3.0.3-bin-hadoop2.7/licenses/LICENSE-leveldbjni.txt\n",
            "spark-3.0.3-bin-hadoop2.7/licenses/LICENSE-join.txt\n",
            "spark-3.0.3-bin-hadoop2.7/licenses/LICENSE-zstd-jni.txt\n",
            "spark-3.0.3-bin-hadoop2.7/licenses/LICENSE-slf4j.txt\n",
            "spark-3.0.3-bin-hadoop2.7/licenses/LICENSE-arpack.txt\n",
            "spark-3.0.3-bin-hadoop2.7/licenses/LICENSE-jsp-api.txt\n",
            "spark-3.0.3-bin-hadoop2.7/licenses/LICENSE-JTransforms.txt\n",
            "spark-3.0.3-bin-hadoop2.7/licenses/LICENSE-JLargeArrays.txt\n",
            "spark-3.0.3-bin-hadoop2.7/licenses/LICENSE-bootstrap.txt\n",
            "spark-3.0.3-bin-hadoop2.7/licenses/LICENSE-reflectasm.txt\n",
            "spark-3.0.3-bin-hadoop2.7/licenses/LICENSE-javassist.html\n",
            "spark-3.0.3-bin-hadoop2.7/licenses/LICENSE-zstd.txt\n",
            "spark-3.0.3-bin-hadoop2.7/licenses/LICENSE-json-formatter.txt\n",
            "spark-3.0.3-bin-hadoop2.7/licenses/LICENSE-matchMedia-polyfill.txt\n",
            "spark-3.0.3-bin-hadoop2.7/licenses/LICENSE-scala.txt\n",
            "spark-3.0.3-bin-hadoop2.7/licenses/LICENSE-jakarta.activation-api.txt\n",
            "spark-3.0.3-bin-hadoop2.7/licenses/LICENSE-automaton.txt\n",
            "spark-3.0.3-bin-hadoop2.7/licenses/LICENSE-javax-transaction-transaction-api.txt\n",
            "spark-3.0.3-bin-hadoop2.7/licenses/LICENSE-jaxb-runtime.txt\n",
            "spark-3.0.3-bin-hadoop2.7/licenses/LICENSE-minlog.txt\n",
            "spark-3.0.3-bin-hadoop2.7/licenses/LICENSE-mustache.txt\n",
            "spark-3.0.3-bin-hadoop2.7/licenses/LICENSE-xmlenc.txt\n",
            "spark-3.0.3-bin-hadoop2.7/licenses/LICENSE-jline.txt\n",
            "spark-3.0.3-bin-hadoop2.7/licenses/LICENSE-istack-commons-runtime.txt\n",
            "spark-3.0.3-bin-hadoop2.7/licenses/LICENSE-py4j.txt\n",
            "spark-3.0.3-bin-hadoop2.7/licenses/LICENSE-vis-timeline.txt\n",
            "spark-3.0.3-bin-hadoop2.7/licenses/LICENSE-re2j.txt\n",
            "spark-3.0.3-bin-hadoop2.7/licenses/LICENSE-kryo.txt\n",
            "spark-3.0.3-bin-hadoop2.7/licenses/LICENSE-cloudpickle.txt\n",
            "Requirement already satisfied: pyspark==3.0.3 in /usr/local/lib/python3.7/dist-packages (3.0.3)\n",
            "Requirement already satisfied: py4j==0.10.9 in /usr/local/lib/python3.7/dist-packages (from pyspark==3.0.3) (0.10.9)\n",
            "Drive already mounted at /content/gdrive; to attempt to forcibly remount, call drive.mount(\"/content/gdrive\", force_remount=True).\n"
          ]
        }
      ]
    },
    {
      "cell_type": "markdown",
      "source": [
        "#### Set up PySpark Spark Session"
      ],
      "metadata": {
        "id": "MJXYGTGC31o1"
      }
    },
    {
      "cell_type": "code",
      "source": [
        "import pyspark \n",
        "from pyspark.sql import SparkSession\n",
        "\n",
        "APP_NAME = \"FinalProject\"\n",
        "SPARK_URL = \"local[*]\"\n",
        "\n",
        "spark = SparkSession.builder.appName(APP_NAME).getOrCreate()\n",
        "\n",
        "from pyspark import SparkContext\n",
        "\n",
        "sc = SparkContext.getOrCreate(spark)"
      ],
      "metadata": {
        "id": "4igKWNIE3z89"
      },
      "execution_count": 2,
      "outputs": []
    },
    {
      "cell_type": "markdown",
      "source": [
        "#### Import Libraries"
      ],
      "metadata": {
        "id": "ALhfqRy44CUJ"
      }
    },
    {
      "cell_type": "code",
      "source": [
        "from pyspark.ml import Pipeline\n",
        "from pyspark.ml.feature import OneHotEncoder\n",
        "from pyspark.ml.feature import VectorAssembler\n",
        "from pyspark.ml.feature import StringIndexer, VectorAssembler\n",
        "import matplotlib.pyplot as plt \n",
        "from pyspark.ml.classification import LogisticRegression\n",
        "from pyspark.ml.classification import DecisionTreeClassifier\n",
        "from pyspark.ml.evaluation import BinaryClassificationEvaluator\n",
        "from pyspark.ml.evaluation import MulticlassClassificationEvaluator\n",
        "from pyspark.ml.feature import VectorAssembler\n",
        "from sklearn.metrics import confusion_matrix , classification_report\n",
        "from pyspark.sql.functions import udf\n",
        "from pyspark.sql.types import FloatType\n",
        "import numpy as np\n",
        "import seaborn as sns\n"
      ],
      "metadata": {
        "id": "xus2dEo84Bpy"
      },
      "execution_count": 20,
      "outputs": []
    },
    {
      "cell_type": "code",
      "source": [
        "# Read the file and view the first few rows\n",
        "\n",
        "df = spark.read.load('bank-additional-full.csv', format=\"csv\", sep=\";\", inferSchema=\"true\", header=\"true\")\n",
        "df.show(5)"
      ],
      "metadata": {
        "colab": {
          "base_uri": "https://localhost:8080/"
        },
        "id": "pZ1DoYtew7h7",
        "outputId": "5410a566-a6d4-4d2e-9362-a272235e6700"
      },
      "execution_count": 21,
      "outputs": [
        {
          "output_type": "stream",
          "name": "stdout",
          "text": [
            "+---+---------+-------+-----------+-------+-------+----+---------+-----+-----------+--------+--------+-----+--------+-----------+------------+--------------+-------------+---------+-----------+---+\n",
            "|age|      job|marital|  education|default|housing|loan|  contact|month|day_of_week|duration|campaign|pdays|previous|   poutcome|emp.var.rate|cons.price.idx|cons.conf.idx|euribor3m|nr.employed|  y|\n",
            "+---+---------+-------+-----------+-------+-------+----+---------+-----+-----------+--------+--------+-----+--------+-----------+------------+--------------+-------------+---------+-----------+---+\n",
            "| 56|housemaid|married|   basic.4y|     no|     no|  no|telephone|  may|        mon|     261|       1|  999|       0|nonexistent|         1.1|        93.994|        -36.4|    4.857|     5191.0| no|\n",
            "| 57| services|married|high.school|unknown|     no|  no|telephone|  may|        mon|     149|       1|  999|       0|nonexistent|         1.1|        93.994|        -36.4|    4.857|     5191.0| no|\n",
            "| 37| services|married|high.school|     no|    yes|  no|telephone|  may|        mon|     226|       1|  999|       0|nonexistent|         1.1|        93.994|        -36.4|    4.857|     5191.0| no|\n",
            "| 40|   admin.|married|   basic.6y|     no|     no|  no|telephone|  may|        mon|     151|       1|  999|       0|nonexistent|         1.1|        93.994|        -36.4|    4.857|     5191.0| no|\n",
            "| 56| services|married|high.school|     no|     no| yes|telephone|  may|        mon|     307|       1|  999|       0|nonexistent|         1.1|        93.994|        -36.4|    4.857|     5191.0| no|\n",
            "+---+---------+-------+-----------+-------+-------+----+---------+-----+-----------+--------+--------+-----+--------+-----------+------------+--------------+-------------+---------+-----------+---+\n",
            "only showing top 5 rows\n",
            "\n"
          ]
        }
      ]
    },
    {
      "cell_type": "markdown",
      "source": [
        "Input variables:\n",
        "### bank client data:\n",
        "1 - age (numeric)  \n",
        "2 - job : type of job (categorical: 'admin.','blue-collar','entrepreneur','housemaid','management','retired','self-employed','services','student','technician','unemployed','unknown')  \n",
        "3 - marital : marital status (categorical: 'divorced','married','single','unknown'; note: 'divorced' means divorced or widowed)  \n",
        "4 - education (categorical: 'basic.4y','basic.6y','basic.9y','high.school','illiterate','professional.course','university.degree','unknown')  \n",
        "5 - default: has credit in default? (categorical: 'no','yes','unknown')  \n",
        "6 - housing: has housing loan? (categorical: 'no','yes','unknown')  \n",
        "7 - loan: has personal loan? (categorical: 'no','yes','unknown')  \n",
        "### related with the last contact of the current campaign:\n",
        "8 - contact: contact communication type (categorical: 'cellular','telephone')  \n",
        "9 - month: last contact month of year (categorical: 'jan', 'feb', 'mar', ..., 'nov', 'dec')  \n",
        "10 - day_of_week: last contact day of the week (categorical: 'mon','tue','wed','thu','fri')  \n",
        "11 - duration: last contact duration, in seconds (numeric). Important note: this attribute highly affects the output target (e.g., if duration=0 then y='no'). Yet, the duration is not known before a call is performed. Also, after the end of the call y is obviously known. Thus, this input should only be included for benchmark purposes and should be discarded if the intention is to have a realistic predictive model.  \n",
        "### other attributes:\n",
        "12 - campaign: number of contacts performed during this campaign and for this client (numeric, includes last contact)  \n",
        "13 - pdays: number of days that passed by after the client was last contacted from a previous campaign (numeric; 999 means client was not previously contacted)  \n",
        "14 - previous: number of contacts performed before this campaign and for this client (numeric)  \n",
        "15 - poutcome: outcome of the previous marketing campaign (categorical: 'failure','nonexistent','success')  \n",
        "### social and economic context attributes\n",
        "16 - emp.var.rate: employment variation rate - quarterly indicator (numeric)  \n",
        "17 - cons.price.idx: consumer price index - monthly indicator (numeric)  \n",
        "18 - cons.conf.idx: consumer confidence index - monthly indicator (numeric)  \n",
        "19 - euribor3m: euribor 3 month rate - daily indicator (numeric)  \n",
        "20 - nr.employed: number of employees - quarterly indicator (numeric)  \n",
        "\n",
        "###Output variable (desired target):\n",
        "21 - y - has the client subscribed a term deposit? (binary: 'yes','no')"
      ],
      "metadata": {
        "id": "IoqKMBcULTmv"
      }
    },
    {
      "cell_type": "code",
      "source": [
        "# Inspect data types of attributes\n",
        "\n",
        "df.dtypes"
      ],
      "metadata": {
        "colab": {
          "base_uri": "https://localhost:8080/"
        },
        "id": "1nTUa3loymP6",
        "outputId": "0b6c70f7-f616-432b-bceb-3034c8f1b098"
      },
      "execution_count": 22,
      "outputs": [
        {
          "output_type": "execute_result",
          "data": {
            "text/plain": [
              "[('age', 'int'),\n",
              " ('job', 'string'),\n",
              " ('marital', 'string'),\n",
              " ('education', 'string'),\n",
              " ('default', 'string'),\n",
              " ('housing', 'string'),\n",
              " ('loan', 'string'),\n",
              " ('contact', 'string'),\n",
              " ('month', 'string'),\n",
              " ('day_of_week', 'string'),\n",
              " ('duration', 'int'),\n",
              " ('campaign', 'int'),\n",
              " ('pdays', 'int'),\n",
              " ('previous', 'int'),\n",
              " ('poutcome', 'string'),\n",
              " ('emp.var.rate', 'double'),\n",
              " ('cons.price.idx', 'double'),\n",
              " ('cons.conf.idx', 'double'),\n",
              " ('euribor3m', 'double'),\n",
              " ('nr.employed', 'double'),\n",
              " ('y', 'string')]"
            ]
          },
          "metadata": {},
          "execution_count": 22
        }
      ]
    },
    {
      "cell_type": "code",
      "source": [
        "# See dataframe dimensions\n",
        "\n",
        "[df.count(), len(df.columns)]"
      ],
      "metadata": {
        "colab": {
          "base_uri": "https://localhost:8080/"
        },
        "id": "n3VrWJym7JsY",
        "outputId": "0a62aa15-e15a-4e45-db56-39304e53a6d8"
      },
      "execution_count": 23,
      "outputs": [
        {
          "output_type": "execute_result",
          "data": {
            "text/plain": [
              "[41188, 21]"
            ]
          },
          "metadata": {},
          "execution_count": 23
        }
      ]
    },
    {
      "cell_type": "code",
      "source": [
        "# Renaming some columns because the original names with \".\" were causing errors\n",
        "\n",
        "cols_to_rename = ['emp.var.rate', 'cons.price.idx', 'cons.conf.idx', 'nr.employed']\n",
        "for col_name in cols_to_rename:\n",
        "  new_name = '_'.join(col_name.split('.'))\n",
        "  df = df.withColumnRenamed(col_name, new_name)"
      ],
      "metadata": {
        "id": "WU5hw8WP5Qpe"
      },
      "execution_count": 24,
      "outputs": []
    },
    {
      "cell_type": "code",
      "source": [
        "# Missing value check\n",
        "\n",
        "df_nona = df.na.drop()\n",
        "df_nona.count()"
      ],
      "metadata": {
        "colab": {
          "base_uri": "https://localhost:8080/"
        },
        "id": "jU3kl011h4uy",
        "outputId": "2bdafc3f-920f-402b-d069-317529bcb152"
      },
      "execution_count": 25,
      "outputs": [
        {
          "output_type": "execute_result",
          "data": {
            "text/plain": [
              "41188"
            ]
          },
          "metadata": {},
          "execution_count": 25
        }
      ]
    },
    {
      "cell_type": "markdown",
      "source": [
        "Fortunately, there are no missing values."
      ],
      "metadata": {
        "id": "nip7eU0XiNLw"
      }
    },
    {
      "cell_type": "markdown",
      "source": [
        "There are many variables that determine whether a marketing campaign will be successful or not. Today, these variables are know as the marketing mix theory, which is also referred to as the 4Ps, i.e. product, price, promotion “communication”, and place “distribution” (McCarthy, 1971 - McCarthy, J.E. (1971), Basic Marketing: A Managerial Approach, Richard D. Irwin, Homewood, IL.). These marketing mix elements are the four key decision areas that must be managed to work together in a single marketing plan to satisfy customer needs better than the competition and allow the firm to make a reasonable profit (https://www.emerald.com/insight/content/doi/10.1108/07363760710756011/full/html?casa_token=PsXSi6YaI0EAAAAA:j_LSyzxTMQK6W7pBr2ufh5sEppYiyyS3MOUZIguSaKisCaq1Q5DG10VpLwcebUXkSRwx3rk9irf4ViHflCzmy45eUqvKocDCxH-CbwzQ20gbnrflag).\n",
        "\n",
        "Not all four of the elemebnts above apply the our dataset. Therefore, for the exploratory data analysis, we will focus on two elements from a modified version of the marketing mix: \n",
        "1. Population\n",
        "- Which segment of the population is the marketing campaign going to address and why? \n",
        "- What is the demographic distribution among the clients (age, job, marital status, education)? \n",
        "- Bsed on this dataset, are older people more likely so subscribe to term deposists?\n",
        "2. Place: \n",
        "- Which distribution channel is the most effective (telephone, cellular)?\n",
        "\n",
        "### Target Variable EDA\n",
        "\n",
        "__How many clients have subscribed to the term deposit?__\n",
        "\n",
        "The figure below shows that most clients (88.7%) do not subscribe."
      ],
      "metadata": {
        "id": "8GBlvSzf61kR"
      }
    },
    {
      "cell_type": "code",
      "source": [
        "# Inspect the distribution of the target variable y\n",
        "\n",
        "target_features = ['y']\n",
        "normalize = udf(lambda x: x/sum)\n",
        "\n",
        "for feature in target_features:\n",
        "  counts = df.groupBy(feature).count()\n",
        "  sum = counts.agg({'count':'sum'}).collect()[0][0]\n",
        "  counts.withColumn('percentage', normalize(counts['count'])).show()"
      ],
      "metadata": {
        "colab": {
          "base_uri": "https://localhost:8080/"
        },
        "id": "Q3gLqEh26sBY",
        "outputId": "bc45c352-2bb1-43aa-ffe9-adc11d0e3efa"
      },
      "execution_count": 26,
      "outputs": [
        {
          "output_type": "stream",
          "name": "stdout",
          "text": [
            "+---+-----+-------------------+\n",
            "|  y|count|         percentage|\n",
            "+---+-----+-------------------+\n",
            "| no|36548| 0.8873458288821987|\n",
            "|yes| 4640|0.11265417111780131|\n",
            "+---+-----+-------------------+\n",
            "\n"
          ]
        }
      ]
    },
    {
      "cell_type": "markdown",
      "source": [
        "As we can see the dataset is __highly imbalanced__. Oversampling or undersampling needs to be done to have a balanced dataset."
      ],
      "metadata": {
        "id": "dBIK-k2l6syf"
      }
    },
    {
      "cell_type": "markdown",
      "source": [
        "### Numerical Features EDA"
      ],
      "metadata": {
        "id": "WFwfzEw364lP"
      }
    },
    {
      "cell_type": "code",
      "source": [
        "# See statistical distribution of the values in each column\n",
        "\n",
        "df.summary().show()"
      ],
      "metadata": {
        "colab": {
          "base_uri": "https://localhost:8080/"
        },
        "id": "A5poD-9ZyW0R",
        "outputId": "8d47ecdb-7068-4e4f-beb5-e3d154bf206c"
      },
      "execution_count": 27,
      "outputs": [
        {
          "output_type": "stream",
          "name": "stdout",
          "text": [
            "+-------+------------------+-------+--------+---------+-------+-------+-----+---------+-----+-----------+------------------+------------------+-----------------+-------------------+--------+-------------------+------------------+------------------+------------------+-----------------+-----+\n",
            "|summary|               age|    job| marital|education|default|housing| loan|  contact|month|day_of_week|          duration|          campaign|            pdays|           previous|poutcome|       emp_var_rate|    cons_price_idx|     cons_conf_idx|         euribor3m|      nr_employed|    y|\n",
            "+-------+------------------+-------+--------+---------+-------+-------+-----+---------+-----+-----------+------------------+------------------+-----------------+-------------------+--------+-------------------+------------------+------------------+------------------+-----------------+-----+\n",
            "|  count|             41188|  41188|   41188|    41188|  41188|  41188|41188|    41188|41188|      41188|             41188|             41188|            41188|              41188|   41188|              41188|             41188|             41188|             41188|            41188|41188|\n",
            "|   mean| 40.02406040594348|   null|    null|     null|   null|   null| null|     null| null|       null| 258.2850101971448| 2.567592502670681|962.4754540157328|0.17296299893172767|    null|0.08188550063188041| 93.57566436831247|-40.50260027191336|3.6212908128581724|5167.035910942871| null|\n",
            "| stddev|10.421249980934043|   null|    null|     null|   null|   null| null|     null| null|       null|259.27924883646494|2.7700135429023245|186.9109073447411| 0.4949010798392903|    null| 1.5709597405170301|0.5788400489540665|  4.62819785617458|1.7344474048512581|72.25152766826655| null|\n",
            "|    min|                17| admin.|divorced| basic.4y|     no|     no|   no| cellular|  apr|        fri|                 0|                 1|                0|                  0| failure|               -3.4|            92.201|             -50.8|             0.634|           4963.6|   no|\n",
            "|    25%|                32|   null|    null|     null|   null|   null| null|     null| null|       null|               102|                 1|              999|                  0|    null|               -1.8|            93.075|             -42.7|             1.344|           5099.1| null|\n",
            "|    50%|                38|   null|    null|     null|   null|   null| null|     null| null|       null|               180|                 2|              999|                  0|    null|                1.1|            93.749|             -41.8|             4.857|           5191.0| null|\n",
            "|    75%|                47|   null|    null|     null|   null|   null| null|     null| null|       null|               319|                 3|              999|                  0|    null|                1.4|            93.994|             -36.4|             4.961|           5228.1| null|\n",
            "|    max|                98|unknown| unknown|  unknown|    yes|    yes|  yes|telephone|  sep|        wed|              4918|                56|              999|                  7| success|                1.4|            94.767|             -26.9|             5.045|           5228.1|  yes|\n",
            "+-------+------------------+-------+--------+---------+-------+-------+-----+---------+-----+-----------+------------------+------------------+-----------------+-------------------+--------+-------------------+------------------+------------------+------------------+-----------------+-----+\n",
            "\n"
          ]
        }
      ]
    },
    {
      "cell_type": "markdown",
      "source": [
        "#### Summary:\n",
        "\n",
        "Mean Age is aproximately 40 years old. (Minimum: 17 years old and Maximum: 98 years old.)\n",
        "\n",
        "From the distribution, we can see that three features are highly skewed to the right: \n",
        "- age\n",
        "- campaign\n",
        "- previous\n",
        "\n",
        "The  fact  that  the  maximum  age  is  almost three  times  the  the  median  age  shows  that  the  distribution of  age  is  heavily  skewed  to  the  right.  Therefore,  logarithmic transformation  will  need  to  be  applied  to  the  age  column  to normalize the distribution of the feature. Same with the other two skewed features."
      ],
      "metadata": {
        "id": "e_qMyIrehV2T"
      }
    },
    {
      "cell_type": "markdown",
      "source": [
        "#### Log Transformation\n",
        "Note that duration highly affects the output target (e.g., if duration=0 then y='no'). Yet, the duration is not known before a call is performed. Also, after the end of the call y is obviously known. Thus, this input should be **discarded** to have a realistic predictive model."
      ],
      "metadata": {
        "id": "HdfQQ-0I7HiH"
      }
    },
    {
      "cell_type": "markdown",
      "source": [
        "__What is the age distribution among the clients__\n",
        "\n",
        "Most are between 20 and 50."
      ],
      "metadata": {
        "id": "1C-EzPAuWc2A"
      }
    },
    {
      "cell_type": "markdown",
      "source": [
        "### Log transformation"
      ],
      "metadata": {
        "id": "MMurssQDqY4k"
      }
    },
    {
      "cell_type": "code",
      "source": [
        "# Apply log transformation on select columns\n",
        "\n",
        "cols_to_transform = ['age', 'campaign', 'previous']\n",
        "log_transform = udf(lambda x: float(np.log10(float(x+1e-16))), FloatType())\n",
        "\n",
        "for col in cols_to_transform:\n",
        "    new_col = col+'_log'\n",
        "    df = df.withColumn(new_col, log_transform(df[col]))"
      ],
      "metadata": {
        "id": "wVWnbdBM-7Ai"
      },
      "execution_count": 28,
      "outputs": []
    },
    {
      "cell_type": "code",
      "source": [
        "log_features = ['age_log', 'campaign_log', 'previous_log']\n",
        "\n",
        "for feature in log_features:\n",
        "    x = df.select(feature).toPandas()\n",
        "    fig = plt.figure(figsize=(10, 4))\n",
        "    ax = fig.add_subplot(1, 2, 2)\n",
        "    ax = sns.violinplot(data=x)"
      ],
      "metadata": {
        "colab": {
          "base_uri": "https://localhost:8080/",
          "height": 764
        },
        "id": "0De35_W_AqRx",
        "outputId": "ce5681ce-ee29-476f-9e29-6e0427046230"
      },
      "execution_count": 29,
      "outputs": [
        {
          "output_type": "display_data",
          "data": {
            "image/png": "[encoded data removed]",
            "text/plain": [
              "<Figure size 720x288 with 1 Axes>"
            ]
          },
          "metadata": {
            "needs_background": "light"
          }
        },
        {
          "output_type": "display_data",
          "data": {
            "image/png": "[encoded data removed]",
            "text/plain": [
              "<Figure size 720x288 with 1 Axes>"
            ]
          },
          "metadata": {
            "needs_background": "light"
          }
        },
        {
          "output_type": "display_data",
          "data": {
            "image/png": "[encoded data removed]",
            "text/plain": [
              "<Figure size 720x288 with 1 Axes>"
            ]
          },
          "metadata": {
            "needs_background": "light"
          }
        }
      ]
    },
    {
      "cell_type": "markdown",
      "source": [
        "### Categorical Features EDA\n",
        "\n",
        "__What is the demographic distribution among the clients (age, job, marital status, education)?__\n",
        "\n",
        "The figure below shows the distribution of categorical variables including demographic information. A lot of clients have adminstrative jobs, are married, and have a university degree."
      ],
      "metadata": {
        "id": "gZ1Jb1Ya6-gZ"
      }
    },
    {
      "cell_type": "code",
      "source": [
        "# Inspect the distribution of categorical features\n",
        "\n",
        "cat_features = ['job','marital','education','default','housing','loan','contact','month','day_of_week']\n",
        "normalize = udf(lambda x: x/sum)\n",
        "\n",
        "for feature in cat_features:\n",
        "  counts = df.groupBy(feature).count()\n",
        "  sum = counts.agg({'count':'sum'}).collect()[0][0]\n",
        "  counts.withColumn('percentage', normalize(counts['count'])).show()\n"
      ],
      "metadata": {
        "colab": {
          "base_uri": "https://localhost:8080/"
        },
        "id": "5pxqKDQmzUj7",
        "outputId": "97308c98-7188-4b10-ea94-024d53fcc4bb"
      },
      "execution_count": 30,
      "outputs": [
        {
          "output_type": "stream",
          "name": "stdout",
          "text": [
            "+-------------+-----+--------------------+\n",
            "|          job|count|          percentage|\n",
            "+-------------+-----+--------------------+\n",
            "|   management| 2924| 0.07099155093716616|\n",
            "|      retired| 1720| 0.04175973584539186|\n",
            "|      unknown|  330|0.008012042342429833|\n",
            "|self-employed| 1421| 0.03450033990482665|\n",
            "|      student|  875| 0.02124405166553365|\n",
            "|  blue-collar| 9254|  0.2246770904146839|\n",
            "| entrepreneur| 1456| 0.03535010197144799|\n",
            "|       admin.|10422| 0.25303486452364765|\n",
            "|   technician| 6743|  0.1637127318636496|\n",
            "|     services| 3969| 0.09636301835486064|\n",
            "|    housemaid| 1060|0.025735651160532193|\n",
            "|   unemployed| 1014|0.024618821015829854|\n",
            "+-------------+-----+--------------------+\n",
            "\n",
            "+--------+-----+--------------------+\n",
            "| marital|count|          percentage|\n",
            "+--------+-----+--------------------+\n",
            "| unknown|   80|0.001942313295134...|\n",
            "|divorced| 4612| 0.11197436146450422|\n",
            "| married|24928|  0.6052248227639119|\n",
            "|  single|11568| 0.28085850247644945|\n",
            "+--------+-----+--------------------+\n",
            "\n",
            "+-------------------+-----+--------------------+\n",
            "|          education|count|          percentage|\n",
            "+-------------------+-----+--------------------+\n",
            "|        high.school| 9515| 0.23101388754006022|\n",
            "|            unknown| 1731|0.042026803923472855|\n",
            "|           basic.6y| 2292|0.055647275905603574|\n",
            "|professional.course| 5243| 0.12729435757987764|\n",
            "|  university.degree|12168| 0.29542585218995826|\n",
            "|         illiterate|   18|4.370204914052637E-4|\n",
            "|           basic.4y| 4176| 0.10138875400602117|\n",
            "|           basic.9y| 6045| 0.14676604836360105|\n",
            "+-------------------+-----+--------------------+\n",
            "\n",
            "+-------+-----+--------------------+\n",
            "|default|count|          percentage|\n",
            "+-------+-----+--------------------+\n",
            "|unknown| 8597| 0.20872584247839177|\n",
            "|     no|32588|  0.7912013207730407|\n",
            "|    yes|    3|7.283674856754395E-5|\n",
            "+-------+-----+--------------------+\n",
            "\n",
            "+-------+-----+------------------+\n",
            "|housing|count|        percentage|\n",
            "+-------+-----+------------------+\n",
            "|unknown|  990|0.0240361270272895|\n",
            "|     no|18622|0.4521219772749345|\n",
            "|    yes|21576|0.5238418956977761|\n",
            "+-------+-----+------------------+\n",
            "\n",
            "+-------+-----+-------------------+\n",
            "|   loan|count|         percentage|\n",
            "+-------+-----+-------------------+\n",
            "|unknown|  990| 0.0240361270272895|\n",
            "|     no|33950| 0.8242692046227057|\n",
            "|    yes| 6248|0.15169466835000486|\n",
            "+-------+-----+-------------------+\n",
            "\n",
            "+---------+-----+------------------+\n",
            "|  contact|count|        percentage|\n",
            "+---------+-----+------------------+\n",
            "| cellular|26144|0.6347479848499563|\n",
            "|telephone|15044|0.3652520151500437|\n",
            "+---------+-----+------------------+\n",
            "\n",
            "+-----+-----+--------------------+\n",
            "|month|count|          percentage|\n",
            "+-----+-----+--------------------+\n",
            "|  jun| 5318| 0.12911527629406624|\n",
            "|  aug| 6178| 0.14999514421676216|\n",
            "|  may|13769|  0.3342963970088375|\n",
            "|  sep|  570|0.013838982227833349|\n",
            "|  mar|  546|0.013256288239292998|\n",
            "|  oct|  718|0.017432261823832184|\n",
            "|  jul| 7174| 0.17417694474118675|\n",
            "|  nov| 4101| 0.09956783529183258|\n",
            "|  apr| 2632| 0.06390210740992522|\n",
            "|  dec|  182|0.004418762746430999|\n",
            "+-----+-----+--------------------+\n",
            "\n",
            "+-----------+-----+-------------------+\n",
            "|day_of_week|count|         percentage|\n",
            "+-----------+-----+-------------------+\n",
            "|        fri| 7827|0.19003107701272215|\n",
            "|        thu| 8623| 0.2093570942993105|\n",
            "|        tue| 8090|0.19641643197047684|\n",
            "|        wed| 8134|0.19748470428280082|\n",
            "|        mon| 8514| 0.2067106924346897|\n",
            "+-----------+-----+-------------------+\n",
            "\n"
          ]
        }
      ]
    },
    {
      "cell_type": "markdown",
      "source": [
        "__Based on this dataset, what customers are more likely so subscribe to term deposists?__"
      ],
      "metadata": {
        "id": "hSojMC6dWpnq"
      }
    },
    {
      "cell_type": "code",
      "source": [
        "# Plot age with target variable\n",
        "\n",
        "x = df.select(['age', 'y']).toPandas()\n",
        "plt.figure(figsize=(15, 5))\n",
        "sns.catplot(x='y', y='age', data=x, kind='violin')\n",
        "#sns.set(rc={'figure.figsize':(15.7,8.27)})\n",
        "plt.xlabel('Subscription to Term Deposit', fontsize=12)\n",
        "plt.ylabel('Age', fontsize=12)\n"
      ],
      "metadata": {
        "colab": {
          "base_uri": "https://localhost:8080/",
          "height": 407
        },
        "id": "Bq-0IeqyTaPf",
        "outputId": "27c2eb6a-92be-46f0-b285-3dc8a8730c84"
      },
      "execution_count": 31,
      "outputs": [
        {
          "output_type": "execute_result",
          "data": {
            "text/plain": [
              "Text(3.799999999999997, 0.5, 'Age')"
            ]
          },
          "metadata": {},
          "execution_count": 31
        },
        {
          "output_type": "display_data",
          "data": {
            "text/plain": [
              "<Figure size 1080x360 with 0 Axes>"
            ]
          },
          "metadata": {}
        },
        {
          "output_type": "display_data",
          "data": {
            "image/png": "[encoded data removed]",
            "text/plain": [
              "<Figure size 360x360 with 1 Axes>"
            ]
          },
          "metadata": {
            "needs_background": "light"
          }
        }
      ]
    },
    {
      "cell_type": "markdown",
      "source": [
        "People over the age of 60 are more likely to subscribe to term deposits."
      ],
      "metadata": {
        "id": "dYv9z0mbXjOx"
      }
    },
    {
      "cell_type": "markdown",
      "source": [
        "__What aer the top 5 demographics that subscribe to the term deposit?__"
      ],
      "metadata": {
        "id": "CSKEQEEM1m0L"
      }
    },
    {
      "cell_type": "code",
      "source": [
        "counts = df.groupBy('job', 'marital','education', 'y').count()\n",
        "counts.filter(counts['y']=='yes').orderBy(['count'], ascending=[0,1]).show(5)"
      ],
      "metadata": {
        "colab": {
          "base_uri": "https://localhost:8080/"
        },
        "id": "2vKUMOMGOERr",
        "outputId": "b1be5180-7749-41b2-aa4a-574d4af5f808"
      },
      "execution_count": 32,
      "outputs": [
        {
          "output_type": "stream",
          "name": "stdout",
          "text": [
            "+----------+-------+-------------------+---+-----+\n",
            "|       job|marital|          education|  y|count|\n",
            "+----------+-------+-------------------+---+-----+\n",
            "|    admin.|married|  university.degree|yes|  386|\n",
            "|    admin.| single|  university.degree|yes|  360|\n",
            "|technician|married|professional.course|yes|  196|\n",
            "|    admin.|married|        high.school|yes|  175|\n",
            "|management|married|  university.degree|yes|  169|\n",
            "+----------+-------+-------------------+---+-----+\n",
            "only showing top 5 rows\n",
            "\n"
          ]
        }
      ]
    },
    {
      "cell_type": "markdown",
      "source": [
        "__Which contact method (cellular vs telephone) is more successful?__"
      ],
      "metadata": {
        "id": "ZbSFCRleXzWp"
      }
    },
    {
      "cell_type": "code",
      "source": [
        "df.crosstab('contact', 'y').show()"
      ],
      "metadata": {
        "colab": {
          "base_uri": "https://localhost:8080/"
        },
        "id": "WpppcWJoYjnk",
        "outputId": "4b2fd63e-9300-46db-9691-0615b128bf8c"
      },
      "execution_count": 33,
      "outputs": [
        {
          "output_type": "stream",
          "name": "stdout",
          "text": [
            "+---------+-----+----+\n",
            "|contact_y|   no| yes|\n",
            "+---------+-----+----+\n",
            "| cellular|22291|3853|\n",
            "|telephone|14257| 787|\n",
            "+---------+-----+----+\n",
            "\n"
          ]
        }
      ]
    },
    {
      "cell_type": "code",
      "source": [
        "print(f\"Success rate of cellular campaigns: {3853/(22291+3853)}\")\n",
        "print(f\"Success rate of telephone campaigns: {787/(14257+787)}\")"
      ],
      "metadata": {
        "colab": {
          "base_uri": "https://localhost:8080/"
        },
        "id": "X4onmgXhZFIn",
        "outputId": "784254ad-d68d-4956-dac4-83a608de6844"
      },
      "execution_count": 34,
      "outputs": [
        {
          "output_type": "stream",
          "name": "stdout",
          "text": [
            "Success rate of cellular campaigns: 0.14737607099143207\n",
            "Success rate of telephone campaigns: 0.05231321457059293\n"
          ]
        }
      ]
    },
    {
      "cell_type": "markdown",
      "source": [
        "## 7. Data Pre-Processing\n",
        "\n",
        "### Dropping duration"
      ],
      "metadata": {
        "id": "pZRNEZnPkhdi"
      }
    },
    {
      "cell_type": "code",
      "source": [
        "df = df.drop('duration')"
      ],
      "metadata": {
        "id": "47Ia-RZqBe8S"
      },
      "execution_count": 35,
      "outputs": []
    },
    {
      "cell_type": "markdown",
      "source": [
        "### Label Encoding and Vector Assembly"
      ],
      "metadata": {
        "id": "9He3b34qqk1b"
      }
    },
    {
      "cell_type": "code",
      "source": [
        "# Label encoding for categorical variables\n",
        "\n",
        "from pyspark.ml import Pipeline\n",
        "from pyspark.ml.feature import OneHotEncoder\n",
        "from pyspark.ml.feature import VectorAssembler\n",
        "from pyspark.ml.feature import StringIndexer, VectorAssembler\n",
        "\n",
        "cols=['job','marital','education','default','housing','loan','contact','month','day_of_week','poutcome','y']\n",
        "\n",
        "stages = [StringIndexer(inputCol=column, outputCol=column+\"_index\").fit(df) for column in cols]\n",
        "pipeline = Pipeline(stages=stages)\n",
        "df_encoded = pipeline.fit(df).transform(df)\n",
        "\n",
        "df_encoded = df_encoded.drop('job','marital','education','default','housing','loan','contact','month','day_of_week','poutcome','y')\n",
        "\n",
        "df_encoded.show(5)"
      ],
      "metadata": {
        "colab": {
          "base_uri": "https://localhost:8080/"
        },
        "id": "TeeyH3fGighe",
        "outputId": "0567e035-8180-4512-9125-138b0f00642d"
      },
      "execution_count": 36,
      "outputs": [
        {
          "output_type": "stream",
          "name": "stdout",
          "text": [
            "+---+--------+-----+--------+------------+--------------+-------------+---------+-----------+---------+------------+------------+---------+-------------+---------------+-------------+-------------+----------+-------------+-----------+-----------------+--------------+-------+\n",
            "|age|campaign|pdays|previous|emp_var_rate|cons_price_idx|cons_conf_idx|euribor3m|nr_employed|  age_log|campaign_log|previous_log|job_index|marital_index|education_index|default_index|housing_index|loan_index|contact_index|month_index|day_of_week_index|poutcome_index|y_index|\n",
            "+---+--------+-----+--------+------------+--------------+-------------+---------+-----------+---------+------------+------------+---------+-------------+---------------+-------------+-------------+----------+-------------+-----------+-----------------+--------------+-------+\n",
            "| 56|       1|  999|       0|         1.1|        93.994|        -36.4|    4.857|     5191.0| 1.748188|         0.0|       -16.0|      8.0|          0.0|            4.0|          0.0|          1.0|       0.0|          1.0|        0.0|              1.0|           0.0|    0.0|\n",
            "| 57|       1|  999|       0|         1.1|        93.994|        -36.4|    4.857|     5191.0|1.7558749|         0.0|       -16.0|      3.0|          0.0|            1.0|          1.0|          1.0|       0.0|          1.0|        0.0|              1.0|           0.0|    0.0|\n",
            "| 37|       1|  999|       0|         1.1|        93.994|        -36.4|    4.857|     5191.0|1.5682018|         0.0|       -16.0|      3.0|          0.0|            1.0|          0.0|          0.0|       0.0|          1.0|        0.0|              1.0|           0.0|    0.0|\n",
            "| 40|       1|  999|       0|         1.1|        93.994|        -36.4|    4.857|     5191.0|  1.60206|         0.0|       -16.0|      0.0|          0.0|            5.0|          0.0|          1.0|       0.0|          1.0|        0.0|              1.0|           0.0|    0.0|\n",
            "| 56|       1|  999|       0|         1.1|        93.994|        -36.4|    4.857|     5191.0| 1.748188|         0.0|       -16.0|      3.0|          0.0|            1.0|          0.0|          1.0|       1.0|          1.0|        0.0|              1.0|           0.0|    0.0|\n",
            "+---+--------+-----+--------+------------+--------------+-------------+---------+-----------+---------+------------+------------+---------+-------------+---------------+-------------+-------------+----------+-------------+-----------+-----------------+--------------+-------+\n",
            "only showing top 5 rows\n",
            "\n"
          ]
        }
      ]
    },
    {
      "cell_type": "code",
      "source": [
        "feature_cols = [x for x in df_encoded.columns if x != 'y_index']\n",
        "\n",
        "assembler = VectorAssembler(inputCols=feature_cols, outputCol='features')\n",
        "df_transformed = assembler.transform(df_encoded)\n",
        "\n",
        "df_transformed.show(5)"
      ],
      "metadata": {
        "colab": {
          "base_uri": "https://localhost:8080/"
        },
        "id": "h_Lm1T2rDDrl",
        "outputId": "0b22a91f-5c50-4e3c-ff90-636bca77d22f"
      },
      "execution_count": 37,
      "outputs": [
        {
          "output_type": "stream",
          "name": "stdout",
          "text": [
            "+---+--------+-----+--------+------------+--------------+-------------+---------+-----------+---------+------------+------------+---------+-------------+---------------+-------------+-------------+----------+-------------+-----------+-----------------+--------------+-------+--------------------+\n",
            "|age|campaign|pdays|previous|emp_var_rate|cons_price_idx|cons_conf_idx|euribor3m|nr_employed|  age_log|campaign_log|previous_log|job_index|marital_index|education_index|default_index|housing_index|loan_index|contact_index|month_index|day_of_week_index|poutcome_index|y_index|            features|\n",
            "+---+--------+-----+--------+------------+--------------+-------------+---------+-----------+---------+------------+------------+---------+-------------+---------------+-------------+-------------+----------+-------------+-----------+-----------------+--------------+-------+--------------------+\n",
            "| 56|       1|  999|       0|         1.1|        93.994|        -36.4|    4.857|     5191.0| 1.748188|         0.0|       -16.0|      8.0|          0.0|            4.0|          0.0|          1.0|       0.0|          1.0|        0.0|              1.0|           0.0|    0.0|[56.0,1.0,999.0,0...|\n",
            "| 57|       1|  999|       0|         1.1|        93.994|        -36.4|    4.857|     5191.0|1.7558749|         0.0|       -16.0|      3.0|          0.0|            1.0|          1.0|          1.0|       0.0|          1.0|        0.0|              1.0|           0.0|    0.0|[57.0,1.0,999.0,0...|\n",
            "| 37|       1|  999|       0|         1.1|        93.994|        -36.4|    4.857|     5191.0|1.5682018|         0.0|       -16.0|      3.0|          0.0|            1.0|          0.0|          0.0|       0.0|          1.0|        0.0|              1.0|           0.0|    0.0|[37.0,1.0,999.0,0...|\n",
            "| 40|       1|  999|       0|         1.1|        93.994|        -36.4|    4.857|     5191.0|  1.60206|         0.0|       -16.0|      0.0|          0.0|            5.0|          0.0|          1.0|       0.0|          1.0|        0.0|              1.0|           0.0|    0.0|[40.0,1.0,999.0,0...|\n",
            "| 56|       1|  999|       0|         1.1|        93.994|        -36.4|    4.857|     5191.0| 1.748188|         0.0|       -16.0|      3.0|          0.0|            1.0|          0.0|          1.0|       1.0|          1.0|        0.0|              1.0|           0.0|    0.0|[56.0,1.0,999.0,0...|\n",
            "+---+--------+-----+--------+------------+--------------+-------------+---------+-----------+---------+------------+------------+---------+-------------+---------------+-------------+-------------+----------+-------------+-----------+-----------------+--------------+-------+--------------------+\n",
            "only showing top 5 rows\n",
            "\n"
          ]
        }
      ]
    },
    {
      "cell_type": "code",
      "source": [
        "indexer = StringIndexer(inputCol='y_index', outputCol='label')\n",
        "index_model = indexer.fit(df_transformed)\n",
        "vec_df = index_model.transform(df_transformed).select(\"features\", \"label\")\n",
        "\n",
        "vec_df.show(5, truncate = False)"
      ],
      "metadata": {
        "colab": {
          "base_uri": "https://localhost:8080/"
        },
        "id": "CERuYprMDbXp",
        "outputId": "48964e33-4695-4216-ed32-567ead2b9347"
      },
      "execution_count": 38,
      "outputs": [
        {
          "output_type": "stream",
          "name": "stdout",
          "text": [
            "+-----------------------------------------------------------------------------------------------------------------------+-----+\n",
            "|features                                                                                                               |label|\n",
            "+-----------------------------------------------------------------------------------------------------------------------+-----+\n",
            "|[56.0,1.0,999.0,0.0,1.1,93.994,-36.4,4.857,5191.0,1.7481880187988281,0.0,-16.0,8.0,0.0,4.0,0.0,1.0,0.0,1.0,0.0,1.0,0.0]|0.0  |\n",
            "|[57.0,1.0,999.0,0.0,1.1,93.994,-36.4,4.857,5191.0,1.7558748722076416,0.0,-16.0,3.0,0.0,1.0,1.0,1.0,0.0,1.0,0.0,1.0,0.0]|0.0  |\n",
            "|[37.0,1.0,999.0,0.0,1.1,93.994,-36.4,4.857,5191.0,1.5682017803192139,0.0,-16.0,3.0,0.0,1.0,0.0,0.0,0.0,1.0,0.0,1.0,0.0]|0.0  |\n",
            "|[40.0,1.0,999.0,0.0,1.1,93.994,-36.4,4.857,5191.0,1.6020599603652954,0.0,-16.0,0.0,0.0,5.0,0.0,1.0,0.0,1.0,0.0,1.0,0.0]|0.0  |\n",
            "|[56.0,1.0,999.0,0.0,1.1,93.994,-36.4,4.857,5191.0,1.7481880187988281,0.0,-16.0,3.0,0.0,1.0,0.0,1.0,1.0,1.0,0.0,1.0,0.0]|0.0  |\n",
            "+-----------------------------------------------------------------------------------------------------------------------+-----+\n",
            "only showing top 5 rows\n",
            "\n"
          ]
        }
      ]
    },
    {
      "cell_type": "markdown",
      "source": [
        "### Check Correlation Between Features"
      ],
      "metadata": {
        "id": "aYAyJEtmIHVK"
      }
    },
    {
      "cell_type": "code",
      "source": [
        "from pyspark.ml.stat import Correlation\n",
        "\n",
        "matrix = Correlation.corr(vec_df, \"features\")\n",
        "cor_np = matrix.collect()[0][matrix.columns[0]].toArray()\n",
        "cor_np"
      ],
      "metadata": {
        "colab": {
          "base_uri": "https://localhost:8080/"
        },
        "id": "6kGc0WPKILSY",
        "outputId": "c488ab0f-d008-4d55-8abe-29333cc9c4c6"
      },
      "execution_count": 39,
      "outputs": [
        {
          "output_type": "execute_result",
          "data": {
            "text/plain": [
              "array([[ 1.00000000e+00,  4.59358049e-03, -3.43689512e-02,\n",
              "         2.43647409e-02, -3.70685467e-04,  8.56714971e-04,\n",
              "         1.29371614e-01,  1.07674295e-02, -1.77251319e-02,\n",
              "         9.86683016e-01,  1.30529547e-04,  1.66022192e-02,\n",
              "         1.04522264e-01, -1.14982628e-01,  1.82827026e-01,\n",
              "         1.64965292e-01,  9.87060453e-04, -6.39657215e-03,\n",
              "         7.02094777e-03,  9.31100080e-02,  1.61885680e-02,\n",
              "         2.63708274e-02],\n",
              "       [ 4.59358049e-03,  1.00000000e+00,  5.25835734e-02,\n",
              "        -7.91414724e-02,  1.50753806e-01,  1.27835912e-01,\n",
              "        -1.37330987e-02,  1.35132511e-01,  1.44094895e-01,\n",
              "         8.63753353e-03,  8.56819160e-01, -8.76852606e-02,\n",
              "        -1.33017937e-02,  2.26926911e-03,  2.76672608e-03,\n",
              "         3.28245362e-02,  9.76839994e-03,  3.89909909e-03,\n",
              "         7.73675370e-02, -6.75018981e-02,  6.40299937e-04,\n",
              "        -8.60833124e-02],\n",
              "       [-3.43689512e-02,  5.25835734e-02,  1.00000000e+00,\n",
              "        -5.87513856e-01,  2.71004174e-01,  7.88891087e-02,\n",
              "        -9.13423540e-02,  2.96899112e-01,  3.72604742e-01,\n",
              "        -1.12588903e-02,  5.88228964e-02, -4.94747450e-01,\n",
              "        -5.88458944e-02, -1.76345040e-02,  1.80610133e-02,\n",
              "         8.00616841e-02,  1.03760533e-02,  1.29811904e-03,\n",
              "         1.17970321e-01, -1.73904147e-01,  1.00154846e-02,\n",
              "        -7.44679409e-01],\n",
              "       [ 2.43647409e-02, -7.91414724e-02, -5.87513856e-01,\n",
              "         1.00000000e+00, -4.20489109e-01, -2.03129967e-01,\n",
              "        -5.09363509e-02, -4.54493654e-01, -5.01332929e-01,\n",
              "         1.34146669e-03, -8.51489716e-02,  8.83447570e-01,\n",
              "         5.24499201e-02,  3.02223796e-02, -2.22952932e-02,\n",
              "        -1.02416455e-01, -1.76465928e-02,  8.45672589e-04,\n",
              "        -2.12847787e-01,  1.89730508e-01,  2.17575213e-03,\n",
              "         8.68539627e-01],\n",
              "       [-3.70685467e-04,  1.50753806e-01,  2.71004174e-01,\n",
              "        -4.20489109e-01,  1.00000000e+00,  7.75334171e-01,\n",
              "         1.96041268e-01,  9.72244671e-01,  9.06970101e-01,\n",
              "         3.52170125e-02,  1.56352815e-01, -4.72641693e-01,\n",
              "        -7.20070587e-02, -4.89314643e-02,  4.90095187e-02,\n",
              "         2.03263003e-01,  5.56448375e-02,  3.05531101e-03,\n",
              "         3.93584426e-01, -3.13825570e-01,  5.23125331e-03,\n",
              "        -4.57196814e-01],\n",
              "       [ 8.56714971e-04,  1.27835912e-01,  7.88891087e-02,\n",
              "        -2.03129967e-01,  7.75334171e-01,  1.00000000e+00,\n",
              "         5.89861817e-02,  6.88230107e-01,  5.22033977e-01,\n",
              "         1.74615194e-02,  1.25583068e-01, -3.02913134e-01,\n",
              "        -2.12543875e-02, -2.49948009e-02,  8.65241012e-02,\n",
              "         1.68072864e-01,  7.95283109e-02,  6.31525352e-03,\n",
              "         5.91473619e-01, -1.81645144e-01,  1.12712017e-02,\n",
              "        -2.59745894e-01],\n",
              "       [ 1.29371614e-01, -1.37330987e-02, -9.13423540e-02,\n",
              "        -5.09363509e-02,  1.96041268e-01,  5.89861817e-02,\n",
              "         1.00000000e+00,  2.77686220e-01,  1.00513432e-01,\n",
              "         1.20906073e-01, -1.62395043e-02, -9.88101705e-02,\n",
              "         4.34450628e-02, -5.10130385e-02, -1.30886121e-02,\n",
              "         2.65219903e-02,  3.35857582e-02, -5.89487967e-03,\n",
              "         2.51613876e-01, -1.15432599e-02,  4.02392445e-02,\n",
              "        -4.17282371e-02],\n",
              "       [ 1.07674295e-02,  1.35132511e-01,  2.96899112e-01,\n",
              "        -4.54493654e-01,  9.72244671e-01,  6.88230107e-01,\n",
              "         2.77686220e-01,  1.00000000e+00,  9.45154431e-01,\n",
              "         4.79846883e-02,  1.37436409e-01, -4.88964556e-01,\n",
              "        -6.42445713e-02, -5.46233582e-02,  4.04506157e-02,\n",
              "         1.95336357e-01,  5.46980033e-02,  1.54719334e-03,\n",
              "         3.99773055e-01, -2.73407040e-01,  1.24435527e-02,\n",
              "        -4.78687284e-01],\n",
              "       [-1.77251319e-02,  1.44094895e-01,  3.72604742e-01,\n",
              "        -5.01332929e-01,  9.06970101e-01,  5.22033977e-01,\n",
              "         1.00513432e-01,  9.45154431e-01,  1.00000000e+00,\n",
              "         2.47326481e-02,  1.48533488e-01, -4.94535338e-01,\n",
              "        -8.64393743e-02, -5.00581009e-02,  2.96889710e-02,\n",
              "         1.89845383e-01,  4.08547163e-02,  2.46372410e-03,\n",
              "         2.69155472e-01, -2.88111002e-01,  2.14553119e-03,\n",
              "        -5.09597104e-01],\n",
              "       [ 9.86683016e-01,  8.63753353e-03, -1.12588903e-02,\n",
              "         1.34146669e-03,  3.52170125e-02,  1.74615194e-02,\n",
              "         1.20906073e-01,  4.79846883e-02,  2.47326481e-02,\n",
              "         1.00000000e+00,  4.86966082e-03, -2.37316379e-03,\n",
              "         7.12880346e-02, -1.31373137e-01,  1.74833582e-01,\n",
              "         1.78229663e-01,  2.52946118e-03, -6.47931416e-03,\n",
              "         2.24566145e-02,  7.10657513e-02,  1.65135214e-02,\n",
              "         3.48588463e-03],\n",
              "       [ 1.30529547e-04,  8.56819160e-01,  5.88228964e-02,\n",
              "        -8.51489716e-02,  1.56352815e-01,  1.25583068e-01,\n",
              "        -1.62395043e-02,  1.37436409e-01,  1.48533488e-01,\n",
              "         4.86966082e-03,  1.00000000e+00, -9.40696409e-02,\n",
              "        -1.75691641e-02,  6.81977032e-03,  4.22370398e-03,\n",
              "         3.62513549e-02,  1.07741338e-02,  8.98853374e-03,\n",
              "         7.72827785e-02, -8.74471698e-02,  1.36388805e-02,\n",
              "        -9.31541951e-02],\n",
              "       [ 1.66022192e-02, -8.76852606e-02, -4.94747450e-01,\n",
              "         8.83447570e-01, -4.72641693e-01, -3.02913134e-01,\n",
              "        -9.88101705e-02, -4.88964556e-01, -4.94535338e-01,\n",
              "        -2.37316379e-03, -9.40696409e-02,  1.00000000e+00,\n",
              "         4.03520853e-02,  3.17711724e-02, -2.34474057e-02,\n",
              "        -1.04187421e-01, -2.19114388e-02,  9.81244444e-04,\n",
              "        -2.42487925e-01,  1.81479493e-01,  5.32469599e-03,\n",
              "         9.38306710e-01],\n",
              "       [ 1.04522264e-01, -1.33017937e-02, -5.88458944e-02,\n",
              "         5.24499201e-02, -7.20070587e-02, -2.12543875e-02,\n",
              "         4.34450628e-02, -6.42445713e-02, -8.64393743e-02,\n",
              "         7.12880346e-02, -1.75691641e-02,  4.03520853e-02,\n",
              "         1.00000000e+00, -4.70613442e-03,  8.56211734e-02,\n",
              "         2.70606094e-02,  1.34790505e-03, -3.55289392e-03,\n",
              "         1.27882979e-03,  8.37133371e-02, -1.04375756e-02,\n",
              "         5.13732241e-02],\n",
              "       [-1.14982628e-01,  2.26926911e-03, -1.76345040e-02,\n",
              "         3.02223796e-02, -4.89314643e-02, -2.49948009e-02,\n",
              "        -5.10130385e-02, -5.46233582e-02, -5.00581009e-02,\n",
              "        -1.31373137e-01,  6.81977032e-03,  3.17711724e-02,\n",
              "        -4.70613442e-03,  1.00000000e+00, -1.04975048e-01,\n",
              "        -1.03929920e-01, -3.64335242e-03,  1.71949593e-03,\n",
              "        -4.35636972e-02,  1.44387361e-02, -5.16561816e-03,\n",
              "         3.06271044e-02],\n",
              "       [ 1.82827026e-01,  2.76672608e-03,  1.80610133e-02,\n",
              "        -2.22952932e-02,  4.90095187e-02,  8.65241012e-02,\n",
              "        -1.30886121e-02,  4.04506157e-02,  2.96889710e-02,\n",
              "         1.74833582e-01,  4.22370398e-03, -2.34474057e-02,\n",
              "         8.56211734e-02, -1.04975048e-01,  1.00000000e+00,\n",
              "         1.96635547e-01,  1.51713099e-02, -5.05395401e-03,\n",
              "         8.98172457e-02, -6.45369226e-02,  1.03343423e-02,\n",
              "        -2.51315571e-02],\n",
              "       [ 1.64965292e-01,  3.28245362e-02,  8.00616841e-02,\n",
              "        -1.02416455e-01,  2.03263003e-01,  1.68072864e-01,\n",
              "         2.65219903e-02,  1.95336357e-01,  1.89845383e-01,\n",
              "         1.78229663e-01,  3.62513549e-02, -1.04187421e-01,\n",
              "         2.70606094e-02, -1.03929920e-01,  1.96635547e-01,\n",
              "         1.00000000e+00,  1.75864637e-02,  9.69501817e-04,\n",
              "         1.35237728e-01, -1.31118547e-01,  4.10013585e-03,\n",
              "        -1.08159115e-01],\n",
              "       [ 9.87060453e-04,  9.76839994e-03,  1.03760533e-02,\n",
              "        -1.76465928e-02,  5.56448375e-02,  7.95283109e-02,\n",
              "         3.35857582e-02,  5.46980033e-02,  4.08547163e-02,\n",
              "         2.52946118e-03,  1.07741338e-02, -2.19114388e-02,\n",
              "         1.34790505e-03, -3.64335242e-03,  1.51713099e-02,\n",
              "         1.75864637e-02,  1.00000000e+00,  2.34192162e-01,\n",
              "         8.34982677e-02, -2.82169199e-02,  2.41096360e-02,\n",
              "        -2.15993760e-02],\n",
              "       [-6.39657215e-03,  3.89909909e-03,  1.29811904e-03,\n",
              "         8.45672589e-04,  3.05531101e-03,  6.31525352e-03,\n",
              "        -5.89487967e-03,  1.54719334e-03,  2.46372410e-03,\n",
              "        -6.47931416e-03,  8.98853374e-03,  9.81244444e-04,\n",
              "        -3.55289392e-03,  1.71949593e-03, -5.05395401e-03,\n",
              "         9.69501817e-04,  2.34192162e-01,  1.00000000e+00,\n",
              "         4.39068227e-03, -6.79498675e-03,  6.69423065e-03,\n",
              "        -5.80504442e-04],\n",
              "       [ 7.02094777e-03,  7.73675370e-02,  1.17970321e-01,\n",
              "        -2.12847787e-01,  3.93584426e-01,  5.91473619e-01,\n",
              "         2.51613876e-01,  3.99773055e-01,  2.69155472e-01,\n",
              "         2.24566145e-02,  7.72827785e-02, -2.42487925e-01,\n",
              "         1.27882979e-03, -4.35636972e-02,  8.98172457e-02,\n",
              "         1.35237728e-01,  8.34982677e-02,  4.39068227e-03,\n",
              "         1.00000000e+00, -2.26850731e-01,  5.23760475e-02,\n",
              "        -2.26813197e-01],\n",
              "       [ 9.31100080e-02, -6.75018981e-02, -1.73904147e-01,\n",
              "         1.89730508e-01, -3.13825570e-01, -1.81645144e-01,\n",
              "        -1.15432599e-02, -2.73407040e-01, -2.88111002e-01,\n",
              "         7.10657513e-02, -8.74471698e-02,  1.81479493e-01,\n",
              "         8.37133371e-02,  1.44387361e-02, -6.45369226e-02,\n",
              "        -1.31118547e-01, -2.82169199e-02, -6.79498675e-03,\n",
              "        -2.26850731e-01,  1.00000000e+00, -3.24836689e-02,\n",
              "         2.01397049e-01],\n",
              "       [ 1.61885680e-02,  6.40299937e-04,  1.00154846e-02,\n",
              "         2.17575213e-03,  5.23125331e-03,  1.12712017e-02,\n",
              "         4.02392445e-02,  1.24435527e-02,  2.14553119e-03,\n",
              "         1.65135214e-02,  1.36388805e-02,  5.32469599e-03,\n",
              "        -1.04375756e-02, -5.16561816e-03,  1.03343423e-02,\n",
              "         4.10013585e-03,  2.41096360e-02,  6.69423065e-03,\n",
              "         5.23760475e-02, -3.24836689e-02,  1.00000000e+00,\n",
              "         9.52003917e-05],\n",
              "       [ 2.63708274e-02, -8.60833124e-02, -7.44679409e-01,\n",
              "         8.68539627e-01, -4.57196814e-01, -2.59745894e-01,\n",
              "        -4.17282371e-02, -4.78687284e-01, -5.09597104e-01,\n",
              "         3.48588463e-03, -9.31541951e-02,  9.38306710e-01,\n",
              "         5.13732241e-02,  3.06271044e-02, -2.51315571e-02,\n",
              "        -1.08159115e-01, -2.15993760e-02, -5.80504442e-04,\n",
              "        -2.26813197e-01,  2.01397049e-01,  9.52003917e-05,\n",
              "         1.00000000e+00]])"
            ]
          },
          "metadata": {},
          "execution_count": 39
        }
      ]
    },
    {
      "cell_type": "code",
      "source": [
        "# Check if any values are too high\n",
        "\n",
        "def check_binarizer(matrix):\n",
        "  bin_matrix = matrix.copy()\n",
        "  for i in range(len(matrix)):\n",
        "    for j in range(len(matrix)):\n",
        "      if 0.85 < matrix[i][j] < 1: \n",
        "        # 0.85 is an artitrary threshold\n",
        "        bin_matrix[i][j] = int(1)\n",
        "      else:\n",
        "        bin_matrix[i][j] = int(0)\n",
        "  return bin_matrix"
      ],
      "metadata": {
        "id": "DzueuzvnMh-o"
      },
      "execution_count": 40,
      "outputs": []
    },
    {
      "cell_type": "code",
      "source": [
        "# Get indices of high correlation\n",
        "\n",
        "bin_matrix = check_binarizer(cor_np)\n",
        "high_corr = np.where(bin_matrix == 1)\n",
        "high_corr"
      ],
      "metadata": {
        "colab": {
          "base_uri": "https://localhost:8080/"
        },
        "id": "jcXD-5t1X9WA",
        "outputId": "863adea6-fc13-42b0-908f-5925f1d57d8e"
      },
      "execution_count": 41,
      "outputs": [
        {
          "output_type": "execute_result",
          "data": {
            "text/plain": [
              "(array([ 0,  1,  3,  3,  4,  4,  7,  7,  8,  8,  9, 10, 11, 11, 21, 21]),\n",
              " array([ 9, 10, 11, 21,  7,  8,  4,  8,  4,  7,  0,  1,  3, 21,  3, 11]))"
            ]
          },
          "metadata": {},
          "execution_count": 41
        }
      ]
    },
    {
      "cell_type": "code",
      "source": [
        "# Mapping the indices back to feature names\n",
        "\n",
        "high_corr_cols = np.array(high_corr).copy()\n",
        "high_corr_cols = [str(a) for a in high_corr_cols]\n",
        "high_corr_cols[0] = [str(i) + '_' + str(high_corr[0][i]) + '_'+ df_transformed.columns[high_corr[0][i]] for i in range(len(high_corr[0]))]\n",
        "high_corr_cols[1] = [str(i) + '_' + str(high_corr[1][i]) + '_'+ df_transformed.columns[high_corr[1][i]] for i in range(len(high_corr[1]))]\n",
        "high_corr_cols"
      ],
      "metadata": {
        "colab": {
          "base_uri": "https://localhost:8080/"
        },
        "id": "YnA58mZTYw5_",
        "outputId": "971f3d46-9eb0-44ef-e888-8b0131f63358"
      },
      "execution_count": 42,
      "outputs": [
        {
          "output_type": "execute_result",
          "data": {
            "text/plain": [
              "[['0_0_age',\n",
              "  '1_1_campaign',\n",
              "  '2_3_previous',\n",
              "  '3_3_previous',\n",
              "  '4_4_emp_var_rate',\n",
              "  '5_4_emp_var_rate',\n",
              "  '6_7_euribor3m',\n",
              "  '7_7_euribor3m',\n",
              "  '8_8_nr_employed',\n",
              "  '9_8_nr_employed',\n",
              "  '10_9_age_log',\n",
              "  '11_10_campaign_log',\n",
              "  '12_11_previous_log',\n",
              "  '13_11_previous_log',\n",
              "  '14_21_poutcome_index',\n",
              "  '15_21_poutcome_index'],\n",
              " ['0_9_age_log',\n",
              "  '1_10_campaign_log',\n",
              "  '2_11_previous_log',\n",
              "  '3_21_poutcome_index',\n",
              "  '4_7_euribor3m',\n",
              "  '5_8_nr_employed',\n",
              "  '6_4_emp_var_rate',\n",
              "  '7_8_nr_employed',\n",
              "  '8_4_emp_var_rate',\n",
              "  '9_7_euribor3m',\n",
              "  '10_0_age',\n",
              "  '11_1_campaign',\n",
              "  '12_3_previous',\n",
              "  '13_21_poutcome_index',\n",
              "  '14_3_previous',\n",
              "  '15_11_previous_log']]"
            ]
          },
          "metadata": {},
          "execution_count": 42
        }
      ]
    },
    {
      "cell_type": "markdown",
      "source": [
        "Because highly correlated features may worsen the performance of the model, we need to make a decision on whether or not to remove them. A couple of observations:\n",
        "\n",
        "1. We see that the log tranformed features are closely correlated with the original features, which is expected. We will remove the original features.\n",
        "\n",
        "2. \"Previous\" is highly correlated with \"poutcome\". This makes sense because \"previous\" is for number of contacts performed before this campaign and for this client (numeric), and \"poutcome\" is the outcome of the previous marketing campaign (categorical: 'failure','nonexistent','success'). Both of these features are important because we need to know both the number of previous contacts and whether they were successful. We will retain both of them.\n",
        "\n",
        "3. These social and economic context attributes also seem to be closely correlated with one another:\n",
        "- emp_var_rate & euribor3m\n",
        "- emp_var_rate & nr_employed\n",
        "- euribor3m & nr_employed\n",
        "\n",
        "Let's recap what these features are:  \n",
        "16 - emp.var.rate: employment variation rate - quarterly indicator (numeric)  \n",
        "19 - euribor3m: euribor 3 month rate - daily indicator (numeric)  \n",
        "20 - nr.employed: number of employees - quarterly indicator (numeric)  \n",
        "\n",
        "Because these features are social and economic context attributes, it makes sense that they would be closely correlated with one another,  For this study, we will only retain one of the above features, euribor3m, because it has the highest update frequency.\n",
        "\n",
        "In summary, we need to remove the following features from the dataframe:\n",
        "- age\n",
        "- campaign\n",
        "- previous\n",
        "- emp_var_rate\n",
        "- nr_employed"
      ],
      "metadata": {
        "id": "figvp6Wzb53P"
      }
    },
    {
      "cell_type": "code",
      "source": [
        "col_to_drop = ['age', 'campaign', 'previous', 'emp_var_rate', 'nr_employed', ]\n",
        "for col in col_to_drop:\n",
        "  df = df.drop(col)"
      ],
      "metadata": {
        "id": "b2WUBgHleoy3"
      },
      "execution_count": 43,
      "outputs": []
    },
    {
      "cell_type": "code",
      "source": [
        "# Redo the transformations with new df\n",
        "\n",
        "cols=['job','marital','education','default','housing','loan','contact','month','day_of_week','poutcome','y']\n",
        "\n",
        "stages = [StringIndexer(inputCol=column, outputCol=column+\"_index\").fit(df) for column in cols]\n",
        "pipeline = Pipeline(stages=stages)\n",
        "df_encoded = pipeline.fit(df).transform(df)\n",
        "\n",
        "df_encoded = df_encoded.drop('job','marital','education','default','housing','loan','contact','month','day_of_week','poutcome','y')\n",
        "\n",
        "df_encoded.show(5)"
      ],
      "metadata": {
        "colab": {
          "base_uri": "https://localhost:8080/"
        },
        "id": "bJmpvr9Ie2oG",
        "outputId": "283e5823-3960-479f-e392-97183cf45416"
      },
      "execution_count": 44,
      "outputs": [
        {
          "output_type": "stream",
          "name": "stdout",
          "text": [
            "+-----+--------------+-------------+---------+---------+------------+------------+---------+-------------+---------------+-------------+-------------+----------+-------------+-----------+-----------------+--------------+-------+\n",
            "|pdays|cons_price_idx|cons_conf_idx|euribor3m|  age_log|campaign_log|previous_log|job_index|marital_index|education_index|default_index|housing_index|loan_index|contact_index|month_index|day_of_week_index|poutcome_index|y_index|\n",
            "+-----+--------------+-------------+---------+---------+------------+------------+---------+-------------+---------------+-------------+-------------+----------+-------------+-----------+-----------------+--------------+-------+\n",
            "|  999|        93.994|        -36.4|    4.857| 1.748188|         0.0|       -16.0|      8.0|          0.0|            4.0|          0.0|          1.0|       0.0|          1.0|        0.0|              1.0|           0.0|    0.0|\n",
            "|  999|        93.994|        -36.4|    4.857|1.7558749|         0.0|       -16.0|      3.0|          0.0|            1.0|          1.0|          1.0|       0.0|          1.0|        0.0|              1.0|           0.0|    0.0|\n",
            "|  999|        93.994|        -36.4|    4.857|1.5682018|         0.0|       -16.0|      3.0|          0.0|            1.0|          0.0|          0.0|       0.0|          1.0|        0.0|              1.0|           0.0|    0.0|\n",
            "|  999|        93.994|        -36.4|    4.857|  1.60206|         0.0|       -16.0|      0.0|          0.0|            5.0|          0.0|          1.0|       0.0|          1.0|        0.0|              1.0|           0.0|    0.0|\n",
            "|  999|        93.994|        -36.4|    4.857| 1.748188|         0.0|       -16.0|      3.0|          0.0|            1.0|          0.0|          1.0|       1.0|          1.0|        0.0|              1.0|           0.0|    0.0|\n",
            "+-----+--------------+-------------+---------+---------+------------+------------+---------+-------------+---------------+-------------+-------------+----------+-------------+-----------+-----------------+--------------+-------+\n",
            "only showing top 5 rows\n",
            "\n"
          ]
        }
      ]
    },
    {
      "cell_type": "code",
      "source": [
        "feature_cols = [x for x in df_encoded.columns if x != 'y_index']\n",
        "\n",
        "assembler = VectorAssembler(inputCols=feature_cols, outputCol='features')\n",
        "df_transformed = assembler.transform(df_encoded)\n",
        "\n",
        "df_transformed.show(5)"
      ],
      "metadata": {
        "colab": {
          "base_uri": "https://localhost:8080/"
        },
        "id": "2r5LzQ5kfHz_",
        "outputId": "0b82f0c2-e04e-467a-97f5-951e62200116"
      },
      "execution_count": 45,
      "outputs": [
        {
          "output_type": "stream",
          "name": "stdout",
          "text": [
            "+-----+--------------+-------------+---------+---------+------------+------------+---------+-------------+---------------+-------------+-------------+----------+-------------+-----------+-----------------+--------------+-------+--------------------+\n",
            "|pdays|cons_price_idx|cons_conf_idx|euribor3m|  age_log|campaign_log|previous_log|job_index|marital_index|education_index|default_index|housing_index|loan_index|contact_index|month_index|day_of_week_index|poutcome_index|y_index|            features|\n",
            "+-----+--------------+-------------+---------+---------+------------+------------+---------+-------------+---------------+-------------+-------------+----------+-------------+-----------+-----------------+--------------+-------+--------------------+\n",
            "|  999|        93.994|        -36.4|    4.857| 1.748188|         0.0|       -16.0|      8.0|          0.0|            4.0|          0.0|          1.0|       0.0|          1.0|        0.0|              1.0|           0.0|    0.0|[999.0,93.994,-36...|\n",
            "|  999|        93.994|        -36.4|    4.857|1.7558749|         0.0|       -16.0|      3.0|          0.0|            1.0|          1.0|          1.0|       0.0|          1.0|        0.0|              1.0|           0.0|    0.0|[999.0,93.994,-36...|\n",
            "|  999|        93.994|        -36.4|    4.857|1.5682018|         0.0|       -16.0|      3.0|          0.0|            1.0|          0.0|          0.0|       0.0|          1.0|        0.0|              1.0|           0.0|    0.0|(17,[0,1,2,3,4,6,...|\n",
            "|  999|        93.994|        -36.4|    4.857|  1.60206|         0.0|       -16.0|      0.0|          0.0|            5.0|          0.0|          1.0|       0.0|          1.0|        0.0|              1.0|           0.0|    0.0|(17,[0,1,2,3,4,6,...|\n",
            "|  999|        93.994|        -36.4|    4.857| 1.748188|         0.0|       -16.0|      3.0|          0.0|            1.0|          0.0|          1.0|       1.0|          1.0|        0.0|              1.0|           0.0|    0.0|[999.0,93.994,-36...|\n",
            "+-----+--------------+-------------+---------+---------+------------+------------+---------+-------------+---------------+-------------+-------------+----------+-------------+-----------+-----------------+--------------+-------+--------------------+\n",
            "only showing top 5 rows\n",
            "\n"
          ]
        }
      ]
    },
    {
      "cell_type": "code",
      "source": [
        "indexer = StringIndexer(inputCol='y_index', outputCol='label')\n",
        "index_model = indexer.fit(df_transformed)\n",
        "vec_df = index_model.transform(df_transformed).select(\"features\", \"label\")\n",
        "\n",
        "vec_df.show(5, truncate = False)"
      ],
      "metadata": {
        "colab": {
          "base_uri": "https://localhost:8080/"
        },
        "id": "nlMyy4q6fKpx",
        "outputId": "f71b41d3-a046-47b4-c28b-17d55770774e"
      },
      "execution_count": 46,
      "outputs": [
        {
          "output_type": "stream",
          "name": "stdout",
          "text": [
            "+-------------------------------------------------------------------------------------------------+-----+\n",
            "|features                                                                                         |label|\n",
            "+-------------------------------------------------------------------------------------------------+-----+\n",
            "|[999.0,93.994,-36.4,4.857,1.7481880187988281,0.0,-16.0,8.0,0.0,4.0,0.0,1.0,0.0,1.0,0.0,1.0,0.0]  |0.0  |\n",
            "|[999.0,93.994,-36.4,4.857,1.7558748722076416,0.0,-16.0,3.0,0.0,1.0,1.0,1.0,0.0,1.0,0.0,1.0,0.0]  |0.0  |\n",
            "|(17,[0,1,2,3,4,6,7,9,13,15],[999.0,93.994,-36.4,4.857,1.5682017803192139,-16.0,3.0,1.0,1.0,1.0]) |0.0  |\n",
            "|(17,[0,1,2,3,4,6,9,11,13,15],[999.0,93.994,-36.4,4.857,1.6020599603652954,-16.0,5.0,1.0,1.0,1.0])|0.0  |\n",
            "|[999.0,93.994,-36.4,4.857,1.7481880187988281,0.0,-16.0,3.0,0.0,1.0,0.0,1.0,1.0,1.0,0.0,1.0,0.0]  |0.0  |\n",
            "+-------------------------------------------------------------------------------------------------+-----+\n",
            "only showing top 5 rows\n",
            "\n"
          ]
        }
      ]
    },
    {
      "cell_type": "code",
      "source": [
        "# There are a couple of sparse vectors in the dataframe above which will not work with the SMOTE implementation below\n",
        "# Convert spark vector column in pyspark dataframe to dense vector \n",
        "\n",
        "from pyspark.ml.linalg import DenseVector, SparseVector, Vectors, VectorUDT\n",
        "from pyspark.sql import functions as F\n",
        "from pyspark.sql.types import *\n",
        "\n",
        "toDense = lambda v: Vectors.dense(v.toArray())\n",
        "toDenseUdf = F.udf(toDense, VectorUDT())\n",
        "vec_df = vec_df.withColumn('features', toDenseUdf('features'))"
      ],
      "metadata": {
        "id": "V2zC7lUGft9a"
      },
      "execution_count": 47,
      "outputs": []
    },
    {
      "cell_type": "code",
      "source": [
        "vec_df.show(5, truncate = False)"
      ],
      "metadata": {
        "colab": {
          "base_uri": "https://localhost:8080/"
        },
        "id": "e2lVR-rNhrLK",
        "outputId": "b3f3b124-4a9f-4508-b62d-182611188df9"
      },
      "execution_count": 48,
      "outputs": [
        {
          "output_type": "stream",
          "name": "stdout",
          "text": [
            "+-----------------------------------------------------------------------------------------------+-----+\n",
            "|features                                                                                       |label|\n",
            "+-----------------------------------------------------------------------------------------------+-----+\n",
            "|[999.0,93.994,-36.4,4.857,1.7481880187988281,0.0,-16.0,8.0,0.0,4.0,0.0,1.0,0.0,1.0,0.0,1.0,0.0]|0.0  |\n",
            "|[999.0,93.994,-36.4,4.857,1.7558748722076416,0.0,-16.0,3.0,0.0,1.0,1.0,1.0,0.0,1.0,0.0,1.0,0.0]|0.0  |\n",
            "|[999.0,93.994,-36.4,4.857,1.5682017803192139,0.0,-16.0,3.0,0.0,1.0,0.0,0.0,0.0,1.0,0.0,1.0,0.0]|0.0  |\n",
            "|[999.0,93.994,-36.4,4.857,1.6020599603652954,0.0,-16.0,0.0,0.0,5.0,0.0,1.0,0.0,1.0,0.0,1.0,0.0]|0.0  |\n",
            "|[999.0,93.994,-36.4,4.857,1.7481880187988281,0.0,-16.0,3.0,0.0,1.0,0.0,1.0,1.0,1.0,0.0,1.0,0.0]|0.0  |\n",
            "+-----------------------------------------------------------------------------------------------+-----+\n",
            "only showing top 5 rows\n",
            "\n"
          ]
        }
      ]
    },
    {
      "cell_type": "markdown",
      "source": [
        "### Oversampling of the Target Variable\n",
        "We saw in EDA that the dataset is severely imbalanced, with the target column containing 89% \"no\" and 11% of \"yes\". The challenge of working with imbalanced datasets is that most machine learning techniques may ignore, and in turn have poor performance on, the minority class, although the performance on the minority class may be the most important.\n",
        "\n",
        "To rectify this issue, one approach to is to oversample the minority class. We will use SMOTE (Synthetic Minority Oversampling Technique), where new examples are synthesized from the existing examples."
      ],
      "metadata": {
        "id": "4gW_xRYjrsCL"
      }
    },
    {
      "cell_type": "code",
      "source": [
        "# Develop SMOTE implementation in PySpark\n",
        "\n",
        "import random\n",
        "import numpy as np\n",
        "from pyspark.sql import Row\n",
        "from sklearn import neighbors\n",
        "from pyspark.ml.feature import VectorAssembler\n",
        "\n",
        "def SmoteSampling(vectorized, k = 5, minorityClass = 1, majorityClass = 0, percentageOver = 200, percentageUnder = 100):\n",
        "    if(percentageUnder > 100|percentageUnder < 10):\n",
        "        raise ValueError(\"Percentage Under must be in range 10 - 100\");\n",
        "    if(percentageOver < 100):\n",
        "        raise ValueError(\"Percentage Over must be in at least 100\");\n",
        "    dataInput_min = vectorized[vectorized['label'] == minorityClass]\n",
        "    dataInput_maj = vectorized[vectorized['label'] == majorityClass]\n",
        "    feature = dataInput_min.select('features')\n",
        "    feature = feature.rdd\n",
        "    feature = feature.map(lambda x: x[0])\n",
        "    feature = feature.collect()\n",
        "    feature = np.asarray(feature)\n",
        "    nbrs = neighbors.NearestNeighbors(n_neighbors=k, algorithm='auto').fit(feature)\n",
        "    neighbours =  nbrs.kneighbors(feature)\n",
        "    gap = neighbours[0]\n",
        "    neighbours = neighbours[1]\n",
        "    min_rdd = dataInput_min.drop('label').rdd\n",
        "    pos_rddArray = min_rdd.map(lambda x : list(x))\n",
        "    pos_ListArray = pos_rddArray.collect()\n",
        "    min_Array = list(pos_ListArray)\n",
        "    newRows = []\n",
        "    nt = len(min_Array)\n",
        "    nexs = percentageOver/100\n",
        "    for i in range(nt):\n",
        "        for j in range(int(nexs)):\n",
        "            neigh = random.randint(1,k)\n",
        "            difs = min_Array[neigh][0] - min_Array[i][0]\n",
        "            newRec = (min_Array[i][0]+random.random()*difs)\n",
        "            newRows.insert(0,(newRec))\n",
        "    newData_rdd = sc.parallelize(newRows)\n",
        "    newData_rdd_new = newData_rdd.map(lambda x: Row(features = x, label = 1))\n",
        "    new_data = newData_rdd_new.toDF()\n",
        "    new_data_minor = dataInput_min.unionAll(new_data)\n",
        "    new_data_major = dataInput_maj.sample(False, (float(percentageUnder)/float(100)))\n",
        "    return new_data_major.unionAll(new_data_minor)"
      ],
      "metadata": {
        "id": "O_SUpxLmB7qK"
      },
      "execution_count": 49,
      "outputs": []
    },
    {
      "cell_type": "code",
      "source": [
        "df_resampled = SmoteSampling(vec_df, minorityClass = 1.0, majorityClass = 0.0, percentageOver = 600)"
      ],
      "metadata": {
        "id": "GF6R2eMYrpI6"
      },
      "execution_count": 50,
      "outputs": []
    },
    {
      "cell_type": "code",
      "source": [
        "vec_df.groupBy('label').count().show()"
      ],
      "metadata": {
        "colab": {
          "base_uri": "https://localhost:8080/"
        },
        "id": "6MwVS8SmHQY3",
        "outputId": "91094f1a-1a79-4897-90b8-e86a6cbdb960"
      },
      "execution_count": 51,
      "outputs": [
        {
          "output_type": "stream",
          "name": "stdout",
          "text": [
            "+-----+-----+\n",
            "|label|count|\n",
            "+-----+-----+\n",
            "|  0.0|36548|\n",
            "|  1.0| 4640|\n",
            "+-----+-----+\n",
            "\n"
          ]
        }
      ]
    },
    {
      "cell_type": "code",
      "source": [
        "df_resampled.groupBy('label').count().show()"
      ],
      "metadata": {
        "colab": {
          "base_uri": "https://localhost:8080/"
        },
        "id": "7_2Cr9yyGQiH",
        "outputId": "a280efd9-2c40-4cbe-84f6-365880c7d977"
      },
      "execution_count": 52,
      "outputs": [
        {
          "output_type": "stream",
          "name": "stdout",
          "text": [
            "+-----+-----+\n",
            "|label|count|\n",
            "+-----+-----+\n",
            "|  0.0|36548|\n",
            "|  1.0|32480|\n",
            "+-----+-----+\n",
            "\n"
          ]
        }
      ]
    },
    {
      "cell_type": "markdown",
      "source": [
        "We now have 32480 samples in the minority class instead of 4640. The dataset is now more balanced."
      ],
      "metadata": {
        "id": "XQ_ll62Rv13k"
      }
    },
    {
      "cell_type": "code",
      "source": [
        "df_resampled.show(5, truncate=False)"
      ],
      "metadata": {
        "colab": {
          "base_uri": "https://localhost:8080/"
        },
        "id": "8AtRPqwillwr",
        "outputId": "261c8ad8-5cd9-41e7-dcf5-6c0ce57cfeea"
      },
      "execution_count": 53,
      "outputs": [
        {
          "output_type": "stream",
          "name": "stdout",
          "text": [
            "+-----------------------------------------------------------------------------------------------+-----+\n",
            "|features                                                                                       |label|\n",
            "+-----------------------------------------------------------------------------------------------+-----+\n",
            "|[999.0,93.994,-36.4,4.857,1.7481880187988281,0.0,-16.0,8.0,0.0,4.0,0.0,1.0,0.0,1.0,0.0,1.0,0.0]|0.0  |\n",
            "|[999.0,93.994,-36.4,4.857,1.7558748722076416,0.0,-16.0,3.0,0.0,1.0,1.0,1.0,0.0,1.0,0.0,1.0,0.0]|0.0  |\n",
            "|[999.0,93.994,-36.4,4.857,1.5682017803192139,0.0,-16.0,3.0,0.0,1.0,0.0,0.0,0.0,1.0,0.0,1.0,0.0]|0.0  |\n",
            "|[999.0,93.994,-36.4,4.857,1.6020599603652954,0.0,-16.0,0.0,0.0,5.0,0.0,1.0,0.0,1.0,0.0,1.0,0.0]|0.0  |\n",
            "|[999.0,93.994,-36.4,4.857,1.7481880187988281,0.0,-16.0,3.0,0.0,1.0,0.0,1.0,1.0,1.0,0.0,1.0,0.0]|0.0  |\n",
            "+-----------------------------------------------------------------------------------------------+-----+\n",
            "only showing top 5 rows\n",
            "\n"
          ]
        }
      ]
    },
    {
      "cell_type": "markdown",
      "source": [
        "## 8. Classification Models\n",
        "\n",
        "### Data Splitting"
      ],
      "metadata": {
        "id": "vxrQzOyJ43j9"
      }
    },
    {
      "cell_type": "code",
      "source": [
        "train, test = df_resampled.randomSplit([0.8,0.2],seed=10)"
      ],
      "metadata": {
        "id": "HaJhfJR4okA0"
      },
      "execution_count": 54,
      "outputs": []
    },
    {
      "cell_type": "code",
      "source": [
        "train.count(), test.count()"
      ],
      "metadata": {
        "colab": {
          "base_uri": "https://localhost:8080/"
        },
        "id": "0uaDLAFpolob",
        "outputId": "c9773782-b243-42c6-c319-f7256118f7cc"
      },
      "execution_count": 55,
      "outputs": [
        {
          "output_type": "execute_result",
          "data": {
            "text/plain": [
              "(55158, 13870)"
            ]
          },
          "metadata": {},
          "execution_count": 55
        }
      ]
    },
    {
      "cell_type": "markdown",
      "source": [
        "### Logistic Regression"
      ],
      "metadata": {
        "id": "K503QVqE2hAF"
      }
    },
    {
      "cell_type": "code",
      "source": [
        "#define the LR classifier model by using the LogisticRegression class \n",
        "#and fit model on train data. We can predict test data by using trasnform() method.\n",
        "\n",
        "lr = LogisticRegression(featuresCol='features', labelCol='label',maxIter = 100)\n",
        "lr_model = lr.fit(train)\n",
        "lr_prediction = lr_model.transform(test)"
      ],
      "metadata": {
        "id": "IO8A5UkOlo4T"
      },
      "execution_count": 68,
      "outputs": []
    },
    {
      "cell_type": "code",
      "source": [
        "lr_prediction.groupBy('label','prediction').count().show()"
      ],
      "metadata": {
        "colab": {
          "base_uri": "https://localhost:8080/"
        },
        "id": "w738OLFlz35K",
        "outputId": "f6fc4afc-682d-4a14-9bd1-189a74605575"
      },
      "execution_count": 57,
      "outputs": [
        {
          "output_type": "stream",
          "name": "stdout",
          "text": [
            "+-----+----------+-----+\n",
            "|label|prediction|count|\n",
            "+-----+----------+-----+\n",
            "|  1.0|       1.0| 4587|\n",
            "|  0.0|       1.0| 1806|\n",
            "|  1.0|       0.0| 1931|\n",
            "|  0.0|       0.0| 5546|\n",
            "+-----+----------+-----+\n",
            "\n"
          ]
        }
      ]
    },
    {
      "cell_type": "code",
      "source": [
        "trainingSummary = lr_model.summary\n",
        "roc = trainingSummary.roc.toPandas()\n",
        "plt.plot(roc['FPR'],roc['TPR'])\n",
        "plt.ylabel('False Positive Rate')\n",
        "plt.xlabel('True Positive Rate')\n",
        "plt.title('ROC Curve')\n",
        "plt.show()\n",
        "print('Training set areaUnderROC: ' + str(trainingSummary.areaUnderROC))"
      ],
      "metadata": {
        "colab": {
          "base_uri": "https://localhost:8080/",
          "height": 312
        },
        "id": "ZE3QCEKB2WRf",
        "outputId": "7fe613b1-124f-48b5-8ad2-b4321104d671"
      },
      "execution_count": 58,
      "outputs": [
        {
          "output_type": "display_data",
          "data": {
            "image/png": "[encoded data removed]",
            "text/plain": [
              "<Figure size 432x288 with 1 Axes>"
            ]
          },
          "metadata": {
            "needs_background": "light"
          }
        },
        {
          "output_type": "stream",
          "name": "stdout",
          "text": [
            "Training set areaUnderROC: 0.7943489965769207\n"
          ]
        }
      ]
    },
    {
      "cell_type": "code",
      "source": [
        "pr = trainingSummary.pr.toPandas()\n",
        "plt.plot(pr['recall'],pr['precision'])\n",
        "plt.ylabel('Precision')\n",
        "plt.xlabel('Recall')\n",
        "plt.show()"
      ],
      "metadata": {
        "id": "sG7rVSM5iv26",
        "colab": {
          "base_uri": "https://localhost:8080/",
          "height": 279
        },
        "outputId": "521ad2af-0d02-4e95-e85f-82d7768071c9"
      },
      "execution_count": 59,
      "outputs": [
        {
          "output_type": "display_data",
          "data": {
            "image/png": "[encoded data removed]",
            "text/plain": [
              "<Figure size 432x288 with 1 Axes>"
            ]
          },
          "metadata": {
            "needs_background": "light"
          }
        }
      ]
    },
    {
      "cell_type": "markdown",
      "source": [
        "#### LR Evaluation"
      ],
      "metadata": {
        "id": "PZCXtizT2uVP"
      }
    },
    {
      "cell_type": "code",
      "source": [
        "evaluator_lr = MulticlassClassificationEvaluator(predictionCol=\"prediction\")\n",
        "acc_lr = evaluator_lr.evaluate(lr_prediction)\n",
        " \n",
        "print(\"Prediction Accuracy: \", acc_lr)"
      ],
      "metadata": {
        "colab": {
          "base_uri": "https://localhost:8080/"
        },
        "id": "roG760Ih0CLr",
        "outputId": "3d7d1a61-f3b0-444e-cb32-d3a4a5853121"
      },
      "execution_count": 60,
      "outputs": [
        {
          "output_type": "stream",
          "name": "stdout",
          "text": [
            "Prediction Accuracy:  0.7304008791165\n"
          ]
        }
      ]
    },
    {
      "cell_type": "code",
      "source": [
        "evaluator_roc = BinaryClassificationEvaluator()\n",
        "print(\"LR - Test Area Under ROC: \" + str(evaluator_roc.evaluate(lr_prediction, {evaluator_roc.metricName: \"areaUnderROC\"})))"
      ],
      "metadata": {
        "colab": {
          "base_uri": "https://localhost:8080/"
        },
        "id": "zKYXjpCY2zeW",
        "outputId": "f611b498-c0a4-4d89-fb00-92932d9a93f2"
      },
      "execution_count": 61,
      "outputs": [
        {
          "output_type": "stream",
          "name": "stdout",
          "text": [
            "LR - Test Area Under ROC: 0.7918602553204137\n"
          ]
        }
      ]
    },
    {
      "cell_type": "code",
      "source": [
        "y_pred_lr = lr_prediction.select(\"prediction\").collect()\n",
        "y_orig_lr = lr_prediction.select(\"label\").collect()\n",
        "\n",
        "print(classification_report(y_orig_lr, y_pred_lr))\n"
      ],
      "metadata": {
        "colab": {
          "base_uri": "https://localhost:8080/"
        },
        "id": "HWJ1SWDe22ZW",
        "outputId": "2a5d1b60-4e73-422d-9e45-3141494019f0"
      },
      "execution_count": 69,
      "outputs": [
        {
          "output_type": "stream",
          "name": "stdout",
          "text": [
            "              precision    recall  f1-score   support\n",
            "\n",
            "         0.0       0.76      0.78      0.77      7352\n",
            "         1.0       0.74      0.72      0.73      6518\n",
            "\n",
            "    accuracy                           0.75     13870\n",
            "   macro avg       0.75      0.75      0.75     13870\n",
            "weighted avg       0.75      0.75      0.75     13870\n",
            "\n"
          ]
        }
      ]
    },
    {
      "cell_type": "markdown",
      "source": [
        "### Decision Tree"
      ],
      "metadata": {
        "id": "p2MSSA6ZwoMH"
      }
    },
    {
      "cell_type": "code",
      "source": [
        "#define the decision tree classifier model by using the DecisionTreeClassifier class \n",
        "#and fit model on train data. We can predict test data by using trasnform() method.\n",
        "\n",
        "dt = DecisionTreeClassifier(featuresCol = 'features', labelCol = 'label', maxDepth = 30)\n",
        "dt_model = dt.fit(train)\n",
        "dt_prediction = dt_model.transform(test)\n",
        "\n",
        "dt_prediction.show(5)"
      ],
      "metadata": {
        "colab": {
          "base_uri": "https://localhost:8080/"
        },
        "id": "zIiVmAzu2_bX",
        "outputId": "97e1c38c-8a86-471b-9605-f1462701bd0f"
      },
      "execution_count": 75,
      "outputs": [
        {
          "output_type": "stream",
          "name": "stdout",
          "text": [
            "+--------------------+-----+-------------+-----------+----------+\n",
            "|            features|label|rawPrediction|probability|prediction|\n",
            "+--------------------+-----+-------------+-----------+----------+\n",
            "|[0.0,93.2,-42.0,4...|  0.0|    [2.0,0.0]|  [1.0,0.0]|       0.0|\n",
            "|[1.0,92.893,-46.2...|  0.0|   [10.0,0.0]|  [1.0,0.0]|       0.0|\n",
            "|[1.0,93.075,-47.1...|  0.0|    [7.0,0.0]|  [1.0,0.0]|       0.0|\n",
            "|[1.0,93.2,-42.0,4...|  0.0|    [4.0,0.0]|  [1.0,0.0]|       0.0|\n",
            "|[2.0,93.075,-47.1...|  0.0|   [0.0,15.0]|  [0.0,1.0]|       1.0|\n",
            "+--------------------+-----+-------------+-----------+----------+\n",
            "only showing top 5 rows\n",
            "\n"
          ]
        }
      ]
    },
    {
      "cell_type": "code",
      "source": [
        "evaluator=MulticlassClassificationEvaluator(predictionCol=\"prediction\")\n",
        "acc = evaluator.evaluate(dt_prediction)\n",
        " \n",
        "print(\"Prediction Accuracy: \", acc)\n",
        " \n",
        "y_pred=dt_prediction.select(\"prediction\").collect()\n",
        "y_orig=dt_prediction.select(\"label\").collect()\n",
        "\n",
        "cm = confusion_matrix(y_orig, y_pred)\n",
        "print(\"Confusion Matrix:\")\n",
        "print(cm)\n"
      ],
      "metadata": {
        "colab": {
          "base_uri": "https://localhost:8080/"
        },
        "id": "ki-PRnWW3BHc",
        "outputId": "8a5c26e0-a775-4c96-f168-51294b7453c9"
      },
      "execution_count": 64,
      "outputs": [
        {
          "output_type": "stream",
          "name": "stdout",
          "text": [
            "Prediction Accuracy:  0.9021174345494256\n",
            "Confusion Matrix:\n",
            "[[6639  713]\n",
            " [ 645 5873]]\n"
          ]
        }
      ]
    },
    {
      "cell_type": "markdown",
      "source": [
        "#### DT Evaluation"
      ],
      "metadata": {
        "id": "JTYVvpBT3EGl"
      }
    },
    {
      "cell_type": "code",
      "source": [
        "print(\"Prediction Accuracy: \", acc)"
      ],
      "metadata": {
        "colab": {
          "base_uri": "https://localhost:8080/"
        },
        "id": "6lwHijWs3Fv0",
        "outputId": "c9c8acce-2c6e-4fc6-cb9d-dbbcd8cc7e5e"
      },
      "execution_count": 65,
      "outputs": [
        {
          "output_type": "stream",
          "name": "stdout",
          "text": [
            "Prediction Accuracy:  0.9021174345494256\n"
          ]
        }
      ]
    },
    {
      "cell_type": "code",
      "source": [
        "evaluator = BinaryClassificationEvaluator()\n",
        "print(\"Test Area Under ROC: \" + str(evaluator.evaluate(dt_prediction, {evaluator.metricName: \"areaUnderROC\"})))"
      ],
      "metadata": {
        "colab": {
          "base_uri": "https://localhost:8080/"
        },
        "id": "jr6TYnJd3HRP",
        "outputId": "ed427207-2ddd-49c9-8996-581b696c38d0"
      },
      "execution_count": 66,
      "outputs": [
        {
          "output_type": "stream",
          "name": "stdout",
          "text": [
            "Test Area Under ROC: 0.9438945607560013\n"
          ]
        }
      ]
    },
    {
      "cell_type": "code",
      "source": [
        "print(classification_report(y_orig, y_pred))"
      ],
      "metadata": {
        "colab": {
          "base_uri": "https://localhost:8080/"
        },
        "id": "qAJuq2tj3J3X",
        "outputId": "02028000-ca52-4f2c-94fd-84ca0bd53822"
      },
      "execution_count": 67,
      "outputs": [
        {
          "output_type": "stream",
          "name": "stdout",
          "text": [
            "              precision    recall  f1-score   support\n",
            "\n",
            "         0.0       0.91      0.90      0.91      7352\n",
            "         1.0       0.89      0.90      0.90      6518\n",
            "\n",
            "    accuracy                           0.90     13870\n",
            "   macro avg       0.90      0.90      0.90     13870\n",
            "weighted avg       0.90      0.90      0.90     13870\n",
            "\n"
          ]
        }
      ]
    },
    {
      "cell_type": "markdown",
      "source": [
        "### ROC Curve for LR and DT"
      ],
      "metadata": {
        "id": "s33avlmuFLTd"
      }
    },
    {
      "cell_type": "code",
      "source": [
        "# Need these function to plot ROC curve for DT since there is no training summary for DT\n",
        "\n",
        "from pyspark.mllib.evaluation import BinaryClassificationMetrics\n",
        "\n",
        "# Scala version implements .roc() and .pr()\n",
        "# Python: https://spark.apache.org/docs/latest/api/python/_modules/pyspark/mllib/common.html\n",
        "# Scala: https://spark.apache.org/docs/latest/api/java/org/apache/spark/mllib/evaluation/BinaryClassificationMetrics.html\n",
        "class CurveMetrics(BinaryClassificationMetrics):\n",
        "    def __init__(self, *args):\n",
        "        super(CurveMetrics, self).__init__(*args)\n",
        "\n",
        "    def _to_list(self, rdd):\n",
        "        points = []\n",
        "        # Note this collect could be inefficient for large datasets \n",
        "        # considering there may be one probability per datapoint (at most)\n",
        "        # The Scala version takes a numBins parameter, \n",
        "        # but it doesn't seem possible to pass this from Python to Java\n",
        "        for row in rdd.collect():\n",
        "            # Results are returned as type scala.Tuple2, \n",
        "            # which doesn't appear to have a py4j mapping\n",
        "            points += [(float(row._1()), float(row._2()))]\n",
        "        return points\n",
        "\n",
        "    def get_curve(self, method):\n",
        "        rdd = getattr(self._java_model, method)().toJavaRDD()\n",
        "        return self._to_list(rdd)"
      ],
      "metadata": {
        "id": "uMhg_VlfGj4c"
      },
      "execution_count": 74,
      "outputs": []
    },
    {
      "cell_type": "code",
      "source": [
        "# ROC curves\n",
        "\n",
        "preds = dt_prediction.select('label','probability').rdd.map(lambda row: (float(row['probability'][1]), float(row['label'])))\n",
        "points = CurveMetrics(preds).get_curve('roc')\n",
        "\n",
        "plt.figure(figsize=(6,5))\n",
        "dt_x_val = [x[0] for x in points]\n",
        "dt_y_val = [x[1] for x in points]\n",
        "\n",
        "lr_trainingSummary = lr_model.summary\n",
        "lr_roc = lr_trainingSummary.roc.toPandas()\n",
        "lr_x_val = lr_roc['FPR']\n",
        "lr_y_val = lr_roc['TPR']\n",
        "\n",
        "random_x = [0,1]\n",
        "random_y = [0,1]\n",
        "\n",
        "\n",
        "plt.plot(dt_x_val, dt_y_val, label = 'DT (AUC = 0.94)')\n",
        "plt.plot(lr_x_val, lr_y_val, label = 'LR (AUC = 0.79)')\n",
        "plt.plot(random_x, random_y, label = 'Random Guess', linestyle=\"--\")\n",
        "\n",
        "plt.ylabel('True Positive Rate')\n",
        "plt.xlabel('False Positive Rate')\n",
        "plt.legend()\n",
        "plt.show()"
      ],
      "metadata": {
        "colab": {
          "base_uri": "https://localhost:8080/",
          "height": 334
        },
        "id": "6HYSCsmEFwfQ",
        "outputId": "ba147015-f54f-46ed-d0a5-4ac71e7aca57"
      },
      "execution_count": 91,
      "outputs": [
        {
          "output_type": "display_data",
          "data": {
            "image/png": "[encoded data removed]",
            "text/plain": [
              "<Figure size 432x360 with 1 Axes>"
            ]
          },
          "metadata": {
            "needs_background": "light"
          }
        }
      ]
    },
    {
      "cell_type": "code",
      "source": [
        "# Precision-Recall curves\n",
        "\n",
        "points = CurveMetrics(preds).get_curve('pr')\n",
        "\n",
        "plt.figure(figsize=(6,5))\n",
        "dt_x_val = [x[0] for x in points]\n",
        "dt_y_val = [x[1] for x in points]\n",
        "\n",
        "pr = lr_trainingSummary.pr.toPandas()\n",
        "lr_x_val = pr['recall']\n",
        "lr_y_val = pr['precision']\n",
        "\n",
        "random_x = [0, 1]\n",
        "random_y = [0.4699, 0.46991]\n",
        "\n",
        "plt.plot(dt_x_val, dt_y_val, label = 'DT (AUC = 0.94)')\n",
        "plt.plot(lr_x_val, lr_y_val, label = 'LR (AUC = 0.79)')\n",
        "plt.plot(random_x, random_y, label = 'Random Guess', linestyle=\"--\")\n",
        "\n",
        "plt.ylabel('Precision')\n",
        "plt.xlabel('Recall')\n",
        "plt.legend()\n",
        "plt.show()"
      ],
      "metadata": {
        "colab": {
          "base_uri": "https://localhost:8080/",
          "height": 334
        },
        "id": "HMpkGjBwH9d6",
        "outputId": "a5409d0f-beb6-4910-fb44-dba63847be1f"
      },
      "execution_count": 94,
      "outputs": [
        {
          "output_type": "display_data",
          "data": {
            "image/png": "[encoded data removed]",
            "text/plain": [
              "<Figure size 432x360 with 1 Axes>"
            ]
          },
          "metadata": {
            "needs_background": "light"
          }
        }
      ]
    }
  ]
}